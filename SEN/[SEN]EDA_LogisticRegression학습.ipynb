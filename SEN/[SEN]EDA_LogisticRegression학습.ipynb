{
  "cells": [
    {
      "cell_type": "markdown",
      "metadata": {
        "id": "view-in-github",
        "colab_type": "text"
      },
      "source": [
        "<a href=\"https://colab.research.google.com/github/ssyeon2/Flight-Delay-Prediction/blob/main/SEN/%5BSEN%5DEDA_LogisticRegression%ED%95%99%EC%8A%B5.ipynb\" target=\"_parent\"><img src=\"https://colab.research.google.com/assets/colab-badge.svg\" alt=\"Open In Colab\"/></a>"
      ]
    },
    {
      "cell_type": "markdown",
      "metadata": {
        "id": "46469143-4dc6-45fc-a170-8f8ff0d5cadb"
      },
      "source": [
        "# Import"
      ],
      "id": "46469143-4dc6-45fc-a170-8f8ff0d5cadb"
    },
    {
      "cell_type": "code",
      "execution_count": null,
      "metadata": {
        "id": "92e7a046-0bad-4e73-be84-f1bb3cb4dd69"
      },
      "outputs": [],
      "source": [
        "import pandas as pd\n",
        "import numpy as np\n",
        "import random\n",
        "import os\n",
        "import gc\n",
        "import matplotlib.pyplot as plt\n",
        "import seaborn as sns\n",
        "\n",
        "from sklearn.ensemble import RandomForestClassifier\n",
        "from sklearn.preprocessing import LabelEncoder"
      ],
      "id": "92e7a046-0bad-4e73-be84-f1bb3cb4dd69"
    },
    {
      "cell_type": "code",
      "execution_count": null,
      "metadata": {
        "id": "e4a25bfd-d2ec-4340-a613-720494952bc1"
      },
      "outputs": [],
      "source": [
        "def seed_everything(seed):\n",
        "    random.seed(seed)\n",
        "    os.environ['PYTHONHASHSEED'] = str(seed)\n",
        "    np.random.seed(seed)\n",
        "seed_everything(42) # Seed 고정"
      ],
      "id": "e4a25bfd-d2ec-4340-a613-720494952bc1"
    },
    {
      "cell_type": "markdown",
      "metadata": {
        "id": "817bc98a-2046-4da1-8878-5104ba931bc3"
      },
      "source": [
        "# csv to parquet\n",
        "메모리에 효율적인 데이터 유형을 사용하여 용량을 줄이고 빠른 작업이 가능합니다"
      ],
      "id": "817bc98a-2046-4da1-8878-5104ba931bc3"
    },
    {
      "cell_type": "code",
      "execution_count": null,
      "metadata": {
        "colab": {
          "base_uri": "https://localhost:8080/"
        },
        "id": "aVKZ4TJP3Ak4",
        "outputId": "52275ef8-61df-4baf-c705-d5ce06c3963c"
      },
      "outputs": [
        {
          "output_type": "stream",
          "name": "stdout",
          "text": [
            "Mounted at /content/drive\n"
          ]
        }
      ],
      "source": [
        "from google.colab import drive\n",
        "drive.mount('/content/drive')"
      ],
      "id": "aVKZ4TJP3Ak4"
    },
    {
      "cell_type": "code",
      "execution_count": null,
      "metadata": {
        "id": "2d5e4bd1-100d-4c50-89bf-59fe47b4cdc5"
      },
      "outputs": [],
      "source": [
        "def csv_to_parquet(csv_path, save_name):\n",
        "    df = pd.read_csv(csv_path)\n",
        "    df.to_parquet(f'./{save_name}.parquet')\n",
        "    del df\n",
        "    gc.collect()\n",
        "    print(save_name, 'Done.')"
      ],
      "id": "2d5e4bd1-100d-4c50-89bf-59fe47b4cdc5"
    },
    {
      "cell_type": "code",
      "execution_count": null,
      "metadata": {
        "colab": {
          "base_uri": "https://localhost:8080/"
        },
        "id": "5adaf4ff-d681-43a1-b90f-f674481a4700",
        "outputId": "14d029f4-8df4-4238-d77e-462ae886aabe"
      },
      "outputs": [
        {
          "output_type": "stream",
          "name": "stdout",
          "text": [
            "train Done.\n",
            "test Done.\n"
          ]
        }
      ],
      "source": [
        "csv_to_parquet('/content/drive/MyDrive/공모전/항공편 지연 예측 AI 경진대회/open/train.csv', 'train')\n",
        "csv_to_parquet('/content/drive/MyDrive/공모전/항공편 지연 예측 AI 경진대회/open/test.csv', 'test')"
      ],
      "id": "5adaf4ff-d681-43a1-b90f-f674481a4700"
    },
    {
      "cell_type": "markdown",
      "metadata": {
        "id": "207c6ea8-f8eb-4b87-9783-1930ee9417f1"
      },
      "source": [
        "# Data Load"
      ],
      "id": "207c6ea8-f8eb-4b87-9783-1930ee9417f1"
    },
    {
      "cell_type": "markdown",
      "metadata": {
        "id": "9-pz5G9jBrGy"
      },
      "source": [
        "**Columns**\n",
        "- ID : 샘플 고유 id\n",
        "항공편 운항 관련 정보\n",
        "- Month: 해당 항공편의 출발 월\n",
        "- Day_of_Month: Month에 해당하는 월의 날짜\n",
        "- Estimated_Departure_Time: 전산 시스템을 바탕으로 측정된 비행기의 출발 시간 (HH:MM 형식)\n",
        "- Estimated_Arrival_Time: 전산 시스템을 바탕으로 측정된 비행기의 도착 시간 (HH:MM 형식)\n",
        "- Cancelled: 해당 항공편의 취소 여부 (0: 취소되지 않음, 1: 취소됨)\n",
        "- Diverted: 해당 항공편의 경유 여부 (0: 취소되지 않음, 1: 취소됨)\n",
        "- Origin_Airport: 해당 항공편 출발 공항의 고유 코드 (IATA 공항 코드)\n",
        "- Origin_Airport_ID: 해당 항공편 출발 공항의 고유 ID (US DOT ID)\n",
        "- Origin_State: 해당 항공편 출발 공항이 위치한 주의 이름\n",
        "- Destination_Airport: 해당 항공편 도착 공항의 고유 코드 (IATA 공항 코드)\n",
        "- Destination_Airport_ID: 해당 항공편 도착 공항의 고유 ID (US DOT ID)\n",
        "- Destination_State: 해당 항공편 도착 공항이 위치한 주의 이름\n",
        "- Distance: 출발 공항과 도착 공항 사이의 거리 (mile 단위)\n",
        "- Airline: 해당 항공편을 운항하는 항공사\n",
        "- Carrier_Code(IATA): 해당 항공편을 운항하는 항공사의 고유 코드\n",
        "    - (IATA 공항 코드, 단 다른 항공사가 같은 코드를 보유할 수도 있음)\n",
        "- Carrier_ID(DOT): 해당 항공편을 운항하는 항공사의 고유 ID (US DOT ID)\n",
        "- Tail_Number: 해당 항공편을 운항하는 항공기의 고유 등록번호\n",
        "- Delay: 항공편 지연 여부 (Not_Delayed, Delayed)\n",
        "    - 예측해야 하는 타깃\n",
        "    - 다수의 데이터에 레이블이 존재하지 않음\n",
        "    - 준지도학습을 통해 레이블링 가능"
      ],
      "id": "9-pz5G9jBrGy"
    },
    {
      "cell_type": "code",
      "execution_count": null,
      "metadata": {
        "id": "0efe7ed9-f622-4790-b9f1-cae9490a29ba"
      },
      "outputs": [],
      "source": [
        "train = pd.read_parquet('./train.parquet')\n",
        "test = pd.read_parquet('./test.parquet')\n",
        "sample_submission = pd.read_csv('/content/drive/MyDrive/공모전/항공편 지연 예측 AI 경진대회/open/sample_submission.csv', index_col = 0)"
      ],
      "id": "0efe7ed9-f622-4790-b9f1-cae9490a29ba"
    },
    {
      "cell_type": "markdown",
      "metadata": {
        "id": "HREo87smGEfl"
      },
      "source": [
        "# 데이터 살펴보기"
      ],
      "id": "HREo87smGEfl"
    },
    {
      "cell_type": "code",
      "execution_count": null,
      "metadata": {
        "colab": {
          "base_uri": "https://localhost:8080/",
          "height": 311
        },
        "id": "bau43GrjGNek",
        "outputId": "b6b4b335-7acf-4bac-c754-e6983ef25bc5"
      },
      "outputs": [
        {
          "output_type": "execute_result",
          "data": {
            "text/plain": [
              "             ID  Month  Day_of_Month  Estimated_Departure_Time  \\\n",
              "0  TRAIN_000000      4            15                       NaN   \n",
              "1  TRAIN_000001      8            15                     740.0   \n",
              "2  TRAIN_000002      9             6                    1610.0   \n",
              "\n",
              "   Estimated_Arrival_Time  Cancelled  Diverted Origin_Airport  \\\n",
              "0                     NaN          0         0            OKC   \n",
              "1                  1024.0          0         0            ORD   \n",
              "2                  1805.0          0         0            CLT   \n",
              "\n",
              "   Origin_Airport_ID    Origin_State Destination_Airport  \\\n",
              "0              13851        Oklahoma                 HOU   \n",
              "1              13930        Illinois                 SLC   \n",
              "2              11057  North Carolina                 LGA   \n",
              "\n",
              "   Destination_Airport_ID Destination_State  Distance                 Airline  \\\n",
              "0                   12191             Texas     419.0  Southwest Airlines Co.   \n",
              "1                   14869              Utah    1250.0   SkyWest Airlines Inc.   \n",
              "2                   12953          New York     544.0  American Airlines Inc.   \n",
              "\n",
              "  Carrier_Code(IATA)  Carrier_ID(DOT) Tail_Number Delay  \n",
              "0                 WN          19393.0      N7858A  None  \n",
              "1                 UA          20304.0      N125SY  None  \n",
              "2                 AA          19805.0      N103US  None  "
            ],
            "text/html": [
              "\n",
              "  <div id=\"df-6b31d75f-bcbc-44b0-a93c-acc4278ecf26\">\n",
              "    <div class=\"colab-df-container\">\n",
              "      <div>\n",
              "<style scoped>\n",
              "    .dataframe tbody tr th:only-of-type {\n",
              "        vertical-align: middle;\n",
              "    }\n",
              "\n",
              "    .dataframe tbody tr th {\n",
              "        vertical-align: top;\n",
              "    }\n",
              "\n",
              "    .dataframe thead th {\n",
              "        text-align: right;\n",
              "    }\n",
              "</style>\n",
              "<table border=\"1\" class=\"dataframe\">\n",
              "  <thead>\n",
              "    <tr style=\"text-align: right;\">\n",
              "      <th></th>\n",
              "      <th>ID</th>\n",
              "      <th>Month</th>\n",
              "      <th>Day_of_Month</th>\n",
              "      <th>Estimated_Departure_Time</th>\n",
              "      <th>Estimated_Arrival_Time</th>\n",
              "      <th>Cancelled</th>\n",
              "      <th>Diverted</th>\n",
              "      <th>Origin_Airport</th>\n",
              "      <th>Origin_Airport_ID</th>\n",
              "      <th>Origin_State</th>\n",
              "      <th>Destination_Airport</th>\n",
              "      <th>Destination_Airport_ID</th>\n",
              "      <th>Destination_State</th>\n",
              "      <th>Distance</th>\n",
              "      <th>Airline</th>\n",
              "      <th>Carrier_Code(IATA)</th>\n",
              "      <th>Carrier_ID(DOT)</th>\n",
              "      <th>Tail_Number</th>\n",
              "      <th>Delay</th>\n",
              "    </tr>\n",
              "  </thead>\n",
              "  <tbody>\n",
              "    <tr>\n",
              "      <th>0</th>\n",
              "      <td>TRAIN_000000</td>\n",
              "      <td>4</td>\n",
              "      <td>15</td>\n",
              "      <td>NaN</td>\n",
              "      <td>NaN</td>\n",
              "      <td>0</td>\n",
              "      <td>0</td>\n",
              "      <td>OKC</td>\n",
              "      <td>13851</td>\n",
              "      <td>Oklahoma</td>\n",
              "      <td>HOU</td>\n",
              "      <td>12191</td>\n",
              "      <td>Texas</td>\n",
              "      <td>419.0</td>\n",
              "      <td>Southwest Airlines Co.</td>\n",
              "      <td>WN</td>\n",
              "      <td>19393.0</td>\n",
              "      <td>N7858A</td>\n",
              "      <td>None</td>\n",
              "    </tr>\n",
              "    <tr>\n",
              "      <th>1</th>\n",
              "      <td>TRAIN_000001</td>\n",
              "      <td>8</td>\n",
              "      <td>15</td>\n",
              "      <td>740.0</td>\n",
              "      <td>1024.0</td>\n",
              "      <td>0</td>\n",
              "      <td>0</td>\n",
              "      <td>ORD</td>\n",
              "      <td>13930</td>\n",
              "      <td>Illinois</td>\n",
              "      <td>SLC</td>\n",
              "      <td>14869</td>\n",
              "      <td>Utah</td>\n",
              "      <td>1250.0</td>\n",
              "      <td>SkyWest Airlines Inc.</td>\n",
              "      <td>UA</td>\n",
              "      <td>20304.0</td>\n",
              "      <td>N125SY</td>\n",
              "      <td>None</td>\n",
              "    </tr>\n",
              "    <tr>\n",
              "      <th>2</th>\n",
              "      <td>TRAIN_000002</td>\n",
              "      <td>9</td>\n",
              "      <td>6</td>\n",
              "      <td>1610.0</td>\n",
              "      <td>1805.0</td>\n",
              "      <td>0</td>\n",
              "      <td>0</td>\n",
              "      <td>CLT</td>\n",
              "      <td>11057</td>\n",
              "      <td>North Carolina</td>\n",
              "      <td>LGA</td>\n",
              "      <td>12953</td>\n",
              "      <td>New York</td>\n",
              "      <td>544.0</td>\n",
              "      <td>American Airlines Inc.</td>\n",
              "      <td>AA</td>\n",
              "      <td>19805.0</td>\n",
              "      <td>N103US</td>\n",
              "      <td>None</td>\n",
              "    </tr>\n",
              "  </tbody>\n",
              "</table>\n",
              "</div>\n",
              "      <button class=\"colab-df-convert\" onclick=\"convertToInteractive('df-6b31d75f-bcbc-44b0-a93c-acc4278ecf26')\"\n",
              "              title=\"Convert this dataframe to an interactive table.\"\n",
              "              style=\"display:none;\">\n",
              "        \n",
              "  <svg xmlns=\"http://www.w3.org/2000/svg\" height=\"24px\"viewBox=\"0 0 24 24\"\n",
              "       width=\"24px\">\n",
              "    <path d=\"M0 0h24v24H0V0z\" fill=\"none\"/>\n",
              "    <path d=\"M18.56 5.44l.94 2.06.94-2.06 2.06-.94-2.06-.94-.94-2.06-.94 2.06-2.06.94zm-11 1L8.5 8.5l.94-2.06 2.06-.94-2.06-.94L8.5 2.5l-.94 2.06-2.06.94zm10 10l.94 2.06.94-2.06 2.06-.94-2.06-.94-.94-2.06-.94 2.06-2.06.94z\"/><path d=\"M17.41 7.96l-1.37-1.37c-.4-.4-.92-.59-1.43-.59-.52 0-1.04.2-1.43.59L10.3 9.45l-7.72 7.72c-.78.78-.78 2.05 0 2.83L4 21.41c.39.39.9.59 1.41.59.51 0 1.02-.2 1.41-.59l7.78-7.78 2.81-2.81c.8-.78.8-2.07 0-2.86zM5.41 20L4 18.59l7.72-7.72 1.47 1.35L5.41 20z\"/>\n",
              "  </svg>\n",
              "      </button>\n",
              "      \n",
              "  <style>\n",
              "    .colab-df-container {\n",
              "      display:flex;\n",
              "      flex-wrap:wrap;\n",
              "      gap: 12px;\n",
              "    }\n",
              "\n",
              "    .colab-df-convert {\n",
              "      background-color: #E8F0FE;\n",
              "      border: none;\n",
              "      border-radius: 50%;\n",
              "      cursor: pointer;\n",
              "      display: none;\n",
              "      fill: #1967D2;\n",
              "      height: 32px;\n",
              "      padding: 0 0 0 0;\n",
              "      width: 32px;\n",
              "    }\n",
              "\n",
              "    .colab-df-convert:hover {\n",
              "      background-color: #E2EBFA;\n",
              "      box-shadow: 0px 1px 2px rgba(60, 64, 67, 0.3), 0px 1px 3px 1px rgba(60, 64, 67, 0.15);\n",
              "      fill: #174EA6;\n",
              "    }\n",
              "\n",
              "    [theme=dark] .colab-df-convert {\n",
              "      background-color: #3B4455;\n",
              "      fill: #D2E3FC;\n",
              "    }\n",
              "\n",
              "    [theme=dark] .colab-df-convert:hover {\n",
              "      background-color: #434B5C;\n",
              "      box-shadow: 0px 1px 3px 1px rgba(0, 0, 0, 0.15);\n",
              "      filter: drop-shadow(0px 1px 2px rgba(0, 0, 0, 0.3));\n",
              "      fill: #FFFFFF;\n",
              "    }\n",
              "  </style>\n",
              "\n",
              "      <script>\n",
              "        const buttonEl =\n",
              "          document.querySelector('#df-6b31d75f-bcbc-44b0-a93c-acc4278ecf26 button.colab-df-convert');\n",
              "        buttonEl.style.display =\n",
              "          google.colab.kernel.accessAllowed ? 'block' : 'none';\n",
              "\n",
              "        async function convertToInteractive(key) {\n",
              "          const element = document.querySelector('#df-6b31d75f-bcbc-44b0-a93c-acc4278ecf26');\n",
              "          const dataTable =\n",
              "            await google.colab.kernel.invokeFunction('convertToInteractive',\n",
              "                                                     [key], {});\n",
              "          if (!dataTable) return;\n",
              "\n",
              "          const docLinkHtml = 'Like what you see? Visit the ' +\n",
              "            '<a target=\"_blank\" href=https://colab.research.google.com/notebooks/data_table.ipynb>data table notebook</a>'\n",
              "            + ' to learn more about interactive tables.';\n",
              "          element.innerHTML = '';\n",
              "          dataTable['output_type'] = 'display_data';\n",
              "          await google.colab.output.renderOutput(dataTable, element);\n",
              "          const docLink = document.createElement('div');\n",
              "          docLink.innerHTML = docLinkHtml;\n",
              "          element.appendChild(docLink);\n",
              "        }\n",
              "      </script>\n",
              "    </div>\n",
              "  </div>\n",
              "  "
            ]
          },
          "metadata": {},
          "execution_count": 7
        }
      ],
      "source": [
        "train.head(3)"
      ],
      "id": "bau43GrjGNek"
    },
    {
      "cell_type": "code",
      "execution_count": null,
      "metadata": {
        "colab": {
          "base_uri": "https://localhost:8080/",
          "height": 311
        },
        "id": "SxB6PZwEx1ty",
        "outputId": "24ff750d-65b7-4b6e-c351-2e9b7e506407"
      },
      "outputs": [
        {
          "output_type": "execute_result",
          "data": {
            "text/plain": [
              "            ID  Month  Day_of_Month  Estimated_Departure_Time  \\\n",
              "0  TEST_000000     12            16                    1156.0   \n",
              "1  TEST_000001      9            12                    1500.0   \n",
              "2  TEST_000002      3             6                    1600.0   \n",
              "\n",
              "   Estimated_Arrival_Time  Cancelled  Diverted Origin_Airport  \\\n",
              "0                     NaN          0         0            IAH   \n",
              "1                  1715.0          0         0            EWR   \n",
              "2                  1915.0          0         0            ORD   \n",
              "\n",
              "   Origin_Airport_ID Origin_State Destination_Airport  Destination_Airport_ID  \\\n",
              "0              12266        Texas                 SAT                   14683   \n",
              "1              11618   New Jersey                 ATL                   10397   \n",
              "2              13930     Illinois                 LGA                   12953   \n",
              "\n",
              "  Destination_State  Distance                Airline Carrier_Code(IATA)  \\\n",
              "0             Texas     191.0  United Air Lines Inc.                 UA   \n",
              "1              None     746.0   Delta Air Lines Inc.                 DL   \n",
              "2          New York     733.0  United Air Lines Inc.                 UA   \n",
              "\n",
              "   Carrier_ID(DOT) Tail_Number  \n",
              "0              NaN      N79402  \n",
              "1          19790.0       N3765  \n",
              "2          19977.0      N413UA  "
            ],
            "text/html": [
              "\n",
              "  <div id=\"df-0387c040-77b7-459e-bcd3-305122ee0bca\">\n",
              "    <div class=\"colab-df-container\">\n",
              "      <div>\n",
              "<style scoped>\n",
              "    .dataframe tbody tr th:only-of-type {\n",
              "        vertical-align: middle;\n",
              "    }\n",
              "\n",
              "    .dataframe tbody tr th {\n",
              "        vertical-align: top;\n",
              "    }\n",
              "\n",
              "    .dataframe thead th {\n",
              "        text-align: right;\n",
              "    }\n",
              "</style>\n",
              "<table border=\"1\" class=\"dataframe\">\n",
              "  <thead>\n",
              "    <tr style=\"text-align: right;\">\n",
              "      <th></th>\n",
              "      <th>ID</th>\n",
              "      <th>Month</th>\n",
              "      <th>Day_of_Month</th>\n",
              "      <th>Estimated_Departure_Time</th>\n",
              "      <th>Estimated_Arrival_Time</th>\n",
              "      <th>Cancelled</th>\n",
              "      <th>Diverted</th>\n",
              "      <th>Origin_Airport</th>\n",
              "      <th>Origin_Airport_ID</th>\n",
              "      <th>Origin_State</th>\n",
              "      <th>Destination_Airport</th>\n",
              "      <th>Destination_Airport_ID</th>\n",
              "      <th>Destination_State</th>\n",
              "      <th>Distance</th>\n",
              "      <th>Airline</th>\n",
              "      <th>Carrier_Code(IATA)</th>\n",
              "      <th>Carrier_ID(DOT)</th>\n",
              "      <th>Tail_Number</th>\n",
              "    </tr>\n",
              "  </thead>\n",
              "  <tbody>\n",
              "    <tr>\n",
              "      <th>0</th>\n",
              "      <td>TEST_000000</td>\n",
              "      <td>12</td>\n",
              "      <td>16</td>\n",
              "      <td>1156.0</td>\n",
              "      <td>NaN</td>\n",
              "      <td>0</td>\n",
              "      <td>0</td>\n",
              "      <td>IAH</td>\n",
              "      <td>12266</td>\n",
              "      <td>Texas</td>\n",
              "      <td>SAT</td>\n",
              "      <td>14683</td>\n",
              "      <td>Texas</td>\n",
              "      <td>191.0</td>\n",
              "      <td>United Air Lines Inc.</td>\n",
              "      <td>UA</td>\n",
              "      <td>NaN</td>\n",
              "      <td>N79402</td>\n",
              "    </tr>\n",
              "    <tr>\n",
              "      <th>1</th>\n",
              "      <td>TEST_000001</td>\n",
              "      <td>9</td>\n",
              "      <td>12</td>\n",
              "      <td>1500.0</td>\n",
              "      <td>1715.0</td>\n",
              "      <td>0</td>\n",
              "      <td>0</td>\n",
              "      <td>EWR</td>\n",
              "      <td>11618</td>\n",
              "      <td>New Jersey</td>\n",
              "      <td>ATL</td>\n",
              "      <td>10397</td>\n",
              "      <td>None</td>\n",
              "      <td>746.0</td>\n",
              "      <td>Delta Air Lines Inc.</td>\n",
              "      <td>DL</td>\n",
              "      <td>19790.0</td>\n",
              "      <td>N3765</td>\n",
              "    </tr>\n",
              "    <tr>\n",
              "      <th>2</th>\n",
              "      <td>TEST_000002</td>\n",
              "      <td>3</td>\n",
              "      <td>6</td>\n",
              "      <td>1600.0</td>\n",
              "      <td>1915.0</td>\n",
              "      <td>0</td>\n",
              "      <td>0</td>\n",
              "      <td>ORD</td>\n",
              "      <td>13930</td>\n",
              "      <td>Illinois</td>\n",
              "      <td>LGA</td>\n",
              "      <td>12953</td>\n",
              "      <td>New York</td>\n",
              "      <td>733.0</td>\n",
              "      <td>United Air Lines Inc.</td>\n",
              "      <td>UA</td>\n",
              "      <td>19977.0</td>\n",
              "      <td>N413UA</td>\n",
              "    </tr>\n",
              "  </tbody>\n",
              "</table>\n",
              "</div>\n",
              "      <button class=\"colab-df-convert\" onclick=\"convertToInteractive('df-0387c040-77b7-459e-bcd3-305122ee0bca')\"\n",
              "              title=\"Convert this dataframe to an interactive table.\"\n",
              "              style=\"display:none;\">\n",
              "        \n",
              "  <svg xmlns=\"http://www.w3.org/2000/svg\" height=\"24px\"viewBox=\"0 0 24 24\"\n",
              "       width=\"24px\">\n",
              "    <path d=\"M0 0h24v24H0V0z\" fill=\"none\"/>\n",
              "    <path d=\"M18.56 5.44l.94 2.06.94-2.06 2.06-.94-2.06-.94-.94-2.06-.94 2.06-2.06.94zm-11 1L8.5 8.5l.94-2.06 2.06-.94-2.06-.94L8.5 2.5l-.94 2.06-2.06.94zm10 10l.94 2.06.94-2.06 2.06-.94-2.06-.94-.94-2.06-.94 2.06-2.06.94z\"/><path d=\"M17.41 7.96l-1.37-1.37c-.4-.4-.92-.59-1.43-.59-.52 0-1.04.2-1.43.59L10.3 9.45l-7.72 7.72c-.78.78-.78 2.05 0 2.83L4 21.41c.39.39.9.59 1.41.59.51 0 1.02-.2 1.41-.59l7.78-7.78 2.81-2.81c.8-.78.8-2.07 0-2.86zM5.41 20L4 18.59l7.72-7.72 1.47 1.35L5.41 20z\"/>\n",
              "  </svg>\n",
              "      </button>\n",
              "      \n",
              "  <style>\n",
              "    .colab-df-container {\n",
              "      display:flex;\n",
              "      flex-wrap:wrap;\n",
              "      gap: 12px;\n",
              "    }\n",
              "\n",
              "    .colab-df-convert {\n",
              "      background-color: #E8F0FE;\n",
              "      border: none;\n",
              "      border-radius: 50%;\n",
              "      cursor: pointer;\n",
              "      display: none;\n",
              "      fill: #1967D2;\n",
              "      height: 32px;\n",
              "      padding: 0 0 0 0;\n",
              "      width: 32px;\n",
              "    }\n",
              "\n",
              "    .colab-df-convert:hover {\n",
              "      background-color: #E2EBFA;\n",
              "      box-shadow: 0px 1px 2px rgba(60, 64, 67, 0.3), 0px 1px 3px 1px rgba(60, 64, 67, 0.15);\n",
              "      fill: #174EA6;\n",
              "    }\n",
              "\n",
              "    [theme=dark] .colab-df-convert {\n",
              "      background-color: #3B4455;\n",
              "      fill: #D2E3FC;\n",
              "    }\n",
              "\n",
              "    [theme=dark] .colab-df-convert:hover {\n",
              "      background-color: #434B5C;\n",
              "      box-shadow: 0px 1px 3px 1px rgba(0, 0, 0, 0.15);\n",
              "      filter: drop-shadow(0px 1px 2px rgba(0, 0, 0, 0.3));\n",
              "      fill: #FFFFFF;\n",
              "    }\n",
              "  </style>\n",
              "\n",
              "      <script>\n",
              "        const buttonEl =\n",
              "          document.querySelector('#df-0387c040-77b7-459e-bcd3-305122ee0bca button.colab-df-convert');\n",
              "        buttonEl.style.display =\n",
              "          google.colab.kernel.accessAllowed ? 'block' : 'none';\n",
              "\n",
              "        async function convertToInteractive(key) {\n",
              "          const element = document.querySelector('#df-0387c040-77b7-459e-bcd3-305122ee0bca');\n",
              "          const dataTable =\n",
              "            await google.colab.kernel.invokeFunction('convertToInteractive',\n",
              "                                                     [key], {});\n",
              "          if (!dataTable) return;\n",
              "\n",
              "          const docLinkHtml = 'Like what you see? Visit the ' +\n",
              "            '<a target=\"_blank\" href=https://colab.research.google.com/notebooks/data_table.ipynb>data table notebook</a>'\n",
              "            + ' to learn more about interactive tables.';\n",
              "          element.innerHTML = '';\n",
              "          dataTable['output_type'] = 'display_data';\n",
              "          await google.colab.output.renderOutput(dataTable, element);\n",
              "          const docLink = document.createElement('div');\n",
              "          docLink.innerHTML = docLinkHtml;\n",
              "          element.appendChild(docLink);\n",
              "        }\n",
              "      </script>\n",
              "    </div>\n",
              "  </div>\n",
              "  "
            ]
          },
          "metadata": {},
          "execution_count": 8
        }
      ],
      "source": [
        "test.head(3)"
      ],
      "id": "SxB6PZwEx1ty"
    },
    {
      "cell_type": "code",
      "execution_count": null,
      "metadata": {
        "colab": {
          "base_uri": "https://localhost:8080/"
        },
        "id": "fBme606dGIms",
        "outputId": "e817d740-7571-4bdc-bd09-51e792262cbf"
      },
      "outputs": [
        {
          "output_type": "stream",
          "name": "stdout",
          "text": [
            "<class 'pandas.core.frame.DataFrame'>\n",
            "RangeIndex: 1000000 entries, 0 to 999999\n",
            "Data columns (total 19 columns):\n",
            " #   Column                    Non-Null Count    Dtype  \n",
            "---  ------                    --------------    -----  \n",
            " 0   ID                        1000000 non-null  object \n",
            " 1   Month                     1000000 non-null  int64  \n",
            " 2   Day_of_Month              1000000 non-null  int64  \n",
            " 3   Estimated_Departure_Time  890981 non-null   float64\n",
            " 4   Estimated_Arrival_Time    890960 non-null   float64\n",
            " 5   Cancelled                 1000000 non-null  int64  \n",
            " 6   Diverted                  1000000 non-null  int64  \n",
            " 7   Origin_Airport            1000000 non-null  object \n",
            " 8   Origin_Airport_ID         1000000 non-null  int64  \n",
            " 9   Origin_State              890985 non-null   object \n",
            " 10  Destination_Airport       1000000 non-null  object \n",
            " 11  Destination_Airport_ID    1000000 non-null  int64  \n",
            " 12  Destination_State         890921 non-null   object \n",
            " 13  Distance                  1000000 non-null  float64\n",
            " 14  Airline                   891080 non-null   object \n",
            " 15  Carrier_Code(IATA)        891010 non-null   object \n",
            " 16  Carrier_ID(DOT)           891003 non-null   float64\n",
            " 17  Tail_Number               1000000 non-null  object \n",
            " 18  Delay                     255001 non-null   object \n",
            "dtypes: float64(4), int64(6), object(9)\n",
            "memory usage: 145.0+ MB\n"
          ]
        }
      ],
      "source": [
        "train.info()"
      ],
      "id": "fBme606dGIms"
    },
    {
      "cell_type": "code",
      "execution_count": null,
      "metadata": {
        "colab": {
          "base_uri": "https://localhost:8080/"
        },
        "id": "56oqaWFJyEJn",
        "outputId": "1c79fd85-7ff4-4782-87dc-e27158a75045"
      },
      "outputs": [
        {
          "output_type": "stream",
          "name": "stdout",
          "text": [
            "<class 'pandas.core.frame.DataFrame'>\n",
            "RangeIndex: 1000000 entries, 0 to 999999\n",
            "Data columns (total 18 columns):\n",
            " #   Column                    Non-Null Count    Dtype  \n",
            "---  ------                    --------------    -----  \n",
            " 0   ID                        1000000 non-null  object \n",
            " 1   Month                     1000000 non-null  int64  \n",
            " 2   Day_of_Month              1000000 non-null  int64  \n",
            " 3   Estimated_Departure_Time  891016 non-null   float64\n",
            " 4   Estimated_Arrival_Time    890952 non-null   float64\n",
            " 5   Cancelled                 1000000 non-null  int64  \n",
            " 6   Diverted                  1000000 non-null  int64  \n",
            " 7   Origin_Airport            1000000 non-null  object \n",
            " 8   Origin_Airport_ID         1000000 non-null  int64  \n",
            " 9   Origin_State              893495 non-null   object \n",
            " 10  Destination_Airport       1000000 non-null  object \n",
            " 11  Destination_Airport_ID    1000000 non-null  int64  \n",
            " 12  Destination_State         893477 non-null   object \n",
            " 13  Distance                  1000000 non-null  float64\n",
            " 14  Airline                   893473 non-null   object \n",
            " 15  Carrier_Code(IATA)        891007 non-null   object \n",
            " 16  Carrier_ID(DOT)           890994 non-null   float64\n",
            " 17  Tail_Number               1000000 non-null  object \n",
            "dtypes: float64(4), int64(6), object(8)\n",
            "memory usage: 137.3+ MB\n"
          ]
        }
      ],
      "source": [
        "test.info()"
      ],
      "id": "56oqaWFJyEJn"
    },
    {
      "cell_type": "code",
      "execution_count": null,
      "metadata": {
        "colab": {
          "base_uri": "https://localhost:8080/",
          "height": 259
        },
        "id": "kSDvIZe1Gdys",
        "outputId": "4edf4503-b790-4aa7-9ce5-b5efe6ac5238"
      },
      "outputs": [
        {
          "output_type": "execute_result",
          "data": {
            "text/plain": [
              "                  ID  Month  Day_of_Month  Estimated_Departure_Time  \\\n",
              "999997  TRAIN_999997      6            28                     800.0   \n",
              "999998  TRAIN_999998      9            27                    1613.0   \n",
              "999999  TRAIN_999999      3            26                    1800.0   \n",
              "\n",
              "        Estimated_Arrival_Time  Cancelled  Diverted Origin_Airport  \\\n",
              "999997                  1340.0          0         0            OAK   \n",
              "999998                  1824.0          0         0            BNA   \n",
              "999999                  2056.0          0         0            RSW   \n",
              "\n",
              "        Origin_Airport_ID Origin_State Destination_Airport  \\\n",
              "999997              13796         None                 HOU   \n",
              "999998              10693    Tennessee                 ATL   \n",
              "999999              14635      Florida                 DTW   \n",
              "\n",
              "        Destination_Airport_ID Destination_State  Distance  \\\n",
              "999997                   12191             Texas    1642.0   \n",
              "999998                   10397              None     214.0   \n",
              "999999                   11433          Michigan    1084.0   \n",
              "\n",
              "                       Airline Carrier_Code(IATA)  Carrier_ID(DOT)  \\\n",
              "999997  Southwest Airlines Co.                 WN          19393.0   \n",
              "999998    Delta Air Lines Inc.                 DL          19790.0   \n",
              "999999                    None                 DL          19790.0   \n",
              "\n",
              "       Tail_Number Delay  \n",
              "999997      N230WN  None  \n",
              "999998      N968DL  None  \n",
              "999999      N695DL  None  "
            ],
            "text/html": [
              "\n",
              "  <div id=\"df-efc9d5d2-f60f-45a7-8447-b0b8c383dd68\">\n",
              "    <div class=\"colab-df-container\">\n",
              "      <div>\n",
              "<style scoped>\n",
              "    .dataframe tbody tr th:only-of-type {\n",
              "        vertical-align: middle;\n",
              "    }\n",
              "\n",
              "    .dataframe tbody tr th {\n",
              "        vertical-align: top;\n",
              "    }\n",
              "\n",
              "    .dataframe thead th {\n",
              "        text-align: right;\n",
              "    }\n",
              "</style>\n",
              "<table border=\"1\" class=\"dataframe\">\n",
              "  <thead>\n",
              "    <tr style=\"text-align: right;\">\n",
              "      <th></th>\n",
              "      <th>ID</th>\n",
              "      <th>Month</th>\n",
              "      <th>Day_of_Month</th>\n",
              "      <th>Estimated_Departure_Time</th>\n",
              "      <th>Estimated_Arrival_Time</th>\n",
              "      <th>Cancelled</th>\n",
              "      <th>Diverted</th>\n",
              "      <th>Origin_Airport</th>\n",
              "      <th>Origin_Airport_ID</th>\n",
              "      <th>Origin_State</th>\n",
              "      <th>Destination_Airport</th>\n",
              "      <th>Destination_Airport_ID</th>\n",
              "      <th>Destination_State</th>\n",
              "      <th>Distance</th>\n",
              "      <th>Airline</th>\n",
              "      <th>Carrier_Code(IATA)</th>\n",
              "      <th>Carrier_ID(DOT)</th>\n",
              "      <th>Tail_Number</th>\n",
              "      <th>Delay</th>\n",
              "    </tr>\n",
              "  </thead>\n",
              "  <tbody>\n",
              "    <tr>\n",
              "      <th>999997</th>\n",
              "      <td>TRAIN_999997</td>\n",
              "      <td>6</td>\n",
              "      <td>28</td>\n",
              "      <td>800.0</td>\n",
              "      <td>1340.0</td>\n",
              "      <td>0</td>\n",
              "      <td>0</td>\n",
              "      <td>OAK</td>\n",
              "      <td>13796</td>\n",
              "      <td>None</td>\n",
              "      <td>HOU</td>\n",
              "      <td>12191</td>\n",
              "      <td>Texas</td>\n",
              "      <td>1642.0</td>\n",
              "      <td>Southwest Airlines Co.</td>\n",
              "      <td>WN</td>\n",
              "      <td>19393.0</td>\n",
              "      <td>N230WN</td>\n",
              "      <td>None</td>\n",
              "    </tr>\n",
              "    <tr>\n",
              "      <th>999998</th>\n",
              "      <td>TRAIN_999998</td>\n",
              "      <td>9</td>\n",
              "      <td>27</td>\n",
              "      <td>1613.0</td>\n",
              "      <td>1824.0</td>\n",
              "      <td>0</td>\n",
              "      <td>0</td>\n",
              "      <td>BNA</td>\n",
              "      <td>10693</td>\n",
              "      <td>Tennessee</td>\n",
              "      <td>ATL</td>\n",
              "      <td>10397</td>\n",
              "      <td>None</td>\n",
              "      <td>214.0</td>\n",
              "      <td>Delta Air Lines Inc.</td>\n",
              "      <td>DL</td>\n",
              "      <td>19790.0</td>\n",
              "      <td>N968DL</td>\n",
              "      <td>None</td>\n",
              "    </tr>\n",
              "    <tr>\n",
              "      <th>999999</th>\n",
              "      <td>TRAIN_999999</td>\n",
              "      <td>3</td>\n",
              "      <td>26</td>\n",
              "      <td>1800.0</td>\n",
              "      <td>2056.0</td>\n",
              "      <td>0</td>\n",
              "      <td>0</td>\n",
              "      <td>RSW</td>\n",
              "      <td>14635</td>\n",
              "      <td>Florida</td>\n",
              "      <td>DTW</td>\n",
              "      <td>11433</td>\n",
              "      <td>Michigan</td>\n",
              "      <td>1084.0</td>\n",
              "      <td>None</td>\n",
              "      <td>DL</td>\n",
              "      <td>19790.0</td>\n",
              "      <td>N695DL</td>\n",
              "      <td>None</td>\n",
              "    </tr>\n",
              "  </tbody>\n",
              "</table>\n",
              "</div>\n",
              "      <button class=\"colab-df-convert\" onclick=\"convertToInteractive('df-efc9d5d2-f60f-45a7-8447-b0b8c383dd68')\"\n",
              "              title=\"Convert this dataframe to an interactive table.\"\n",
              "              style=\"display:none;\">\n",
              "        \n",
              "  <svg xmlns=\"http://www.w3.org/2000/svg\" height=\"24px\"viewBox=\"0 0 24 24\"\n",
              "       width=\"24px\">\n",
              "    <path d=\"M0 0h24v24H0V0z\" fill=\"none\"/>\n",
              "    <path d=\"M18.56 5.44l.94 2.06.94-2.06 2.06-.94-2.06-.94-.94-2.06-.94 2.06-2.06.94zm-11 1L8.5 8.5l.94-2.06 2.06-.94-2.06-.94L8.5 2.5l-.94 2.06-2.06.94zm10 10l.94 2.06.94-2.06 2.06-.94-2.06-.94-.94-2.06-.94 2.06-2.06.94z\"/><path d=\"M17.41 7.96l-1.37-1.37c-.4-.4-.92-.59-1.43-.59-.52 0-1.04.2-1.43.59L10.3 9.45l-7.72 7.72c-.78.78-.78 2.05 0 2.83L4 21.41c.39.39.9.59 1.41.59.51 0 1.02-.2 1.41-.59l7.78-7.78 2.81-2.81c.8-.78.8-2.07 0-2.86zM5.41 20L4 18.59l7.72-7.72 1.47 1.35L5.41 20z\"/>\n",
              "  </svg>\n",
              "      </button>\n",
              "      \n",
              "  <style>\n",
              "    .colab-df-container {\n",
              "      display:flex;\n",
              "      flex-wrap:wrap;\n",
              "      gap: 12px;\n",
              "    }\n",
              "\n",
              "    .colab-df-convert {\n",
              "      background-color: #E8F0FE;\n",
              "      border: none;\n",
              "      border-radius: 50%;\n",
              "      cursor: pointer;\n",
              "      display: none;\n",
              "      fill: #1967D2;\n",
              "      height: 32px;\n",
              "      padding: 0 0 0 0;\n",
              "      width: 32px;\n",
              "    }\n",
              "\n",
              "    .colab-df-convert:hover {\n",
              "      background-color: #E2EBFA;\n",
              "      box-shadow: 0px 1px 2px rgba(60, 64, 67, 0.3), 0px 1px 3px 1px rgba(60, 64, 67, 0.15);\n",
              "      fill: #174EA6;\n",
              "    }\n",
              "\n",
              "    [theme=dark] .colab-df-convert {\n",
              "      background-color: #3B4455;\n",
              "      fill: #D2E3FC;\n",
              "    }\n",
              "\n",
              "    [theme=dark] .colab-df-convert:hover {\n",
              "      background-color: #434B5C;\n",
              "      box-shadow: 0px 1px 3px 1px rgba(0, 0, 0, 0.15);\n",
              "      filter: drop-shadow(0px 1px 2px rgba(0, 0, 0, 0.3));\n",
              "      fill: #FFFFFF;\n",
              "    }\n",
              "  </style>\n",
              "\n",
              "      <script>\n",
              "        const buttonEl =\n",
              "          document.querySelector('#df-efc9d5d2-f60f-45a7-8447-b0b8c383dd68 button.colab-df-convert');\n",
              "        buttonEl.style.display =\n",
              "          google.colab.kernel.accessAllowed ? 'block' : 'none';\n",
              "\n",
              "        async function convertToInteractive(key) {\n",
              "          const element = document.querySelector('#df-efc9d5d2-f60f-45a7-8447-b0b8c383dd68');\n",
              "          const dataTable =\n",
              "            await google.colab.kernel.invokeFunction('convertToInteractive',\n",
              "                                                     [key], {});\n",
              "          if (!dataTable) return;\n",
              "\n",
              "          const docLinkHtml = 'Like what you see? Visit the ' +\n",
              "            '<a target=\"_blank\" href=https://colab.research.google.com/notebooks/data_table.ipynb>data table notebook</a>'\n",
              "            + ' to learn more about interactive tables.';\n",
              "          element.innerHTML = '';\n",
              "          dataTable['output_type'] = 'display_data';\n",
              "          await google.colab.output.renderOutput(dataTable, element);\n",
              "          const docLink = document.createElement('div');\n",
              "          docLink.innerHTML = docLinkHtml;\n",
              "          element.appendChild(docLink);\n",
              "        }\n",
              "      </script>\n",
              "    </div>\n",
              "  </div>\n",
              "  "
            ]
          },
          "metadata": {},
          "execution_count": 11
        }
      ],
      "source": [
        "train.tail(3)"
      ],
      "id": "kSDvIZe1Gdys"
    },
    {
      "cell_type": "code",
      "execution_count": null,
      "metadata": {
        "colab": {
          "base_uri": "https://localhost:8080/",
          "height": 259
        },
        "id": "4kOWIxp8yKr_",
        "outputId": "151e0be9-f03a-4cfe-97d6-3021a784c3ee"
      },
      "outputs": [
        {
          "output_type": "execute_result",
          "data": {
            "text/plain": [
              "                 ID  Month  Day_of_Month  Estimated_Departure_Time  \\\n",
              "999997  TEST_999997      6            11                    1710.0   \n",
              "999998  TEST_999998     11            17                       NaN   \n",
              "999999  TEST_999999     10            13                    1220.0   \n",
              "\n",
              "        Estimated_Arrival_Time  Cancelled  Diverted Origin_Airport  \\\n",
              "999997                  1907.0          0         0            IAD   \n",
              "999998                   500.0          0         0            SAN   \n",
              "999999                  1345.0          0         0            OAK   \n",
              "\n",
              "        Origin_Airport_ID Origin_State Destination_Airport  \\\n",
              "999997              12264         None                 DTW   \n",
              "999998              14679   California                 BOS   \n",
              "999999              13796   California                 LAX   \n",
              "\n",
              "        Destination_Airport_ID Destination_State  Distance  \\\n",
              "999997                   11433          Michigan     383.0   \n",
              "999998                   10721     Massachusetts    2588.0   \n",
              "999999                   12892              None     337.0   \n",
              "\n",
              "                   Airline Carrier_Code(IATA)  Carrier_ID(DOT) Tail_Number  \n",
              "999997  Mesa Airlines Inc.                 UA          20378.0      N510MJ  \n",
              "999998     JetBlue Airways                 B6          20409.0      N986JB  \n",
              "999999                None                 WN          19393.0      N733SA  "
            ],
            "text/html": [
              "\n",
              "  <div id=\"df-e0c2748b-3776-40f3-bbbf-ed0bcc80943e\">\n",
              "    <div class=\"colab-df-container\">\n",
              "      <div>\n",
              "<style scoped>\n",
              "    .dataframe tbody tr th:only-of-type {\n",
              "        vertical-align: middle;\n",
              "    }\n",
              "\n",
              "    .dataframe tbody tr th {\n",
              "        vertical-align: top;\n",
              "    }\n",
              "\n",
              "    .dataframe thead th {\n",
              "        text-align: right;\n",
              "    }\n",
              "</style>\n",
              "<table border=\"1\" class=\"dataframe\">\n",
              "  <thead>\n",
              "    <tr style=\"text-align: right;\">\n",
              "      <th></th>\n",
              "      <th>ID</th>\n",
              "      <th>Month</th>\n",
              "      <th>Day_of_Month</th>\n",
              "      <th>Estimated_Departure_Time</th>\n",
              "      <th>Estimated_Arrival_Time</th>\n",
              "      <th>Cancelled</th>\n",
              "      <th>Diverted</th>\n",
              "      <th>Origin_Airport</th>\n",
              "      <th>Origin_Airport_ID</th>\n",
              "      <th>Origin_State</th>\n",
              "      <th>Destination_Airport</th>\n",
              "      <th>Destination_Airport_ID</th>\n",
              "      <th>Destination_State</th>\n",
              "      <th>Distance</th>\n",
              "      <th>Airline</th>\n",
              "      <th>Carrier_Code(IATA)</th>\n",
              "      <th>Carrier_ID(DOT)</th>\n",
              "      <th>Tail_Number</th>\n",
              "    </tr>\n",
              "  </thead>\n",
              "  <tbody>\n",
              "    <tr>\n",
              "      <th>999997</th>\n",
              "      <td>TEST_999997</td>\n",
              "      <td>6</td>\n",
              "      <td>11</td>\n",
              "      <td>1710.0</td>\n",
              "      <td>1907.0</td>\n",
              "      <td>0</td>\n",
              "      <td>0</td>\n",
              "      <td>IAD</td>\n",
              "      <td>12264</td>\n",
              "      <td>None</td>\n",
              "      <td>DTW</td>\n",
              "      <td>11433</td>\n",
              "      <td>Michigan</td>\n",
              "      <td>383.0</td>\n",
              "      <td>Mesa Airlines Inc.</td>\n",
              "      <td>UA</td>\n",
              "      <td>20378.0</td>\n",
              "      <td>N510MJ</td>\n",
              "    </tr>\n",
              "    <tr>\n",
              "      <th>999998</th>\n",
              "      <td>TEST_999998</td>\n",
              "      <td>11</td>\n",
              "      <td>17</td>\n",
              "      <td>NaN</td>\n",
              "      <td>500.0</td>\n",
              "      <td>0</td>\n",
              "      <td>0</td>\n",
              "      <td>SAN</td>\n",
              "      <td>14679</td>\n",
              "      <td>California</td>\n",
              "      <td>BOS</td>\n",
              "      <td>10721</td>\n",
              "      <td>Massachusetts</td>\n",
              "      <td>2588.0</td>\n",
              "      <td>JetBlue Airways</td>\n",
              "      <td>B6</td>\n",
              "      <td>20409.0</td>\n",
              "      <td>N986JB</td>\n",
              "    </tr>\n",
              "    <tr>\n",
              "      <th>999999</th>\n",
              "      <td>TEST_999999</td>\n",
              "      <td>10</td>\n",
              "      <td>13</td>\n",
              "      <td>1220.0</td>\n",
              "      <td>1345.0</td>\n",
              "      <td>0</td>\n",
              "      <td>0</td>\n",
              "      <td>OAK</td>\n",
              "      <td>13796</td>\n",
              "      <td>California</td>\n",
              "      <td>LAX</td>\n",
              "      <td>12892</td>\n",
              "      <td>None</td>\n",
              "      <td>337.0</td>\n",
              "      <td>None</td>\n",
              "      <td>WN</td>\n",
              "      <td>19393.0</td>\n",
              "      <td>N733SA</td>\n",
              "    </tr>\n",
              "  </tbody>\n",
              "</table>\n",
              "</div>\n",
              "      <button class=\"colab-df-convert\" onclick=\"convertToInteractive('df-e0c2748b-3776-40f3-bbbf-ed0bcc80943e')\"\n",
              "              title=\"Convert this dataframe to an interactive table.\"\n",
              "              style=\"display:none;\">\n",
              "        \n",
              "  <svg xmlns=\"http://www.w3.org/2000/svg\" height=\"24px\"viewBox=\"0 0 24 24\"\n",
              "       width=\"24px\">\n",
              "    <path d=\"M0 0h24v24H0V0z\" fill=\"none\"/>\n",
              "    <path d=\"M18.56 5.44l.94 2.06.94-2.06 2.06-.94-2.06-.94-.94-2.06-.94 2.06-2.06.94zm-11 1L8.5 8.5l.94-2.06 2.06-.94-2.06-.94L8.5 2.5l-.94 2.06-2.06.94zm10 10l.94 2.06.94-2.06 2.06-.94-2.06-.94-.94-2.06-.94 2.06-2.06.94z\"/><path d=\"M17.41 7.96l-1.37-1.37c-.4-.4-.92-.59-1.43-.59-.52 0-1.04.2-1.43.59L10.3 9.45l-7.72 7.72c-.78.78-.78 2.05 0 2.83L4 21.41c.39.39.9.59 1.41.59.51 0 1.02-.2 1.41-.59l7.78-7.78 2.81-2.81c.8-.78.8-2.07 0-2.86zM5.41 20L4 18.59l7.72-7.72 1.47 1.35L5.41 20z\"/>\n",
              "  </svg>\n",
              "      </button>\n",
              "      \n",
              "  <style>\n",
              "    .colab-df-container {\n",
              "      display:flex;\n",
              "      flex-wrap:wrap;\n",
              "      gap: 12px;\n",
              "    }\n",
              "\n",
              "    .colab-df-convert {\n",
              "      background-color: #E8F0FE;\n",
              "      border: none;\n",
              "      border-radius: 50%;\n",
              "      cursor: pointer;\n",
              "      display: none;\n",
              "      fill: #1967D2;\n",
              "      height: 32px;\n",
              "      padding: 0 0 0 0;\n",
              "      width: 32px;\n",
              "    }\n",
              "\n",
              "    .colab-df-convert:hover {\n",
              "      background-color: #E2EBFA;\n",
              "      box-shadow: 0px 1px 2px rgba(60, 64, 67, 0.3), 0px 1px 3px 1px rgba(60, 64, 67, 0.15);\n",
              "      fill: #174EA6;\n",
              "    }\n",
              "\n",
              "    [theme=dark] .colab-df-convert {\n",
              "      background-color: #3B4455;\n",
              "      fill: #D2E3FC;\n",
              "    }\n",
              "\n",
              "    [theme=dark] .colab-df-convert:hover {\n",
              "      background-color: #434B5C;\n",
              "      box-shadow: 0px 1px 3px 1px rgba(0, 0, 0, 0.15);\n",
              "      filter: drop-shadow(0px 1px 2px rgba(0, 0, 0, 0.3));\n",
              "      fill: #FFFFFF;\n",
              "    }\n",
              "  </style>\n",
              "\n",
              "      <script>\n",
              "        const buttonEl =\n",
              "          document.querySelector('#df-e0c2748b-3776-40f3-bbbf-ed0bcc80943e button.colab-df-convert');\n",
              "        buttonEl.style.display =\n",
              "          google.colab.kernel.accessAllowed ? 'block' : 'none';\n",
              "\n",
              "        async function convertToInteractive(key) {\n",
              "          const element = document.querySelector('#df-e0c2748b-3776-40f3-bbbf-ed0bcc80943e');\n",
              "          const dataTable =\n",
              "            await google.colab.kernel.invokeFunction('convertToInteractive',\n",
              "                                                     [key], {});\n",
              "          if (!dataTable) return;\n",
              "\n",
              "          const docLinkHtml = 'Like what you see? Visit the ' +\n",
              "            '<a target=\"_blank\" href=https://colab.research.google.com/notebooks/data_table.ipynb>data table notebook</a>'\n",
              "            + ' to learn more about interactive tables.';\n",
              "          element.innerHTML = '';\n",
              "          dataTable['output_type'] = 'display_data';\n",
              "          await google.colab.output.renderOutput(dataTable, element);\n",
              "          const docLink = document.createElement('div');\n",
              "          docLink.innerHTML = docLinkHtml;\n",
              "          element.appendChild(docLink);\n",
              "        }\n",
              "      </script>\n",
              "    </div>\n",
              "  </div>\n",
              "  "
            ]
          },
          "metadata": {},
          "execution_count": 12
        }
      ],
      "source": [
        "test.tail(3)"
      ],
      "id": "4kOWIxp8yKr_"
    },
    {
      "cell_type": "code",
      "execution_count": null,
      "metadata": {
        "colab": {
          "base_uri": "https://localhost:8080/",
          "height": 364
        },
        "id": "Xt1lJ7I_GfMu",
        "outputId": "795cf25d-1bae-4871-ce54-28bf1cfe5281"
      },
      "outputs": [
        {
          "output_type": "execute_result",
          "data": {
            "text/plain": [
              "                Month    Day_of_Month  Estimated_Departure_Time  \\\n",
              "count  1000000.000000  1000000.000000             890981.000000   \n",
              "mean         6.945156       15.764842               1341.153019   \n",
              "std          3.462506        8.763515                489.814011   \n",
              "min          1.000000        1.000000                  1.000000   \n",
              "25%          4.000000        8.000000                925.000000   \n",
              "50%          7.000000       16.000000               1332.000000   \n",
              "75%         10.000000       23.000000               1742.000000   \n",
              "max         12.000000       31.000000               2359.000000   \n",
              "\n",
              "       Estimated_Arrival_Time  Cancelled   Diverted  Origin_Airport_ID  \\\n",
              "count           890960.000000  1000000.0  1000000.0     1000000.000000   \n",
              "mean              1493.295934        0.0        0.0       12696.278484   \n",
              "std                520.803494        0.0        0.0        1514.938441   \n",
              "min                  1.000000        0.0        0.0       10135.000000   \n",
              "25%               1105.000000        0.0        0.0       11292.000000   \n",
              "50%               1524.000000        0.0        0.0       12889.000000   \n",
              "75%               1924.000000        0.0        0.0       14057.000000   \n",
              "max               2400.000000        0.0        0.0       16869.000000   \n",
              "\n",
              "       Destination_Airport_ID        Distance  Carrier_ID(DOT)  \n",
              "count          1000000.000000  1000000.000000    891003.000000  \n",
              "mean             12701.813986      784.078499     19997.388093  \n",
              "std               1515.213044      590.790469       404.268639  \n",
              "min              10135.000000       16.000000     19393.000000  \n",
              "25%              11292.000000      350.000000     19790.000000  \n",
              "50%              12889.000000      623.000000     19977.000000  \n",
              "75%              14057.000000     1020.000000     20378.000000  \n",
              "max              16869.000000     5095.000000     21171.000000  "
            ],
            "text/html": [
              "\n",
              "  <div id=\"df-df5396ce-4246-4fa1-81f1-be2f3b42683b\">\n",
              "    <div class=\"colab-df-container\">\n",
              "      <div>\n",
              "<style scoped>\n",
              "    .dataframe tbody tr th:only-of-type {\n",
              "        vertical-align: middle;\n",
              "    }\n",
              "\n",
              "    .dataframe tbody tr th {\n",
              "        vertical-align: top;\n",
              "    }\n",
              "\n",
              "    .dataframe thead th {\n",
              "        text-align: right;\n",
              "    }\n",
              "</style>\n",
              "<table border=\"1\" class=\"dataframe\">\n",
              "  <thead>\n",
              "    <tr style=\"text-align: right;\">\n",
              "      <th></th>\n",
              "      <th>Month</th>\n",
              "      <th>Day_of_Month</th>\n",
              "      <th>Estimated_Departure_Time</th>\n",
              "      <th>Estimated_Arrival_Time</th>\n",
              "      <th>Cancelled</th>\n",
              "      <th>Diverted</th>\n",
              "      <th>Origin_Airport_ID</th>\n",
              "      <th>Destination_Airport_ID</th>\n",
              "      <th>Distance</th>\n",
              "      <th>Carrier_ID(DOT)</th>\n",
              "    </tr>\n",
              "  </thead>\n",
              "  <tbody>\n",
              "    <tr>\n",
              "      <th>count</th>\n",
              "      <td>1000000.000000</td>\n",
              "      <td>1000000.000000</td>\n",
              "      <td>890981.000000</td>\n",
              "      <td>890960.000000</td>\n",
              "      <td>1000000.0</td>\n",
              "      <td>1000000.0</td>\n",
              "      <td>1000000.000000</td>\n",
              "      <td>1000000.000000</td>\n",
              "      <td>1000000.000000</td>\n",
              "      <td>891003.000000</td>\n",
              "    </tr>\n",
              "    <tr>\n",
              "      <th>mean</th>\n",
              "      <td>6.945156</td>\n",
              "      <td>15.764842</td>\n",
              "      <td>1341.153019</td>\n",
              "      <td>1493.295934</td>\n",
              "      <td>0.0</td>\n",
              "      <td>0.0</td>\n",
              "      <td>12696.278484</td>\n",
              "      <td>12701.813986</td>\n",
              "      <td>784.078499</td>\n",
              "      <td>19997.388093</td>\n",
              "    </tr>\n",
              "    <tr>\n",
              "      <th>std</th>\n",
              "      <td>3.462506</td>\n",
              "      <td>8.763515</td>\n",
              "      <td>489.814011</td>\n",
              "      <td>520.803494</td>\n",
              "      <td>0.0</td>\n",
              "      <td>0.0</td>\n",
              "      <td>1514.938441</td>\n",
              "      <td>1515.213044</td>\n",
              "      <td>590.790469</td>\n",
              "      <td>404.268639</td>\n",
              "    </tr>\n",
              "    <tr>\n",
              "      <th>min</th>\n",
              "      <td>1.000000</td>\n",
              "      <td>1.000000</td>\n",
              "      <td>1.000000</td>\n",
              "      <td>1.000000</td>\n",
              "      <td>0.0</td>\n",
              "      <td>0.0</td>\n",
              "      <td>10135.000000</td>\n",
              "      <td>10135.000000</td>\n",
              "      <td>16.000000</td>\n",
              "      <td>19393.000000</td>\n",
              "    </tr>\n",
              "    <tr>\n",
              "      <th>25%</th>\n",
              "      <td>4.000000</td>\n",
              "      <td>8.000000</td>\n",
              "      <td>925.000000</td>\n",
              "      <td>1105.000000</td>\n",
              "      <td>0.0</td>\n",
              "      <td>0.0</td>\n",
              "      <td>11292.000000</td>\n",
              "      <td>11292.000000</td>\n",
              "      <td>350.000000</td>\n",
              "      <td>19790.000000</td>\n",
              "    </tr>\n",
              "    <tr>\n",
              "      <th>50%</th>\n",
              "      <td>7.000000</td>\n",
              "      <td>16.000000</td>\n",
              "      <td>1332.000000</td>\n",
              "      <td>1524.000000</td>\n",
              "      <td>0.0</td>\n",
              "      <td>0.0</td>\n",
              "      <td>12889.000000</td>\n",
              "      <td>12889.000000</td>\n",
              "      <td>623.000000</td>\n",
              "      <td>19977.000000</td>\n",
              "    </tr>\n",
              "    <tr>\n",
              "      <th>75%</th>\n",
              "      <td>10.000000</td>\n",
              "      <td>23.000000</td>\n",
              "      <td>1742.000000</td>\n",
              "      <td>1924.000000</td>\n",
              "      <td>0.0</td>\n",
              "      <td>0.0</td>\n",
              "      <td>14057.000000</td>\n",
              "      <td>14057.000000</td>\n",
              "      <td>1020.000000</td>\n",
              "      <td>20378.000000</td>\n",
              "    </tr>\n",
              "    <tr>\n",
              "      <th>max</th>\n",
              "      <td>12.000000</td>\n",
              "      <td>31.000000</td>\n",
              "      <td>2359.000000</td>\n",
              "      <td>2400.000000</td>\n",
              "      <td>0.0</td>\n",
              "      <td>0.0</td>\n",
              "      <td>16869.000000</td>\n",
              "      <td>16869.000000</td>\n",
              "      <td>5095.000000</td>\n",
              "      <td>21171.000000</td>\n",
              "    </tr>\n",
              "  </tbody>\n",
              "</table>\n",
              "</div>\n",
              "      <button class=\"colab-df-convert\" onclick=\"convertToInteractive('df-df5396ce-4246-4fa1-81f1-be2f3b42683b')\"\n",
              "              title=\"Convert this dataframe to an interactive table.\"\n",
              "              style=\"display:none;\">\n",
              "        \n",
              "  <svg xmlns=\"http://www.w3.org/2000/svg\" height=\"24px\"viewBox=\"0 0 24 24\"\n",
              "       width=\"24px\">\n",
              "    <path d=\"M0 0h24v24H0V0z\" fill=\"none\"/>\n",
              "    <path d=\"M18.56 5.44l.94 2.06.94-2.06 2.06-.94-2.06-.94-.94-2.06-.94 2.06-2.06.94zm-11 1L8.5 8.5l.94-2.06 2.06-.94-2.06-.94L8.5 2.5l-.94 2.06-2.06.94zm10 10l.94 2.06.94-2.06 2.06-.94-2.06-.94-.94-2.06-.94 2.06-2.06.94z\"/><path d=\"M17.41 7.96l-1.37-1.37c-.4-.4-.92-.59-1.43-.59-.52 0-1.04.2-1.43.59L10.3 9.45l-7.72 7.72c-.78.78-.78 2.05 0 2.83L4 21.41c.39.39.9.59 1.41.59.51 0 1.02-.2 1.41-.59l7.78-7.78 2.81-2.81c.8-.78.8-2.07 0-2.86zM5.41 20L4 18.59l7.72-7.72 1.47 1.35L5.41 20z\"/>\n",
              "  </svg>\n",
              "      </button>\n",
              "      \n",
              "  <style>\n",
              "    .colab-df-container {\n",
              "      display:flex;\n",
              "      flex-wrap:wrap;\n",
              "      gap: 12px;\n",
              "    }\n",
              "\n",
              "    .colab-df-convert {\n",
              "      background-color: #E8F0FE;\n",
              "      border: none;\n",
              "      border-radius: 50%;\n",
              "      cursor: pointer;\n",
              "      display: none;\n",
              "      fill: #1967D2;\n",
              "      height: 32px;\n",
              "      padding: 0 0 0 0;\n",
              "      width: 32px;\n",
              "    }\n",
              "\n",
              "    .colab-df-convert:hover {\n",
              "      background-color: #E2EBFA;\n",
              "      box-shadow: 0px 1px 2px rgba(60, 64, 67, 0.3), 0px 1px 3px 1px rgba(60, 64, 67, 0.15);\n",
              "      fill: #174EA6;\n",
              "    }\n",
              "\n",
              "    [theme=dark] .colab-df-convert {\n",
              "      background-color: #3B4455;\n",
              "      fill: #D2E3FC;\n",
              "    }\n",
              "\n",
              "    [theme=dark] .colab-df-convert:hover {\n",
              "      background-color: #434B5C;\n",
              "      box-shadow: 0px 1px 3px 1px rgba(0, 0, 0, 0.15);\n",
              "      filter: drop-shadow(0px 1px 2px rgba(0, 0, 0, 0.3));\n",
              "      fill: #FFFFFF;\n",
              "    }\n",
              "  </style>\n",
              "\n",
              "      <script>\n",
              "        const buttonEl =\n",
              "          document.querySelector('#df-df5396ce-4246-4fa1-81f1-be2f3b42683b button.colab-df-convert');\n",
              "        buttonEl.style.display =\n",
              "          google.colab.kernel.accessAllowed ? 'block' : 'none';\n",
              "\n",
              "        async function convertToInteractive(key) {\n",
              "          const element = document.querySelector('#df-df5396ce-4246-4fa1-81f1-be2f3b42683b');\n",
              "          const dataTable =\n",
              "            await google.colab.kernel.invokeFunction('convertToInteractive',\n",
              "                                                     [key], {});\n",
              "          if (!dataTable) return;\n",
              "\n",
              "          const docLinkHtml = 'Like what you see? Visit the ' +\n",
              "            '<a target=\"_blank\" href=https://colab.research.google.com/notebooks/data_table.ipynb>data table notebook</a>'\n",
              "            + ' to learn more about interactive tables.';\n",
              "          element.innerHTML = '';\n",
              "          dataTable['output_type'] = 'display_data';\n",
              "          await google.colab.output.renderOutput(dataTable, element);\n",
              "          const docLink = document.createElement('div');\n",
              "          docLink.innerHTML = docLinkHtml;\n",
              "          element.appendChild(docLink);\n",
              "        }\n",
              "      </script>\n",
              "    </div>\n",
              "  </div>\n",
              "  "
            ]
          },
          "metadata": {},
          "execution_count": 13
        }
      ],
      "source": [
        "train.describe()"
      ],
      "id": "Xt1lJ7I_GfMu"
    },
    {
      "cell_type": "code",
      "execution_count": null,
      "metadata": {
        "colab": {
          "base_uri": "https://localhost:8080/"
        },
        "id": "RR66As1nX7uU",
        "outputId": "066ff6b1-ba55-4b7f-bcaf-4e39bb294ec4"
      },
      "outputs": [
        {
          "output_type": "execute_result",
          "data": {
            "text/plain": [
              "ID                               0\n",
              "Month                            0\n",
              "Day_of_Month                     0\n",
              "Estimated_Departure_Time    109019\n",
              "Estimated_Arrival_Time      109040\n",
              "Cancelled                        0\n",
              "Diverted                         0\n",
              "Origin_Airport                   0\n",
              "Origin_Airport_ID                0\n",
              "Origin_State                109015\n",
              "Destination_Airport              0\n",
              "Destination_Airport_ID           0\n",
              "Destination_State           109079\n",
              "Distance                         0\n",
              "Airline                     108920\n",
              "Carrier_Code(IATA)          108990\n",
              "Carrier_ID(DOT)             108997\n",
              "Tail_Number                      0\n",
              "Delay                       744999\n",
              "dtype: int64"
            ]
          },
          "metadata": {},
          "execution_count": 14
        }
      ],
      "source": [
        "train.isna().sum()"
      ],
      "id": "RR66As1nX7uU"
    },
    {
      "cell_type": "code",
      "execution_count": null,
      "metadata": {
        "colab": {
          "base_uri": "https://localhost:8080/"
        },
        "id": "SKv0kE5Cy-D7",
        "outputId": "d8f756f1-4eb2-46f9-da4c-de2e89f2e1a8"
      },
      "outputs": [
        {
          "output_type": "execute_result",
          "data": {
            "text/plain": [
              "ID                               0\n",
              "Month                            0\n",
              "Day_of_Month                     0\n",
              "Estimated_Departure_Time    108984\n",
              "Estimated_Arrival_Time      109048\n",
              "Cancelled                        0\n",
              "Diverted                         0\n",
              "Origin_Airport                   0\n",
              "Origin_Airport_ID                0\n",
              "Origin_State                106505\n",
              "Destination_Airport              0\n",
              "Destination_Airport_ID           0\n",
              "Destination_State           106523\n",
              "Distance                         0\n",
              "Airline                     106527\n",
              "Carrier_Code(IATA)          108993\n",
              "Carrier_ID(DOT)             109006\n",
              "Tail_Number                      0\n",
              "dtype: int64"
            ]
          },
          "metadata": {},
          "execution_count": 15
        }
      ],
      "source": [
        "test.isna().sum()"
      ],
      "id": "SKv0kE5Cy-D7"
    },
    {
      "cell_type": "markdown",
      "metadata": {
        "id": "7nIi0h49MLfu"
      },
      "source": [
        "### 단변량 분석"
      ],
      "id": "7nIi0h49MLfu"
    },
    {
      "cell_type": "markdown",
      "metadata": {
        "id": "cscXI-NyNQJL"
      },
      "source": [
        "- Estimated_Departure_Time, Estimated_Arrival_Time, Origin_State, Destination_State, Airline, Carrier_Code(IATA), Carrier_ID(DOT), Delay 결측치 존재\n",
        "- 2월의 출국이 별로 없는 것일까?\n",
        "- Cancelled와 Diverted는 모두 0 값을 가지므로 삭제\n",
        "- State의 결측치를 Airport_ID, Airport로 찾아 채우기\n",
        "- Distance 이상치 존재, 로그 변한 등\n",
        "- Tail_Number -> 고유 변호로 Carrier_ID, Carrier_Code, Airline 결측치 채우기"
      ],
      "id": "cscXI-NyNQJL"
    },
    {
      "cell_type": "code",
      "execution_count": null,
      "metadata": {
        "colab": {
          "base_uri": "https://localhost:8080/",
          "height": 1000
        },
        "id": "8RKbfUlzMN_9",
        "outputId": "aad63f80-a20a-478d-de08-6957aa5c2738"
      },
      "outputs": [
        {
          "output_type": "stream",
          "name": "stdout",
          "text": [
            "10    0.101509\n",
            "12    0.099690\n",
            "11    0.096710\n",
            "9     0.095566\n",
            "8     0.089258\n",
            "4     0.083030\n",
            "1     0.077656\n",
            "7     0.077543\n",
            "5     0.074533\n",
            "3     0.072338\n",
            "6     0.072307\n",
            "2     0.059860\n",
            "Name: Month, dtype: float64\n"
          ]
        },
        {
          "output_type": "display_data",
          "data": {
            "text/plain": [
              "<Figure size 640x480 with 1 Axes>"
            ],
            "image/png": "[encoded data removed]"
          },
          "metadata": {}
        },
        {
          "output_type": "stream",
          "name": "stdout",
          "text": [
            "3     0.118420\n",
            "12    0.094617\n",
            "10    0.092691\n",
            "11    0.088729\n",
            "8     0.087185\n",
            "9     0.085496\n",
            "4     0.078113\n",
            "7     0.075775\n",
            "1     0.073937\n",
            "6     0.073036\n",
            "5     0.071551\n",
            "2     0.060450\n",
            "Name: Month, dtype: float64\n"
          ]
        },
        {
          "output_type": "display_data",
          "data": {
            "text/plain": [
              "<Figure size 640x480 with 1 Axes>"
            ],
            "image/png": "[encoded data removed]"
          },
          "metadata": {}
        }
      ],
      "source": [
        "# Month\n",
        "print(train['Month'].value_counts()/train.shape[0])\n",
        "sns.countplot(x = train['Month'])\n",
        "plt.show()\n",
        "\n",
        "print(test['Month'].value_counts()/train.shape[0])\n",
        "sns.countplot(x = test['Month'])\n",
        "plt.show()"
      ],
      "id": "8RKbfUlzMN_9"
    },
    {
      "cell_type": "code",
      "execution_count": null,
      "metadata": {
        "colab": {
          "base_uri": "https://localhost:8080/",
          "height": 1000
        },
        "id": "E_ItYEv3NUmu",
        "outputId": "f96bd4f8-240c-46fc-fc04-6c26f3cd6526"
      },
      "outputs": [
        {
          "output_type": "stream",
          "name": "stdout",
          "text": [
            "21    0.033719\n",
            "18    0.033601\n",
            "19    0.033552\n",
            "12    0.033475\n",
            "16    0.033345\n",
            "26    0.033307\n",
            "11    0.033150\n",
            "20    0.033116\n",
            "10    0.033056\n",
            "17    0.033053\n",
            "15    0.033044\n",
            "9     0.033022\n",
            "25    0.032999\n",
            "8     0.032994\n",
            "14    0.032860\n",
            "24    0.032786\n",
            "13    0.032771\n",
            "27    0.032752\n",
            "7     0.032625\n",
            "6     0.032600\n",
            "23    0.032518\n",
            "22    0.032441\n",
            "28    0.032308\n",
            "5     0.032302\n",
            "2     0.032300\n",
            "4     0.032234\n",
            "1     0.032231\n",
            "3     0.032052\n",
            "30    0.031155\n",
            "29    0.030551\n",
            "31    0.018081\n",
            "Name: Day_of_Month, dtype: float64\n"
          ]
        },
        {
          "output_type": "display_data",
          "data": {
            "text/plain": [
              "<Figure size 640x480 with 1 Axes>"
            ],
            "image/png": "[encoded data removed]"
          },
          "metadata": {}
        },
        {
          "output_type": "stream",
          "name": "stdout",
          "text": [
            "13    0.035512\n",
            "20    0.035253\n",
            "19    0.034451\n",
            "12    0.034339\n",
            "21    0.034167\n",
            "15    0.034100\n",
            "11    0.034020\n",
            "18    0.033768\n",
            "8     0.033403\n",
            "9     0.033359\n",
            "1     0.033305\n",
            "16    0.033251\n",
            "10    0.033235\n",
            "14    0.033178\n",
            "2     0.033059\n",
            "22    0.032983\n",
            "6     0.032828\n",
            "17    0.032672\n",
            "4     0.032529\n",
            "23    0.032335\n",
            "7     0.032164\n",
            "5     0.031910\n",
            "3     0.031839\n",
            "26    0.031805\n",
            "27    0.031291\n",
            "28    0.031153\n",
            "25    0.030793\n",
            "24    0.030766\n",
            "30    0.030049\n",
            "29    0.028911\n",
            "31    0.017572\n",
            "Name: Day_of_Month, dtype: float64\n"
          ]
        },
        {
          "output_type": "display_data",
          "data": {
            "text/plain": [
              "<Figure size 640x480 with 1 Axes>"
            ],
            "image/png": "[encoded data removed]"
          },
          "metadata": {}
        }
      ],
      "source": [
        "# Day of Month\n",
        "print(train['Day_of_Month'].value_counts()/train.shape[0])\n",
        "sns.countplot(x = train['Day_of_Month'])\n",
        "plt.show()\n",
        "\n",
        "print(test['Day_of_Month'].value_counts()/train.shape[0])\n",
        "sns.countplot(x = test['Day_of_Month'])\n",
        "plt.show()"
      ],
      "id": "E_ItYEv3NUmu"
    },
    {
      "cell_type": "code",
      "execution_count": null,
      "metadata": {
        "colab": {
          "base_uri": "https://localhost:8080/",
          "height": 289
        },
        "id": "gR8nekw4T2aP",
        "outputId": "be810467-e360-4dea-9e40-6e1e3fcd35af"
      },
      "outputs": [
        {
          "output_type": "display_data",
          "data": {
            "text/plain": [
              "               count  mean  std  min  25%  50%  75%  max\n",
              "Cancelled  1000000.0   0.0  0.0  0.0  0.0  0.0  0.0  0.0"
            ],
            "text/html": [
              "\n",
              "  <div id=\"df-a72620bf-d0cf-44fa-aa07-79fae2da208a\">\n",
              "    <div class=\"colab-df-container\">\n",
              "      <div>\n",
              "<style scoped>\n",
              "    .dataframe tbody tr th:only-of-type {\n",
              "        vertical-align: middle;\n",
              "    }\n",
              "\n",
              "    .dataframe tbody tr th {\n",
              "        vertical-align: top;\n",
              "    }\n",
              "\n",
              "    .dataframe thead th {\n",
              "        text-align: right;\n",
              "    }\n",
              "</style>\n",
              "<table border=\"1\" class=\"dataframe\">\n",
              "  <thead>\n",
              "    <tr style=\"text-align: right;\">\n",
              "      <th></th>\n",
              "      <th>count</th>\n",
              "      <th>mean</th>\n",
              "      <th>std</th>\n",
              "      <th>min</th>\n",
              "      <th>25%</th>\n",
              "      <th>50%</th>\n",
              "      <th>75%</th>\n",
              "      <th>max</th>\n",
              "    </tr>\n",
              "  </thead>\n",
              "  <tbody>\n",
              "    <tr>\n",
              "      <th>Cancelled</th>\n",
              "      <td>1000000.0</td>\n",
              "      <td>0.0</td>\n",
              "      <td>0.0</td>\n",
              "      <td>0.0</td>\n",
              "      <td>0.0</td>\n",
              "      <td>0.0</td>\n",
              "      <td>0.0</td>\n",
              "      <td>0.0</td>\n",
              "    </tr>\n",
              "  </tbody>\n",
              "</table>\n",
              "</div>\n",
              "      <button class=\"colab-df-convert\" onclick=\"convertToInteractive('df-a72620bf-d0cf-44fa-aa07-79fae2da208a')\"\n",
              "              title=\"Convert this dataframe to an interactive table.\"\n",
              "              style=\"display:none;\">\n",
              "        \n",
              "  <svg xmlns=\"http://www.w3.org/2000/svg\" height=\"24px\"viewBox=\"0 0 24 24\"\n",
              "       width=\"24px\">\n",
              "    <path d=\"M0 0h24v24H0V0z\" fill=\"none\"/>\n",
              "    <path d=\"M18.56 5.44l.94 2.06.94-2.06 2.06-.94-2.06-.94-.94-2.06-.94 2.06-2.06.94zm-11 1L8.5 8.5l.94-2.06 2.06-.94-2.06-.94L8.5 2.5l-.94 2.06-2.06.94zm10 10l.94 2.06.94-2.06 2.06-.94-2.06-.94-.94-2.06-.94 2.06-2.06.94z\"/><path d=\"M17.41 7.96l-1.37-1.37c-.4-.4-.92-.59-1.43-.59-.52 0-1.04.2-1.43.59L10.3 9.45l-7.72 7.72c-.78.78-.78 2.05 0 2.83L4 21.41c.39.39.9.59 1.41.59.51 0 1.02-.2 1.41-.59l7.78-7.78 2.81-2.81c.8-.78.8-2.07 0-2.86zM5.41 20L4 18.59l7.72-7.72 1.47 1.35L5.41 20z\"/>\n",
              "  </svg>\n",
              "      </button>\n",
              "      \n",
              "  <style>\n",
              "    .colab-df-container {\n",
              "      display:flex;\n",
              "      flex-wrap:wrap;\n",
              "      gap: 12px;\n",
              "    }\n",
              "\n",
              "    .colab-df-convert {\n",
              "      background-color: #E8F0FE;\n",
              "      border: none;\n",
              "      border-radius: 50%;\n",
              "      cursor: pointer;\n",
              "      display: none;\n",
              "      fill: #1967D2;\n",
              "      height: 32px;\n",
              "      padding: 0 0 0 0;\n",
              "      width: 32px;\n",
              "    }\n",
              "\n",
              "    .colab-df-convert:hover {\n",
              "      background-color: #E2EBFA;\n",
              "      box-shadow: 0px 1px 2px rgba(60, 64, 67, 0.3), 0px 1px 3px 1px rgba(60, 64, 67, 0.15);\n",
              "      fill: #174EA6;\n",
              "    }\n",
              "\n",
              "    [theme=dark] .colab-df-convert {\n",
              "      background-color: #3B4455;\n",
              "      fill: #D2E3FC;\n",
              "    }\n",
              "\n",
              "    [theme=dark] .colab-df-convert:hover {\n",
              "      background-color: #434B5C;\n",
              "      box-shadow: 0px 1px 3px 1px rgba(0, 0, 0, 0.15);\n",
              "      filter: drop-shadow(0px 1px 2px rgba(0, 0, 0, 0.3));\n",
              "      fill: #FFFFFF;\n",
              "    }\n",
              "  </style>\n",
              "\n",
              "      <script>\n",
              "        const buttonEl =\n",
              "          document.querySelector('#df-a72620bf-d0cf-44fa-aa07-79fae2da208a button.colab-df-convert');\n",
              "        buttonEl.style.display =\n",
              "          google.colab.kernel.accessAllowed ? 'block' : 'none';\n",
              "\n",
              "        async function convertToInteractive(key) {\n",
              "          const element = document.querySelector('#df-a72620bf-d0cf-44fa-aa07-79fae2da208a');\n",
              "          const dataTable =\n",
              "            await google.colab.kernel.invokeFunction('convertToInteractive',\n",
              "                                                     [key], {});\n",
              "          if (!dataTable) return;\n",
              "\n",
              "          const docLinkHtml = 'Like what you see? Visit the ' +\n",
              "            '<a target=\"_blank\" href=https://colab.research.google.com/notebooks/data_table.ipynb>data table notebook</a>'\n",
              "            + ' to learn more about interactive tables.';\n",
              "          element.innerHTML = '';\n",
              "          dataTable['output_type'] = 'display_data';\n",
              "          await google.colab.output.renderOutput(dataTable, element);\n",
              "          const docLink = document.createElement('div');\n",
              "          docLink.innerHTML = docLinkHtml;\n",
              "          element.appendChild(docLink);\n",
              "        }\n",
              "      </script>\n",
              "    </div>\n",
              "  </div>\n",
              "  "
            ]
          },
          "metadata": {}
        },
        {
          "output_type": "display_data",
          "data": {
            "text/plain": [
              "              count  mean  std  min  25%  50%  75%  max\n",
              "Diverted  1000000.0   0.0  0.0  0.0  0.0  0.0  0.0  0.0"
            ],
            "text/html": [
              "\n",
              "  <div id=\"df-a0bff1c8-d79d-4720-99fd-252383c8bd70\">\n",
              "    <div class=\"colab-df-container\">\n",
              "      <div>\n",
              "<style scoped>\n",
              "    .dataframe tbody tr th:only-of-type {\n",
              "        vertical-align: middle;\n",
              "    }\n",
              "\n",
              "    .dataframe tbody tr th {\n",
              "        vertical-align: top;\n",
              "    }\n",
              "\n",
              "    .dataframe thead th {\n",
              "        text-align: right;\n",
              "    }\n",
              "</style>\n",
              "<table border=\"1\" class=\"dataframe\">\n",
              "  <thead>\n",
              "    <tr style=\"text-align: right;\">\n",
              "      <th></th>\n",
              "      <th>count</th>\n",
              "      <th>mean</th>\n",
              "      <th>std</th>\n",
              "      <th>min</th>\n",
              "      <th>25%</th>\n",
              "      <th>50%</th>\n",
              "      <th>75%</th>\n",
              "      <th>max</th>\n",
              "    </tr>\n",
              "  </thead>\n",
              "  <tbody>\n",
              "    <tr>\n",
              "      <th>Diverted</th>\n",
              "      <td>1000000.0</td>\n",
              "      <td>0.0</td>\n",
              "      <td>0.0</td>\n",
              "      <td>0.0</td>\n",
              "      <td>0.0</td>\n",
              "      <td>0.0</td>\n",
              "      <td>0.0</td>\n",
              "      <td>0.0</td>\n",
              "    </tr>\n",
              "  </tbody>\n",
              "</table>\n",
              "</div>\n",
              "      <button class=\"colab-df-convert\" onclick=\"convertToInteractive('df-a0bff1c8-d79d-4720-99fd-252383c8bd70')\"\n",
              "              title=\"Convert this dataframe to an interactive table.\"\n",
              "              style=\"display:none;\">\n",
              "        \n",
              "  <svg xmlns=\"http://www.w3.org/2000/svg\" height=\"24px\"viewBox=\"0 0 24 24\"\n",
              "       width=\"24px\">\n",
              "    <path d=\"M0 0h24v24H0V0z\" fill=\"none\"/>\n",
              "    <path d=\"M18.56 5.44l.94 2.06.94-2.06 2.06-.94-2.06-.94-.94-2.06-.94 2.06-2.06.94zm-11 1L8.5 8.5l.94-2.06 2.06-.94-2.06-.94L8.5 2.5l-.94 2.06-2.06.94zm10 10l.94 2.06.94-2.06 2.06-.94-2.06-.94-.94-2.06-.94 2.06-2.06.94z\"/><path d=\"M17.41 7.96l-1.37-1.37c-.4-.4-.92-.59-1.43-.59-.52 0-1.04.2-1.43.59L10.3 9.45l-7.72 7.72c-.78.78-.78 2.05 0 2.83L4 21.41c.39.39.9.59 1.41.59.51 0 1.02-.2 1.41-.59l7.78-7.78 2.81-2.81c.8-.78.8-2.07 0-2.86zM5.41 20L4 18.59l7.72-7.72 1.47 1.35L5.41 20z\"/>\n",
              "  </svg>\n",
              "      </button>\n",
              "      \n",
              "  <style>\n",
              "    .colab-df-container {\n",
              "      display:flex;\n",
              "      flex-wrap:wrap;\n",
              "      gap: 12px;\n",
              "    }\n",
              "\n",
              "    .colab-df-convert {\n",
              "      background-color: #E8F0FE;\n",
              "      border: none;\n",
              "      border-radius: 50%;\n",
              "      cursor: pointer;\n",
              "      display: none;\n",
              "      fill: #1967D2;\n",
              "      height: 32px;\n",
              "      padding: 0 0 0 0;\n",
              "      width: 32px;\n",
              "    }\n",
              "\n",
              "    .colab-df-convert:hover {\n",
              "      background-color: #E2EBFA;\n",
              "      box-shadow: 0px 1px 2px rgba(60, 64, 67, 0.3), 0px 1px 3px 1px rgba(60, 64, 67, 0.15);\n",
              "      fill: #174EA6;\n",
              "    }\n",
              "\n",
              "    [theme=dark] .colab-df-convert {\n",
              "      background-color: #3B4455;\n",
              "      fill: #D2E3FC;\n",
              "    }\n",
              "\n",
              "    [theme=dark] .colab-df-convert:hover {\n",
              "      background-color: #434B5C;\n",
              "      box-shadow: 0px 1px 3px 1px rgba(0, 0, 0, 0.15);\n",
              "      filter: drop-shadow(0px 1px 2px rgba(0, 0, 0, 0.3));\n",
              "      fill: #FFFFFF;\n",
              "    }\n",
              "  </style>\n",
              "\n",
              "      <script>\n",
              "        const buttonEl =\n",
              "          document.querySelector('#df-a0bff1c8-d79d-4720-99fd-252383c8bd70 button.colab-df-convert');\n",
              "        buttonEl.style.display =\n",
              "          google.colab.kernel.accessAllowed ? 'block' : 'none';\n",
              "\n",
              "        async function convertToInteractive(key) {\n",
              "          const element = document.querySelector('#df-a0bff1c8-d79d-4720-99fd-252383c8bd70');\n",
              "          const dataTable =\n",
              "            await google.colab.kernel.invokeFunction('convertToInteractive',\n",
              "                                                     [key], {});\n",
              "          if (!dataTable) return;\n",
              "\n",
              "          const docLinkHtml = 'Like what you see? Visit the ' +\n",
              "            '<a target=\"_blank\" href=https://colab.research.google.com/notebooks/data_table.ipynb>data table notebook</a>'\n",
              "            + ' to learn more about interactive tables.';\n",
              "          element.innerHTML = '';\n",
              "          dataTable['output_type'] = 'display_data';\n",
              "          await google.colab.output.renderOutput(dataTable, element);\n",
              "          const docLink = document.createElement('div');\n",
              "          docLink.innerHTML = docLinkHtml;\n",
              "          element.appendChild(docLink);\n",
              "        }\n",
              "      </script>\n",
              "    </div>\n",
              "  </div>\n",
              "  "
            ]
          },
          "metadata": {}
        },
        {
          "output_type": "stream",
          "name": "stdout",
          "text": [
            "------------------------------------------------------------\n"
          ]
        },
        {
          "output_type": "display_data",
          "data": {
            "text/plain": [
              "               count  mean  std  min  25%  50%  75%  max\n",
              "Cancelled  1000000.0   0.0  0.0  0.0  0.0  0.0  0.0  0.0"
            ],
            "text/html": [
              "\n",
              "  <div id=\"df-946bf80e-fbe9-4bb7-908c-d0866a8c6c76\">\n",
              "    <div class=\"colab-df-container\">\n",
              "      <div>\n",
              "<style scoped>\n",
              "    .dataframe tbody tr th:only-of-type {\n",
              "        vertical-align: middle;\n",
              "    }\n",
              "\n",
              "    .dataframe tbody tr th {\n",
              "        vertical-align: top;\n",
              "    }\n",
              "\n",
              "    .dataframe thead th {\n",
              "        text-align: right;\n",
              "    }\n",
              "</style>\n",
              "<table border=\"1\" class=\"dataframe\">\n",
              "  <thead>\n",
              "    <tr style=\"text-align: right;\">\n",
              "      <th></th>\n",
              "      <th>count</th>\n",
              "      <th>mean</th>\n",
              "      <th>std</th>\n",
              "      <th>min</th>\n",
              "      <th>25%</th>\n",
              "      <th>50%</th>\n",
              "      <th>75%</th>\n",
              "      <th>max</th>\n",
              "    </tr>\n",
              "  </thead>\n",
              "  <tbody>\n",
              "    <tr>\n",
              "      <th>Cancelled</th>\n",
              "      <td>1000000.0</td>\n",
              "      <td>0.0</td>\n",
              "      <td>0.0</td>\n",
              "      <td>0.0</td>\n",
              "      <td>0.0</td>\n",
              "      <td>0.0</td>\n",
              "      <td>0.0</td>\n",
              "      <td>0.0</td>\n",
              "    </tr>\n",
              "  </tbody>\n",
              "</table>\n",
              "</div>\n",
              "      <button class=\"colab-df-convert\" onclick=\"convertToInteractive('df-946bf80e-fbe9-4bb7-908c-d0866a8c6c76')\"\n",
              "              title=\"Convert this dataframe to an interactive table.\"\n",
              "              style=\"display:none;\">\n",
              "        \n",
              "  <svg xmlns=\"http://www.w3.org/2000/svg\" height=\"24px\"viewBox=\"0 0 24 24\"\n",
              "       width=\"24px\">\n",
              "    <path d=\"M0 0h24v24H0V0z\" fill=\"none\"/>\n",
              "    <path d=\"M18.56 5.44l.94 2.06.94-2.06 2.06-.94-2.06-.94-.94-2.06-.94 2.06-2.06.94zm-11 1L8.5 8.5l.94-2.06 2.06-.94-2.06-.94L8.5 2.5l-.94 2.06-2.06.94zm10 10l.94 2.06.94-2.06 2.06-.94-2.06-.94-.94-2.06-.94 2.06-2.06.94z\"/><path d=\"M17.41 7.96l-1.37-1.37c-.4-.4-.92-.59-1.43-.59-.52 0-1.04.2-1.43.59L10.3 9.45l-7.72 7.72c-.78.78-.78 2.05 0 2.83L4 21.41c.39.39.9.59 1.41.59.51 0 1.02-.2 1.41-.59l7.78-7.78 2.81-2.81c.8-.78.8-2.07 0-2.86zM5.41 20L4 18.59l7.72-7.72 1.47 1.35L5.41 20z\"/>\n",
              "  </svg>\n",
              "      </button>\n",
              "      \n",
              "  <style>\n",
              "    .colab-df-container {\n",
              "      display:flex;\n",
              "      flex-wrap:wrap;\n",
              "      gap: 12px;\n",
              "    }\n",
              "\n",
              "    .colab-df-convert {\n",
              "      background-color: #E8F0FE;\n",
              "      border: none;\n",
              "      border-radius: 50%;\n",
              "      cursor: pointer;\n",
              "      display: none;\n",
              "      fill: #1967D2;\n",
              "      height: 32px;\n",
              "      padding: 0 0 0 0;\n",
              "      width: 32px;\n",
              "    }\n",
              "\n",
              "    .colab-df-convert:hover {\n",
              "      background-color: #E2EBFA;\n",
              "      box-shadow: 0px 1px 2px rgba(60, 64, 67, 0.3), 0px 1px 3px 1px rgba(60, 64, 67, 0.15);\n",
              "      fill: #174EA6;\n",
              "    }\n",
              "\n",
              "    [theme=dark] .colab-df-convert {\n",
              "      background-color: #3B4455;\n",
              "      fill: #D2E3FC;\n",
              "    }\n",
              "\n",
              "    [theme=dark] .colab-df-convert:hover {\n",
              "      background-color: #434B5C;\n",
              "      box-shadow: 0px 1px 3px 1px rgba(0, 0, 0, 0.15);\n",
              "      filter: drop-shadow(0px 1px 2px rgba(0, 0, 0, 0.3));\n",
              "      fill: #FFFFFF;\n",
              "    }\n",
              "  </style>\n",
              "\n",
              "      <script>\n",
              "        const buttonEl =\n",
              "          document.querySelector('#df-946bf80e-fbe9-4bb7-908c-d0866a8c6c76 button.colab-df-convert');\n",
              "        buttonEl.style.display =\n",
              "          google.colab.kernel.accessAllowed ? 'block' : 'none';\n",
              "\n",
              "        async function convertToInteractive(key) {\n",
              "          const element = document.querySelector('#df-946bf80e-fbe9-4bb7-908c-d0866a8c6c76');\n",
              "          const dataTable =\n",
              "            await google.colab.kernel.invokeFunction('convertToInteractive',\n",
              "                                                     [key], {});\n",
              "          if (!dataTable) return;\n",
              "\n",
              "          const docLinkHtml = 'Like what you see? Visit the ' +\n",
              "            '<a target=\"_blank\" href=https://colab.research.google.com/notebooks/data_table.ipynb>data table notebook</a>'\n",
              "            + ' to learn more about interactive tables.';\n",
              "          element.innerHTML = '';\n",
              "          dataTable['output_type'] = 'display_data';\n",
              "          await google.colab.output.renderOutput(dataTable, element);\n",
              "          const docLink = document.createElement('div');\n",
              "          docLink.innerHTML = docLinkHtml;\n",
              "          element.appendChild(docLink);\n",
              "        }\n",
              "      </script>\n",
              "    </div>\n",
              "  </div>\n",
              "  "
            ]
          },
          "metadata": {}
        },
        {
          "output_type": "display_data",
          "data": {
            "text/plain": [
              "              count  mean  std  min  25%  50%  75%  max\n",
              "Diverted  1000000.0   0.0  0.0  0.0  0.0  0.0  0.0  0.0"
            ],
            "text/html": [
              "\n",
              "  <div id=\"df-0dd11885-5415-4074-b849-5a39351ddaad\">\n",
              "    <div class=\"colab-df-container\">\n",
              "      <div>\n",
              "<style scoped>\n",
              "    .dataframe tbody tr th:only-of-type {\n",
              "        vertical-align: middle;\n",
              "    }\n",
              "\n",
              "    .dataframe tbody tr th {\n",
              "        vertical-align: top;\n",
              "    }\n",
              "\n",
              "    .dataframe thead th {\n",
              "        text-align: right;\n",
              "    }\n",
              "</style>\n",
              "<table border=\"1\" class=\"dataframe\">\n",
              "  <thead>\n",
              "    <tr style=\"text-align: right;\">\n",
              "      <th></th>\n",
              "      <th>count</th>\n",
              "      <th>mean</th>\n",
              "      <th>std</th>\n",
              "      <th>min</th>\n",
              "      <th>25%</th>\n",
              "      <th>50%</th>\n",
              "      <th>75%</th>\n",
              "      <th>max</th>\n",
              "    </tr>\n",
              "  </thead>\n",
              "  <tbody>\n",
              "    <tr>\n",
              "      <th>Diverted</th>\n",
              "      <td>1000000.0</td>\n",
              "      <td>0.0</td>\n",
              "      <td>0.0</td>\n",
              "      <td>0.0</td>\n",
              "      <td>0.0</td>\n",
              "      <td>0.0</td>\n",
              "      <td>0.0</td>\n",
              "      <td>0.0</td>\n",
              "    </tr>\n",
              "  </tbody>\n",
              "</table>\n",
              "</div>\n",
              "      <button class=\"colab-df-convert\" onclick=\"convertToInteractive('df-0dd11885-5415-4074-b849-5a39351ddaad')\"\n",
              "              title=\"Convert this dataframe to an interactive table.\"\n",
              "              style=\"display:none;\">\n",
              "        \n",
              "  <svg xmlns=\"http://www.w3.org/2000/svg\" height=\"24px\"viewBox=\"0 0 24 24\"\n",
              "       width=\"24px\">\n",
              "    <path d=\"M0 0h24v24H0V0z\" fill=\"none\"/>\n",
              "    <path d=\"M18.56 5.44l.94 2.06.94-2.06 2.06-.94-2.06-.94-.94-2.06-.94 2.06-2.06.94zm-11 1L8.5 8.5l.94-2.06 2.06-.94-2.06-.94L8.5 2.5l-.94 2.06-2.06.94zm10 10l.94 2.06.94-2.06 2.06-.94-2.06-.94-.94-2.06-.94 2.06-2.06.94z\"/><path d=\"M17.41 7.96l-1.37-1.37c-.4-.4-.92-.59-1.43-.59-.52 0-1.04.2-1.43.59L10.3 9.45l-7.72 7.72c-.78.78-.78 2.05 0 2.83L4 21.41c.39.39.9.59 1.41.59.51 0 1.02-.2 1.41-.59l7.78-7.78 2.81-2.81c.8-.78.8-2.07 0-2.86zM5.41 20L4 18.59l7.72-7.72 1.47 1.35L5.41 20z\"/>\n",
              "  </svg>\n",
              "      </button>\n",
              "      \n",
              "  <style>\n",
              "    .colab-df-container {\n",
              "      display:flex;\n",
              "      flex-wrap:wrap;\n",
              "      gap: 12px;\n",
              "    }\n",
              "\n",
              "    .colab-df-convert {\n",
              "      background-color: #E8F0FE;\n",
              "      border: none;\n",
              "      border-radius: 50%;\n",
              "      cursor: pointer;\n",
              "      display: none;\n",
              "      fill: #1967D2;\n",
              "      height: 32px;\n",
              "      padding: 0 0 0 0;\n",
              "      width: 32px;\n",
              "    }\n",
              "\n",
              "    .colab-df-convert:hover {\n",
              "      background-color: #E2EBFA;\n",
              "      box-shadow: 0px 1px 2px rgba(60, 64, 67, 0.3), 0px 1px 3px 1px rgba(60, 64, 67, 0.15);\n",
              "      fill: #174EA6;\n",
              "    }\n",
              "\n",
              "    [theme=dark] .colab-df-convert {\n",
              "      background-color: #3B4455;\n",
              "      fill: #D2E3FC;\n",
              "    }\n",
              "\n",
              "    [theme=dark] .colab-df-convert:hover {\n",
              "      background-color: #434B5C;\n",
              "      box-shadow: 0px 1px 3px 1px rgba(0, 0, 0, 0.15);\n",
              "      filter: drop-shadow(0px 1px 2px rgba(0, 0, 0, 0.3));\n",
              "      fill: #FFFFFF;\n",
              "    }\n",
              "  </style>\n",
              "\n",
              "      <script>\n",
              "        const buttonEl =\n",
              "          document.querySelector('#df-0dd11885-5415-4074-b849-5a39351ddaad button.colab-df-convert');\n",
              "        buttonEl.style.display =\n",
              "          google.colab.kernel.accessAllowed ? 'block' : 'none';\n",
              "\n",
              "        async function convertToInteractive(key) {\n",
              "          const element = document.querySelector('#df-0dd11885-5415-4074-b849-5a39351ddaad');\n",
              "          const dataTable =\n",
              "            await google.colab.kernel.invokeFunction('convertToInteractive',\n",
              "                                                     [key], {});\n",
              "          if (!dataTable) return;\n",
              "\n",
              "          const docLinkHtml = 'Like what you see? Visit the ' +\n",
              "            '<a target=\"_blank\" href=https://colab.research.google.com/notebooks/data_table.ipynb>data table notebook</a>'\n",
              "            + ' to learn more about interactive tables.';\n",
              "          element.innerHTML = '';\n",
              "          dataTable['output_type'] = 'display_data';\n",
              "          await google.colab.output.renderOutput(dataTable, element);\n",
              "          const docLink = document.createElement('div');\n",
              "          docLink.innerHTML = docLinkHtml;\n",
              "          element.appendChild(docLink);\n",
              "        }\n",
              "      </script>\n",
              "    </div>\n",
              "  </div>\n",
              "  "
            ]
          },
          "metadata": {}
        }
      ],
      "source": [
        "# Cancelled, Diverted\n",
        "display(train.describe()[['Cancelled']].T)\n",
        "display(train.describe()[['Diverted']].T)\n",
        "\n",
        "print('-' * 60)\n",
        "display(test.describe()[['Cancelled']].T)\n",
        "display(test.describe()[['Diverted']].T)\n"
      ],
      "id": "gR8nekw4T2aP"
    },
    {
      "cell_type": "code",
      "execution_count": null,
      "metadata": {
        "colab": {
          "base_uri": "https://localhost:8080/",
          "height": 1000
        },
        "id": "44a8OtG6OA8i",
        "outputId": "c58b1c67-50f8-4dc3-d4a0-a326f6ce18c2"
      },
      "outputs": [
        {
          "output_type": "display_data",
          "data": {
            "text/plain": [
              "<Figure size 2000x1000 with 3 Axes>"
            ],
            "image/png": "[encoded data removed]"
          },
          "metadata": {}
        },
        {
          "output_type": "stream",
          "name": "stdout",
          "text": [
            "------------------------------------------------------------------------------------------------------------------------------------------------------\n"
          ]
        },
        {
          "output_type": "display_data",
          "data": {
            "text/plain": [
              "<Figure size 2000x1000 with 3 Axes>"
            ],
            "image/png": "[encoded data removed]"
          },
          "metadata": {}
        }
      ],
      "source": [
        "# Origin_Airport, Origin_Airport_ID, Origin_State\n",
        "plt.figure(figsize = (20, 10))\n",
        "plt.subplot(3, 1, 1)\n",
        "sns.countplot(x = 'Origin_Airport', data = train)\n",
        "\n",
        "plt.subplot(3, 1, 2)\n",
        "sns.countplot(x = 'Origin_Airport_ID', data = train)\n",
        "\n",
        "plt.subplot(3, 1, 3)\n",
        "sns.countplot(x = 'Origin_State', data = train)\n",
        "plt.show()\n",
        "\n",
        "print('-' * 150)\n",
        "plt.figure(figsize = (20, 10))\n",
        "plt.subplot(3, 1, 1)\n",
        "sns.countplot(x = 'Origin_Airport', data = test)\n",
        "\n",
        "plt.subplot(3, 1, 2)\n",
        "sns.countplot(x = 'Origin_Airport_ID', data = test)\n",
        "\n",
        "plt.subplot(3, 1, 3)\n",
        "sns.countplot(x = 'Origin_State', data = test)\n",
        "plt.show()"
      ],
      "id": "44a8OtG6OA8i"
    },
    {
      "cell_type": "code",
      "execution_count": null,
      "metadata": {
        "colab": {
          "base_uri": "https://localhost:8080/"
        },
        "id": "8VROYf4GUVmu",
        "outputId": "fb74be73-0ac1-4694-ef25-533bc0cc90ad"
      },
      "outputs": [
        {
          "output_type": "stream",
          "name": "stdout",
          "text": [
            "train : Origin_Airport_ID는 Origin_State와 1:1 대응이다.\n",
            "train : Origin_Airport는 Origin_State와 1:1 대응이다.\n",
            "test : Origin_Airport_ID는 Origin_State와 1:1 대응이다.\n",
            "test : Origin_Airport는 Origin_State와 1:1 대응이다.\n"
          ]
        }
      ],
      "source": [
        "# Origin_State별 Origin_Airport, Origin_Airport_ID(train)\n",
        "origin_train = train.groupby(by = ['Origin_State', 'Origin_Airport_ID', 'Origin_Airport'], as_index = False)[['ID']].count()\n",
        "\n",
        "\n",
        "count = 0\n",
        "for i in origin_train['Origin_Airport_ID'].value_counts():\n",
        "    if i != 1 :\n",
        "        count += 1\n",
        "    else :\n",
        "        pass\n",
        "\n",
        "if count != 0:\n",
        "    print('train : Origin_Airport_ID는 Origin_State와 1:1 대응이 아니다.')\n",
        "else :\n",
        "    print('train : Origin_Airport_ID는 Origin_State와 1:1 대응이다.')\n",
        "\n",
        "\n",
        "count = 0\n",
        "for i in origin_train['Origin_Airport'].value_counts():\n",
        "    if i != 1 :\n",
        "        count += 1\n",
        "    else :\n",
        "        pass\n",
        "\n",
        "if count != 0:\n",
        "    print('train : Origin_Airport는 Origin_State와 1:1 대응이 아니다.')\n",
        "else :\n",
        "    print('train : Origin_Airport는 Origin_State와 1:1 대응이다.')\n",
        "\n",
        "\n",
        "# Origin_State별 Origin_Airport, Origin_Airport_ID(test)\n",
        "origin_test = test.groupby(by = ['Origin_State', 'Origin_Airport_ID', 'Origin_Airport'], as_index = False)[['ID']].count()\n",
        "\n",
        "\n",
        "count = 0\n",
        "for i in origin_test['Origin_Airport_ID'].value_counts():\n",
        "    if i != 1 :\n",
        "        count += 1\n",
        "    else :\n",
        "        pass\n",
        "\n",
        "if count != 0:\n",
        "    print('test : Origin_Airport_ID는 Origin_State와 1:1 대응이 아니다.')\n",
        "else :\n",
        "    print('test : Origin_Airport_ID는 Origin_State와 1:1 대응이다.')\n",
        "\n",
        "\n",
        "count = 0\n",
        "for i in origin_test['Origin_Airport'].value_counts():\n",
        "    if i != 1 :\n",
        "        count += 1\n",
        "    else :\n",
        "        pass\n",
        "\n",
        "if count != 0:\n",
        "    print('test : Origin_Airport는 Origin_State와 1:1 대응이 아니다.')\n",
        "else :\n",
        "    print('test : Origin_Airport는 Origin_State와 1:1 대응이다.')"
      ],
      "id": "8VROYf4GUVmu"
    },
    {
      "cell_type": "code",
      "execution_count": null,
      "metadata": {
        "colab": {
          "base_uri": "https://localhost:8080/"
        },
        "id": "GoqUUoMzUbVF",
        "outputId": "827a930f-48e7-48cd-c3e9-bf1139bcdf08"
      },
      "outputs": [
        {
          "output_type": "stream",
          "name": "stdout",
          "text": [
            "train : Destination_Airport_ID는 Destination_State와 1:1 대응이다.\n",
            "train : Destination_Airport는 Destination_State와 1:1 대응이다.\n",
            "test : Destination_Airport_ID는 Destination_State와 1:1 대응이다.\n",
            "test : Destination_Airport는 Destination_State와 1:1 대응이다.\n"
          ]
        }
      ],
      "source": [
        "# Destination_Airport, Destination_Airport_ID, Destination_State (train)\n",
        "Destination_train = train.groupby(by = ['Destination_State', 'Destination_Airport_ID', 'Destination_Airport'], as_index = False)[['ID']].count()\n",
        "\n",
        "\n",
        "count = 0\n",
        "for i in Destination_train['Destination_Airport_ID'].value_counts():\n",
        "    if i != 1 :\n",
        "        count += 1\n",
        "    else :\n",
        "        pass\n",
        "\n",
        "if count != 0:\n",
        "    print('train: Destination_Airport_ID는 Destination_State와 1:1 대응이 아니다.')\n",
        "else :\n",
        "    print('train : Destination_Airport_ID는 Destination_State와 1:1 대응이다.')\n",
        "\n",
        "\n",
        "count = 0\n",
        "for i in Destination_train['Destination_Airport'].value_counts():\n",
        "    if i != 1 :\n",
        "        count += 1\n",
        "    else :\n",
        "        pass\n",
        "\n",
        "if count != 0:\n",
        "    print('train : Destination_Airport는 Destination_State와 1:1 대응이 아니다.')\n",
        "else :\n",
        "    print('train : Destination_Airport는 Destination_State와 1:1 대응이다.')\n",
        "\n",
        "\n",
        "# Destination_Airport, Destination_Airport_ID, Destination_State (test)\n",
        "Destination_test = test.groupby(by = ['Destination_State', 'Destination_Airport_ID', 'Destination_Airport'], as_index = False)[['ID']].count()\n",
        "\n",
        "\n",
        "count = 0\n",
        "for i in Destination_test['Destination_Airport_ID'].value_counts():\n",
        "    if i != 1 :\n",
        "        count += 1\n",
        "    else :\n",
        "        pass\n",
        "\n",
        "if count != 0:\n",
        "    print('test : Destination_Airport_ID는 Destination_State와 1:1 대응이 아니다.')\n",
        "else :\n",
        "    print('test : Destination_Airport_ID는 Destination_State와 1:1 대응이다.')\n",
        "\n",
        "\n",
        "count = 0\n",
        "for i in Destination_test['Destination_Airport'].value_counts():\n",
        "    if i != 1 :\n",
        "        count += 1\n",
        "    else :\n",
        "        pass\n",
        "\n",
        "if count != 0:\n",
        "    print('test : Destination_Airport는 Destination_State와 1:1 대응이 아니다.')\n",
        "else :\n",
        "    print('test : Destination_Airport는 Destination_State와 1:1 대응이다.')"
      ],
      "id": "GoqUUoMzUbVF"
    },
    {
      "cell_type": "code",
      "execution_count": null,
      "metadata": {
        "colab": {
          "base_uri": "https://localhost:8080/",
          "height": 1000
        },
        "id": "3G9XP0ZqWIqv",
        "outputId": "cfde3e14-a99d-4dc7-be61-e0cc915cb8bc"
      },
      "outputs": [
        {
          "output_type": "stream",
          "name": "stdout",
          "text": [
            "------------------------------------------------------------------------------------------------------------------------------------------------------\n",
            "train\n"
          ]
        },
        {
          "output_type": "display_data",
          "data": {
            "text/plain": [
              "              count        mean         std   min    25%    50%     75%  \\\n",
              "Distance  1000000.0  784.078499  590.790469  16.0  350.0  623.0  1020.0   \n",
              "\n",
              "             max  \n",
              "Distance  5095.0  "
            ],
            "text/html": [
              "\n",
              "  <div id=\"df-70b1288a-44ea-4efc-a8b7-45131003aee7\">\n",
              "    <div class=\"colab-df-container\">\n",
              "      <div>\n",
              "<style scoped>\n",
              "    .dataframe tbody tr th:only-of-type {\n",
              "        vertical-align: middle;\n",
              "    }\n",
              "\n",
              "    .dataframe tbody tr th {\n",
              "        vertical-align: top;\n",
              "    }\n",
              "\n",
              "    .dataframe thead th {\n",
              "        text-align: right;\n",
              "    }\n",
              "</style>\n",
              "<table border=\"1\" class=\"dataframe\">\n",
              "  <thead>\n",
              "    <tr style=\"text-align: right;\">\n",
              "      <th></th>\n",
              "      <th>count</th>\n",
              "      <th>mean</th>\n",
              "      <th>std</th>\n",
              "      <th>min</th>\n",
              "      <th>25%</th>\n",
              "      <th>50%</th>\n",
              "      <th>75%</th>\n",
              "      <th>max</th>\n",
              "    </tr>\n",
              "  </thead>\n",
              "  <tbody>\n",
              "    <tr>\n",
              "      <th>Distance</th>\n",
              "      <td>1000000.0</td>\n",
              "      <td>784.078499</td>\n",
              "      <td>590.790469</td>\n",
              "      <td>16.0</td>\n",
              "      <td>350.0</td>\n",
              "      <td>623.0</td>\n",
              "      <td>1020.0</td>\n",
              "      <td>5095.0</td>\n",
              "    </tr>\n",
              "  </tbody>\n",
              "</table>\n",
              "</div>\n",
              "      <button class=\"colab-df-convert\" onclick=\"convertToInteractive('df-70b1288a-44ea-4efc-a8b7-45131003aee7')\"\n",
              "              title=\"Convert this dataframe to an interactive table.\"\n",
              "              style=\"display:none;\">\n",
              "        \n",
              "  <svg xmlns=\"http://www.w3.org/2000/svg\" height=\"24px\"viewBox=\"0 0 24 24\"\n",
              "       width=\"24px\">\n",
              "    <path d=\"M0 0h24v24H0V0z\" fill=\"none\"/>\n",
              "    <path d=\"M18.56 5.44l.94 2.06.94-2.06 2.06-.94-2.06-.94-.94-2.06-.94 2.06-2.06.94zm-11 1L8.5 8.5l.94-2.06 2.06-.94-2.06-.94L8.5 2.5l-.94 2.06-2.06.94zm10 10l.94 2.06.94-2.06 2.06-.94-2.06-.94-.94-2.06-.94 2.06-2.06.94z\"/><path d=\"M17.41 7.96l-1.37-1.37c-.4-.4-.92-.59-1.43-.59-.52 0-1.04.2-1.43.59L10.3 9.45l-7.72 7.72c-.78.78-.78 2.05 0 2.83L4 21.41c.39.39.9.59 1.41.59.51 0 1.02-.2 1.41-.59l7.78-7.78 2.81-2.81c.8-.78.8-2.07 0-2.86zM5.41 20L4 18.59l7.72-7.72 1.47 1.35L5.41 20z\"/>\n",
              "  </svg>\n",
              "      </button>\n",
              "      \n",
              "  <style>\n",
              "    .colab-df-container {\n",
              "      display:flex;\n",
              "      flex-wrap:wrap;\n",
              "      gap: 12px;\n",
              "    }\n",
              "\n",
              "    .colab-df-convert {\n",
              "      background-color: #E8F0FE;\n",
              "      border: none;\n",
              "      border-radius: 50%;\n",
              "      cursor: pointer;\n",
              "      display: none;\n",
              "      fill: #1967D2;\n",
              "      height: 32px;\n",
              "      padding: 0 0 0 0;\n",
              "      width: 32px;\n",
              "    }\n",
              "\n",
              "    .colab-df-convert:hover {\n",
              "      background-color: #E2EBFA;\n",
              "      box-shadow: 0px 1px 2px rgba(60, 64, 67, 0.3), 0px 1px 3px 1px rgba(60, 64, 67, 0.15);\n",
              "      fill: #174EA6;\n",
              "    }\n",
              "\n",
              "    [theme=dark] .colab-df-convert {\n",
              "      background-color: #3B4455;\n",
              "      fill: #D2E3FC;\n",
              "    }\n",
              "\n",
              "    [theme=dark] .colab-df-convert:hover {\n",
              "      background-color: #434B5C;\n",
              "      box-shadow: 0px 1px 3px 1px rgba(0, 0, 0, 0.15);\n",
              "      filter: drop-shadow(0px 1px 2px rgba(0, 0, 0, 0.3));\n",
              "      fill: #FFFFFF;\n",
              "    }\n",
              "  </style>\n",
              "\n",
              "      <script>\n",
              "        const buttonEl =\n",
              "          document.querySelector('#df-70b1288a-44ea-4efc-a8b7-45131003aee7 button.colab-df-convert');\n",
              "        buttonEl.style.display =\n",
              "          google.colab.kernel.accessAllowed ? 'block' : 'none';\n",
              "\n",
              "        async function convertToInteractive(key) {\n",
              "          const element = document.querySelector('#df-70b1288a-44ea-4efc-a8b7-45131003aee7');\n",
              "          const dataTable =\n",
              "            await google.colab.kernel.invokeFunction('convertToInteractive',\n",
              "                                                     [key], {});\n",
              "          if (!dataTable) return;\n",
              "\n",
              "          const docLinkHtml = 'Like what you see? Visit the ' +\n",
              "            '<a target=\"_blank\" href=https://colab.research.google.com/notebooks/data_table.ipynb>data table notebook</a>'\n",
              "            + ' to learn more about interactive tables.';\n",
              "          element.innerHTML = '';\n",
              "          dataTable['output_type'] = 'display_data';\n",
              "          await google.colab.output.renderOutput(dataTable, element);\n",
              "          const docLink = document.createElement('div');\n",
              "          docLink.innerHTML = docLinkHtml;\n",
              "          element.appendChild(docLink);\n",
              "        }\n",
              "      </script>\n",
              "    </div>\n",
              "  </div>\n",
              "  "
            ]
          },
          "metadata": {}
        },
        {
          "output_type": "display_data",
          "data": {
            "text/plain": [
              "<Figure size 1000x500 with 2 Axes>"
            ],
            "image/png": "[encoded data removed]"
          },
          "metadata": {}
        },
        {
          "output_type": "stream",
          "name": "stdout",
          "text": [
            "------------------------------------------------------------------------------------------------------------------------------------------------------\n",
            "test\n"
          ]
        },
        {
          "output_type": "display_data",
          "data": {
            "text/plain": [
              "              count        mean         std   min    25%    50%     75%  \\\n",
              "Distance  1000000.0  795.849058  594.558756  16.0  358.0  634.0  1034.0   \n",
              "\n",
              "             max  \n",
              "Distance  5095.0  "
            ],
            "text/html": [
              "\n",
              "  <div id=\"df-a793cf0b-44d3-423b-b712-76473da80b98\">\n",
              "    <div class=\"colab-df-container\">\n",
              "      <div>\n",
              "<style scoped>\n",
              "    .dataframe tbody tr th:only-of-type {\n",
              "        vertical-align: middle;\n",
              "    }\n",
              "\n",
              "    .dataframe tbody tr th {\n",
              "        vertical-align: top;\n",
              "    }\n",
              "\n",
              "    .dataframe thead th {\n",
              "        text-align: right;\n",
              "    }\n",
              "</style>\n",
              "<table border=\"1\" class=\"dataframe\">\n",
              "  <thead>\n",
              "    <tr style=\"text-align: right;\">\n",
              "      <th></th>\n",
              "      <th>count</th>\n",
              "      <th>mean</th>\n",
              "      <th>std</th>\n",
              "      <th>min</th>\n",
              "      <th>25%</th>\n",
              "      <th>50%</th>\n",
              "      <th>75%</th>\n",
              "      <th>max</th>\n",
              "    </tr>\n",
              "  </thead>\n",
              "  <tbody>\n",
              "    <tr>\n",
              "      <th>Distance</th>\n",
              "      <td>1000000.0</td>\n",
              "      <td>795.849058</td>\n",
              "      <td>594.558756</td>\n",
              "      <td>16.0</td>\n",
              "      <td>358.0</td>\n",
              "      <td>634.0</td>\n",
              "      <td>1034.0</td>\n",
              "      <td>5095.0</td>\n",
              "    </tr>\n",
              "  </tbody>\n",
              "</table>\n",
              "</div>\n",
              "      <button class=\"colab-df-convert\" onclick=\"convertToInteractive('df-a793cf0b-44d3-423b-b712-76473da80b98')\"\n",
              "              title=\"Convert this dataframe to an interactive table.\"\n",
              "              style=\"display:none;\">\n",
              "        \n",
              "  <svg xmlns=\"http://www.w3.org/2000/svg\" height=\"24px\"viewBox=\"0 0 24 24\"\n",
              "       width=\"24px\">\n",
              "    <path d=\"M0 0h24v24H0V0z\" fill=\"none\"/>\n",
              "    <path d=\"M18.56 5.44l.94 2.06.94-2.06 2.06-.94-2.06-.94-.94-2.06-.94 2.06-2.06.94zm-11 1L8.5 8.5l.94-2.06 2.06-.94-2.06-.94L8.5 2.5l-.94 2.06-2.06.94zm10 10l.94 2.06.94-2.06 2.06-.94-2.06-.94-.94-2.06-.94 2.06-2.06.94z\"/><path d=\"M17.41 7.96l-1.37-1.37c-.4-.4-.92-.59-1.43-.59-.52 0-1.04.2-1.43.59L10.3 9.45l-7.72 7.72c-.78.78-.78 2.05 0 2.83L4 21.41c.39.39.9.59 1.41.59.51 0 1.02-.2 1.41-.59l7.78-7.78 2.81-2.81c.8-.78.8-2.07 0-2.86zM5.41 20L4 18.59l7.72-7.72 1.47 1.35L5.41 20z\"/>\n",
              "  </svg>\n",
              "      </button>\n",
              "      \n",
              "  <style>\n",
              "    .colab-df-container {\n",
              "      display:flex;\n",
              "      flex-wrap:wrap;\n",
              "      gap: 12px;\n",
              "    }\n",
              "\n",
              "    .colab-df-convert {\n",
              "      background-color: #E8F0FE;\n",
              "      border: none;\n",
              "      border-radius: 50%;\n",
              "      cursor: pointer;\n",
              "      display: none;\n",
              "      fill: #1967D2;\n",
              "      height: 32px;\n",
              "      padding: 0 0 0 0;\n",
              "      width: 32px;\n",
              "    }\n",
              "\n",
              "    .colab-df-convert:hover {\n",
              "      background-color: #E2EBFA;\n",
              "      box-shadow: 0px 1px 2px rgba(60, 64, 67, 0.3), 0px 1px 3px 1px rgba(60, 64, 67, 0.15);\n",
              "      fill: #174EA6;\n",
              "    }\n",
              "\n",
              "    [theme=dark] .colab-df-convert {\n",
              "      background-color: #3B4455;\n",
              "      fill: #D2E3FC;\n",
              "    }\n",
              "\n",
              "    [theme=dark] .colab-df-convert:hover {\n",
              "      background-color: #434B5C;\n",
              "      box-shadow: 0px 1px 3px 1px rgba(0, 0, 0, 0.15);\n",
              "      filter: drop-shadow(0px 1px 2px rgba(0, 0, 0, 0.3));\n",
              "      fill: #FFFFFF;\n",
              "    }\n",
              "  </style>\n",
              "\n",
              "      <script>\n",
              "        const buttonEl =\n",
              "          document.querySelector('#df-a793cf0b-44d3-423b-b712-76473da80b98 button.colab-df-convert');\n",
              "        buttonEl.style.display =\n",
              "          google.colab.kernel.accessAllowed ? 'block' : 'none';\n",
              "\n",
              "        async function convertToInteractive(key) {\n",
              "          const element = document.querySelector('#df-a793cf0b-44d3-423b-b712-76473da80b98');\n",
              "          const dataTable =\n",
              "            await google.colab.kernel.invokeFunction('convertToInteractive',\n",
              "                                                     [key], {});\n",
              "          if (!dataTable) return;\n",
              "\n",
              "          const docLinkHtml = 'Like what you see? Visit the ' +\n",
              "            '<a target=\"_blank\" href=https://colab.research.google.com/notebooks/data_table.ipynb>data table notebook</a>'\n",
              "            + ' to learn more about interactive tables.';\n",
              "          element.innerHTML = '';\n",
              "          dataTable['output_type'] = 'display_data';\n",
              "          await google.colab.output.renderOutput(dataTable, element);\n",
              "          const docLink = document.createElement('div');\n",
              "          docLink.innerHTML = docLinkHtml;\n",
              "          element.appendChild(docLink);\n",
              "        }\n",
              "      </script>\n",
              "    </div>\n",
              "  </div>\n",
              "  "
            ]
          },
          "metadata": {}
        },
        {
          "output_type": "display_data",
          "data": {
            "text/plain": [
              "<Figure size 1000x500 with 2 Axes>"
            ],
            "image/png": "[encoded data removed]"
          },
          "metadata": {}
        }
      ],
      "source": [
        "# Distance\n",
        "\n",
        "print('-' * 150)\n",
        "print('train')\n",
        "display(train.describe()[['Distance']].T)\n",
        "\n",
        "\n",
        "\n",
        "plt.figure(figsize = (10,5))\n",
        "plt.subplot(1,2,1)\n",
        "sns.histplot(x = 'Distance', data = train, kde= True)\n",
        "plt.subplot(1,2,2)\n",
        "sns.boxplot(x = 'Distance', data = train)\n",
        "plt.show()\n",
        "\n",
        "print('-' * 150)\n",
        "print('test')\n",
        "display(test.describe()[['Distance']].T)\n",
        "\n",
        "\n",
        "\n",
        "plt.figure(figsize = (10,5))\n",
        "plt.subplot(1,2,1)\n",
        "sns.histplot(x = 'Distance', data = test, kde= True)\n",
        "plt.subplot(1,2,2)\n",
        "sns.boxplot(x = 'Distance', data = test)\n",
        "plt.show()"
      ],
      "id": "3G9XP0ZqWIqv"
    },
    {
      "cell_type": "code",
      "execution_count": null,
      "metadata": {
        "colab": {
          "base_uri": "https://localhost:8080/",
          "height": 1000
        },
        "id": "MmXEzMhBWPPV",
        "outputId": "87861f06-d234-4b0e-fb76-6aa16c37213d"
      },
      "outputs": [
        {
          "output_type": "stream",
          "name": "stdout",
          "text": [
            "Southwest Airlines Co.                       0.182113\n",
            "Delta Air Lines Inc.                         0.089750\n",
            "SkyWest Airlines Inc.                        0.086867\n",
            "United Air Lines Inc.                        0.084070\n",
            "American Airlines Inc.                       0.082755\n",
            "JetBlue Airways                              0.041643\n",
            "Republic Airlines                            0.033582\n",
            "Alaska Airlines Inc.                         0.029141\n",
            "Envoy Air                                    0.027455\n",
            "Spirit Air Lines                             0.024998\n",
            "Comair Inc.                                  0.024723\n",
            "Mesa Airlines Inc.                           0.024679\n",
            "Endeavor Air Inc.                            0.023172\n",
            "ExpressJet Airlines Inc.                     0.020144\n",
            "Frontier Airlines Inc.                       0.017415\n",
            "Allegiant Air                                0.013667\n",
            "Air Wisconsin Airlines Corp                  0.013400\n",
            "Horizon Air                                  0.013087\n",
            "Hawaiian Airlines Inc.                       0.010907\n",
            "Capital Cargo International                  0.009954\n",
            "GoJet Airlines, LLC d/b/a United Express     0.009554\n",
            "Trans States Airlines                        0.009363\n",
            "Compass Airlines                             0.008876\n",
            "Commutair Aka Champlain Enterprises, Inc.    0.007143\n",
            "Virgin America                               0.001303\n",
            "Empire Airlines Inc.                         0.001056\n",
            "Peninsula Airways Inc.                       0.000146\n",
            "Cape Air                                     0.000117\n",
            "Name: Airline, dtype: float64\n"
          ]
        },
        {
          "output_type": "display_data",
          "data": {
            "text/plain": [
              "<Figure size 1500x500 with 1 Axes>"
            ],
            "image/png": "[encoded data removed]"
          },
          "metadata": {}
        },
        {
          "output_type": "stream",
          "name": "stdout",
          "text": [
            "------------------------------------------------------------------------------------------------------------------------------------------------------\n",
            "Southwest Airlines Co.                       0.183258\n",
            "Delta Air Lines Inc.                         0.086363\n",
            "American Airlines Inc.                       0.086056\n",
            "SkyWest Airlines Inc.                        0.085650\n",
            "United Air Lines Inc.                        0.083733\n",
            "JetBlue Airways                              0.044116\n",
            "Republic Airlines                            0.033184\n",
            "Alaska Airlines Inc.                         0.028356\n",
            "Envoy Air                                    0.027977\n",
            "Comair Inc.                                  0.025198\n",
            "Spirit Air Lines                             0.024912\n",
            "Mesa Airlines Inc.                           0.024271\n",
            "Endeavor Air Inc.                            0.023006\n",
            "ExpressJet Airlines Inc.                     0.020451\n",
            "Frontier Airlines Inc.                       0.018920\n",
            "Allegiant Air                                0.013649\n",
            "Air Wisconsin Airlines Corp                  0.013256\n",
            "Horizon Air                                  0.012399\n",
            "Capital Cargo International                  0.010142\n",
            "Trans States Airlines                        0.010048\n",
            "Hawaiian Airlines Inc.                       0.009738\n",
            "GoJet Airlines, LLC d/b/a United Express     0.009380\n",
            "Compass Airlines                             0.008600\n",
            "Commutair Aka Champlain Enterprises, Inc.    0.008108\n",
            "Virgin America                               0.001326\n",
            "Empire Airlines Inc.                         0.001069\n",
            "Peninsula Airways Inc.                       0.000202\n",
            "Cape Air                                     0.000105\n",
            "Name: Airline, dtype: float64\n"
          ]
        },
        {
          "output_type": "display_data",
          "data": {
            "text/plain": [
              "<Figure size 1500x500 with 1 Axes>"
            ],
            "image/png": "[encoded data removed]"
          },
          "metadata": {}
        }
      ],
      "source": [
        "# Airline\n",
        "print(train['Airline'].value_counts()/train.shape[0])\n",
        "plt.figure(figsize=(15,5))\n",
        "sns.countplot(x = train['Airline'])\n",
        "plt.show()\n",
        "\n",
        "print('-' * 150)\n",
        "print(test['Airline'].value_counts()/test.shape[0])\n",
        "plt.figure(figsize=(15,5))\n",
        "sns.countplot(x = test['Airline'])\n",
        "plt.show()"
      ],
      "id": "MmXEzMhBWPPV"
    },
    {
      "cell_type": "code",
      "execution_count": null,
      "metadata": {
        "colab": {
          "base_uri": "https://localhost:8080/",
          "height": 1000
        },
        "id": "XwI9DHqLWU2C",
        "outputId": "03dbf667-98e1-4724-a606-d038218ba8f7"
      },
      "outputs": [
        {
          "output_type": "stream",
          "name": "stdout",
          "text": [
            "UA    0.206211\n",
            "WN    0.182189\n",
            "AA    0.182099\n",
            "DL    0.161266\n",
            "AS    0.048155\n",
            "B6    0.041477\n",
            "NK    0.025074\n",
            "F9    0.017458\n",
            "G4    0.013746\n",
            "HA    0.012019\n",
            "VX    0.001316\n",
            "Name: Carrier_Code(IATA), dtype: float64\n"
          ]
        },
        {
          "output_type": "display_data",
          "data": {
            "text/plain": [
              "<Figure size 640x480 with 1 Axes>"
            ],
            "image/png": "[encoded data removed]"
          },
          "metadata": {}
        },
        {
          "output_type": "stream",
          "name": "stdout",
          "text": [
            "----------------------------------------------------------------------------------------------------\n",
            "UA    0.200174\n",
            "AA    0.182635\n",
            "WN    0.179818\n",
            "DL    0.152685\n",
            "AS    0.045966\n",
            "B6    0.043958\n",
            "NK    0.025579\n",
            "F9    0.018982\n",
            "G4    0.014061\n",
            "HA    0.010684\n",
            "OO    0.005111\n",
            "OH    0.002517\n",
            "MQ    0.002126\n",
            "YV    0.001720\n",
            "YX    0.001650\n",
            "9E    0.001375\n",
            "VX    0.001260\n",
            "EV    0.000706\n",
            "Name: Carrier_Code(IATA), dtype: float64\n"
          ]
        },
        {
          "output_type": "display_data",
          "data": {
            "text/plain": [
              "<Figure size 640x480 with 1 Axes>"
            ],
            "image/png": "[encoded data removed]"
          },
          "metadata": {}
        }
      ],
      "source": [
        "# Carrier_Code(IATA)\n",
        "print(train['Carrier_Code(IATA)'].value_counts()/train.shape[0])\n",
        "sns.countplot(x = train['Carrier_Code(IATA)'])\n",
        "plt.show()\n",
        "\n",
        "print('-' * 100)\n",
        "print(test['Carrier_Code(IATA)'].value_counts()/test.shape[0])\n",
        "sns.countplot(x = test['Carrier_Code(IATA)'])\n",
        "plt.show()"
      ],
      "id": "XwI9DHqLWU2C"
    },
    {
      "cell_type": "code",
      "execution_count": null,
      "metadata": {
        "colab": {
          "base_uri": "https://localhost:8080/",
          "height": 1000
        },
        "id": "RbaUb_BRWWOc",
        "outputId": "85f36510-ada1-4d26-fccc-69abbb1983ad"
      },
      "outputs": [
        {
          "output_type": "stream",
          "name": "stdout",
          "text": [
            "19393.0    0.182025\n",
            "19790.0    0.089958\n",
            "20304.0    0.086902\n",
            "19977.0    0.083984\n",
            "19805.0    0.082860\n",
            "20409.0    0.041615\n",
            "20452.0    0.033351\n",
            "19930.0    0.029085\n",
            "20398.0    0.027474\n",
            "20416.0    0.024983\n",
            "20397.0    0.024838\n",
            "20378.0    0.024699\n",
            "20363.0    0.023113\n",
            "20366.0    0.020197\n",
            "20436.0    0.017440\n",
            "20368.0    0.013739\n",
            "20046.0    0.013319\n",
            "19687.0    0.013107\n",
            "19690.0    0.010921\n",
            "20427.0    0.009962\n",
            "20500.0    0.009532\n",
            "20237.0    0.009321\n",
            "21167.0    0.008813\n",
            "20445.0    0.007124\n",
            "21171.0    0.001324\n",
            "20263.0    0.001052\n",
            "20225.0    0.000142\n",
            "20253.0    0.000123\n",
            "Name: Carrier_ID(DOT), dtype: float64\n"
          ]
        },
        {
          "output_type": "display_data",
          "data": {
            "text/plain": [
              "<Figure size 640x480 with 1 Axes>"
            ],
            "image/png": "[encoded data removed]"
          },
          "metadata": {}
        },
        {
          "output_type": "stream",
          "name": "stdout",
          "text": [
            "----------------------------------------------------------------------------------------------------\n",
            "19393.0    0.179910\n",
            "19805.0    0.087875\n",
            "19790.0    0.086309\n",
            "20304.0    0.086241\n",
            "19977.0    0.082990\n",
            "20409.0    0.044001\n",
            "20452.0    0.033114\n",
            "19930.0    0.028877\n",
            "20398.0    0.028636\n",
            "20397.0    0.026435\n",
            "20416.0    0.025386\n",
            "20378.0    0.024627\n",
            "20363.0    0.023133\n",
            "20366.0    0.020082\n",
            "20436.0    0.019097\n",
            "20368.0    0.014014\n",
            "20046.0    0.012580\n",
            "19687.0    0.011822\n",
            "19690.0    0.009620\n",
            "20427.0    0.009549\n",
            "20237.0    0.009433\n",
            "20500.0    0.008904\n",
            "21167.0    0.008138\n",
            "20445.0    0.007633\n",
            "21171.0    0.001278\n",
            "20263.0    0.001017\n",
            "20225.0    0.000189\n",
            "20253.0    0.000104\n",
            "Name: Carrier_ID(DOT), dtype: float64\n"
          ]
        },
        {
          "output_type": "display_data",
          "data": {
            "text/plain": [
              "<Figure size 640x480 with 1 Axes>"
            ],
            "image/png": "[encoded data removed]"
          },
          "metadata": {}
        }
      ],
      "source": [
        "# Carrier_ID(DOT)\n",
        "print(train['Carrier_ID(DOT)'].value_counts()/train.shape[0])\n",
        "sns.countplot(x = train['Carrier_ID(DOT)'])\n",
        "plt.show()\n",
        "\n",
        "print('-' * 100)\n",
        "print(test['Carrier_ID(DOT)'].value_counts()/test.shape[0])\n",
        "sns.countplot(x = test['Carrier_ID(DOT)'])\n",
        "plt.show()"
      ],
      "id": "RbaUb_BRWWOc"
    },
    {
      "cell_type": "code",
      "execution_count": null,
      "metadata": {
        "id": "N04Mx9Q9WY6D"
      },
      "outputs": [],
      "source": [
        "# Tail_Number -> 값이 너무 많아서 문제\n",
        "# print(train['Tail_Number'].value_counts()/train.shape[0])\n",
        "# sns.countplot(x = train['Tail_Number'])\n",
        "# plt.show()"
      ],
      "id": "N04Mx9Q9WY6D"
    },
    {
      "cell_type": "code",
      "execution_count": null,
      "metadata": {
        "colab": {
          "base_uri": "https://localhost:8080/"
        },
        "id": "eMEEmipQZQ1f",
        "outputId": "3ca397e3-ba1c-4fa2-9b31-648de0bf56c8"
      },
      "outputs": [
        {
          "output_type": "stream",
          "name": "stdout",
          "text": [
            "train : Carrier_ID(DOT)는 Airline과 1:1 대응이다\n",
            "test : Carrier_ID(DOT)는 Airline과 1:1 대응이다\n"
          ]
        }
      ],
      "source": [
        "tail_train = train.groupby(['Airline', 'Carrier_ID(DOT)'], as_index= False)[['ID']].count()\n",
        "\n",
        "count = 0\n",
        "for i in tail_train['Carrier_ID(DOT)'].value_counts():\n",
        "    if i != 1 :\n",
        "        count += 1\n",
        "    else :\n",
        "        pass\n",
        "\n",
        "if count != 0:\n",
        "    print('train : Carrier_ID(DOT)는 Airline과 1:1 대응이 아니다.')\n",
        "else :\n",
        "    print('train : Carrier_ID(DOT)는 Airline과 1:1 대응이다')\n",
        "\n",
        "\n",
        "tail_test = test.groupby(['Airline', 'Carrier_ID(DOT)'], as_index= False)[['ID']].count()\n",
        "\n",
        "count = 0\n",
        "for i in tail_test['Carrier_ID(DOT)'].value_counts():\n",
        "    if i != 1 :\n",
        "        count += 1\n",
        "    else :\n",
        "        pass\n",
        "\n",
        "if count != 0:\n",
        "    print('test : Carrier_ID(DOT)는 Airline과 1:1 대응이 아니다.')\n",
        "else :\n",
        "    print('test : Carrier_ID(DOT)는 Airline과 1:1 대응이다')"
      ],
      "id": "eMEEmipQZQ1f"
    },
    {
      "cell_type": "code",
      "execution_count": null,
      "metadata": {
        "colab": {
          "base_uri": "https://localhost:8080/",
          "height": 523
        },
        "id": "16PIdwUZWbRr",
        "outputId": "d127dac8-bfd1-4d4b-ca0a-4fccfb2160c2"
      },
      "outputs": [
        {
          "output_type": "stream",
          "name": "stdout",
          "text": [
            "Not_Delayed    0.210001\n",
            "Delayed        0.045000\n",
            "Name: Delay, dtype: float64\n"
          ]
        },
        {
          "output_type": "execute_result",
          "data": {
            "text/plain": [
              "<Axes: xlabel='Delay', ylabel='count'>"
            ]
          },
          "metadata": {},
          "execution_count": 28
        },
        {
          "output_type": "display_data",
          "data": {
            "text/plain": [
              "<Figure size 640x480 with 1 Axes>"
            ],
            "image/png": "[encoded data removed]"
          },
          "metadata": {}
        }
      ],
      "source": [
        "# Delay -> target 값\n",
        "print(train['Delay'].value_counts()/train.shape[0])\n",
        "\n",
        "sns.countplot(x='Delay', data = train)"
      ],
      "id": "16PIdwUZWbRr"
    },
    {
      "cell_type": "markdown",
      "metadata": {
        "id": "fdf53d4e-957d-4b3f-8d6b-0335822e1794"
      },
      "source": [
        "# Data Pre-Processing"
      ],
      "id": "fdf53d4e-957d-4b3f-8d6b-0335822e1794"
    },
    {
      "cell_type": "markdown",
      "metadata": {
        "id": "6DS1YNPHGssV"
      },
      "source": [
        "## 결측치"
      ],
      "id": "6DS1YNPHGssV"
    },
    {
      "cell_type": "code",
      "execution_count": null,
      "metadata": {
        "colab": {
          "base_uri": "https://localhost:8080/"
        },
        "id": "g9cfHxWCGvF5",
        "outputId": "d212109e-da4b-4d5d-988c-844943c3ce5e"
      },
      "outputs": [
        {
          "output_type": "stream",
          "name": "stdout",
          "text": [
            "ID                               0\n",
            "Month                            0\n",
            "Day_of_Month                     0\n",
            "Estimated_Departure_Time    109019\n",
            "Estimated_Arrival_Time      109040\n",
            "Cancelled                        0\n",
            "Diverted                         0\n",
            "Origin_Airport                   0\n",
            "Origin_Airport_ID                0\n",
            "Origin_State                109015\n",
            "Destination_Airport              0\n",
            "Destination_Airport_ID           0\n",
            "Destination_State           109079\n",
            "Distance                         0\n",
            "Airline                     108920\n",
            "Carrier_Code(IATA)          108990\n",
            "Carrier_ID(DOT)             108997\n",
            "Tail_Number                      0\n",
            "Delay                       744999\n",
            "dtype: int64\n",
            "--------------------------------------------------\n",
            "ID                          0.000000\n",
            "Month                       0.000000\n",
            "Day_of_Month                0.000000\n",
            "Estimated_Departure_Time    0.109019\n",
            "Estimated_Arrival_Time      0.109040\n",
            "Cancelled                   0.000000\n",
            "Diverted                    0.000000\n",
            "Origin_Airport              0.000000\n",
            "Origin_Airport_ID           0.000000\n",
            "Origin_State                0.109015\n",
            "Destination_Airport         0.000000\n",
            "Destination_Airport_ID      0.000000\n",
            "Destination_State           0.109079\n",
            "Distance                    0.000000\n",
            "Airline                     0.108920\n",
            "Carrier_Code(IATA)          0.108990\n",
            "Carrier_ID(DOT)             0.108997\n",
            "Tail_Number                 0.000000\n",
            "Delay                       0.744999\n",
            "dtype: float64\n"
          ]
        }
      ],
      "source": [
        "print(train.isna().sum())\n",
        "print('-'*50)\n",
        "print(train.isna().sum()/train.shape[0])"
      ],
      "id": "g9cfHxWCGvF5"
    },
    {
      "cell_type": "code",
      "execution_count": null,
      "metadata": {
        "colab": {
          "base_uri": "https://localhost:8080/"
        },
        "id": "B9sgkHIH15eC",
        "outputId": "c8167e85-22ae-40cc-a023-1b3ff5ae2682"
      },
      "outputs": [
        {
          "output_type": "stream",
          "name": "stdout",
          "text": [
            "ID                               0\n",
            "Month                            0\n",
            "Day_of_Month                     0\n",
            "Estimated_Departure_Time    108984\n",
            "Estimated_Arrival_Time      109048\n",
            "Cancelled                        0\n",
            "Diverted                         0\n",
            "Origin_Airport                   0\n",
            "Origin_Airport_ID                0\n",
            "Origin_State                106505\n",
            "Destination_Airport              0\n",
            "Destination_Airport_ID           0\n",
            "Destination_State           106523\n",
            "Distance                         0\n",
            "Airline                     106527\n",
            "Carrier_Code(IATA)          108993\n",
            "Carrier_ID(DOT)             109006\n",
            "Tail_Number                      0\n",
            "dtype: int64\n",
            "--------------------------------------------------\n",
            "ID                          0.000000\n",
            "Month                       0.000000\n",
            "Day_of_Month                0.000000\n",
            "Estimated_Departure_Time    0.108984\n",
            "Estimated_Arrival_Time      0.109048\n",
            "Cancelled                   0.000000\n",
            "Diverted                    0.000000\n",
            "Origin_Airport              0.000000\n",
            "Origin_Airport_ID           0.000000\n",
            "Origin_State                0.106505\n",
            "Destination_Airport         0.000000\n",
            "Destination_Airport_ID      0.000000\n",
            "Destination_State           0.106523\n",
            "Distance                    0.000000\n",
            "Airline                     0.106527\n",
            "Carrier_Code(IATA)          0.108993\n",
            "Carrier_ID(DOT)             0.109006\n",
            "Tail_Number                 0.000000\n",
            "dtype: float64\n"
          ]
        }
      ],
      "source": [
        "print(test.isna().sum())\n",
        "print('-'*50)\n",
        "print(test.isna().sum()/test.shape[0])"
      ],
      "id": "B9sgkHIH15eC"
    },
    {
      "cell_type": "markdown",
      "metadata": {
        "id": "lWuHAgOKH5xs"
      },
      "source": [
        "State 결측치\n",
        "- Origin은 Origin_Airport와 Airport ID로 결측치 채우기\n",
        "- Destination은 Destination_Airport와 Airport ID로 결측치 채우기"
      ],
      "id": "lWuHAgOKH5xs"
    },
    {
      "cell_type": "code",
      "execution_count": null,
      "metadata": {
        "id": "fGZby4DYMfpb"
      },
      "outputs": [],
      "source": [
        "pd.set_option('display.max_columns', None)\n",
        "pd.set_option('display.max_rows', None)"
      ],
      "id": "fGZby4DYMfpb"
    },
    {
      "cell_type": "code",
      "execution_count": null,
      "metadata": {
        "colab": {
          "base_uri": "https://localhost:8080/",
          "height": 143
        },
        "id": "_3HR-AG7PTL6",
        "outputId": "95ea04a5-a1ea-47e1-d53e-baf688db9c37"
      },
      "outputs": [
        {
          "output_type": "execute_result",
          "data": {
            "text/plain": [
              "  Origin_State  Origin_Airport_ID Origin_Airport    ID\n",
              "0      Alabama              10562            BFM     5\n",
              "1      Alabama              10599            BHM  2153\n",
              "2      Alabama              11308            DHN   136"
            ],
            "text/html": [
              "\n",
              "  <div id=\"df-ad95d30f-bf92-424b-bd32-e4f17f5a8dea\">\n",
              "    <div class=\"colab-df-container\">\n",
              "      <div>\n",
              "<style scoped>\n",
              "    .dataframe tbody tr th:only-of-type {\n",
              "        vertical-align: middle;\n",
              "    }\n",
              "\n",
              "    .dataframe tbody tr th {\n",
              "        vertical-align: top;\n",
              "    }\n",
              "\n",
              "    .dataframe thead th {\n",
              "        text-align: right;\n",
              "    }\n",
              "</style>\n",
              "<table border=\"1\" class=\"dataframe\">\n",
              "  <thead>\n",
              "    <tr style=\"text-align: right;\">\n",
              "      <th></th>\n",
              "      <th>Origin_State</th>\n",
              "      <th>Origin_Airport_ID</th>\n",
              "      <th>Origin_Airport</th>\n",
              "      <th>ID</th>\n",
              "    </tr>\n",
              "  </thead>\n",
              "  <tbody>\n",
              "    <tr>\n",
              "      <th>0</th>\n",
              "      <td>Alabama</td>\n",
              "      <td>10562</td>\n",
              "      <td>BFM</td>\n",
              "      <td>5</td>\n",
              "    </tr>\n",
              "    <tr>\n",
              "      <th>1</th>\n",
              "      <td>Alabama</td>\n",
              "      <td>10599</td>\n",
              "      <td>BHM</td>\n",
              "      <td>2153</td>\n",
              "    </tr>\n",
              "    <tr>\n",
              "      <th>2</th>\n",
              "      <td>Alabama</td>\n",
              "      <td>11308</td>\n",
              "      <td>DHN</td>\n",
              "      <td>136</td>\n",
              "    </tr>\n",
              "  </tbody>\n",
              "</table>\n",
              "</div>\n",
              "      <button class=\"colab-df-convert\" onclick=\"convertToInteractive('df-ad95d30f-bf92-424b-bd32-e4f17f5a8dea')\"\n",
              "              title=\"Convert this dataframe to an interactive table.\"\n",
              "              style=\"display:none;\">\n",
              "        \n",
              "  <svg xmlns=\"http://www.w3.org/2000/svg\" height=\"24px\"viewBox=\"0 0 24 24\"\n",
              "       width=\"24px\">\n",
              "    <path d=\"M0 0h24v24H0V0z\" fill=\"none\"/>\n",
              "    <path d=\"M18.56 5.44l.94 2.06.94-2.06 2.06-.94-2.06-.94-.94-2.06-.94 2.06-2.06.94zm-11 1L8.5 8.5l.94-2.06 2.06-.94-2.06-.94L8.5 2.5l-.94 2.06-2.06.94zm10 10l.94 2.06.94-2.06 2.06-.94-2.06-.94-.94-2.06-.94 2.06-2.06.94z\"/><path d=\"M17.41 7.96l-1.37-1.37c-.4-.4-.92-.59-1.43-.59-.52 0-1.04.2-1.43.59L10.3 9.45l-7.72 7.72c-.78.78-.78 2.05 0 2.83L4 21.41c.39.39.9.59 1.41.59.51 0 1.02-.2 1.41-.59l7.78-7.78 2.81-2.81c.8-.78.8-2.07 0-2.86zM5.41 20L4 18.59l7.72-7.72 1.47 1.35L5.41 20z\"/>\n",
              "  </svg>\n",
              "      </button>\n",
              "      \n",
              "  <style>\n",
              "    .colab-df-container {\n",
              "      display:flex;\n",
              "      flex-wrap:wrap;\n",
              "      gap: 12px;\n",
              "    }\n",
              "\n",
              "    .colab-df-convert {\n",
              "      background-color: #E8F0FE;\n",
              "      border: none;\n",
              "      border-radius: 50%;\n",
              "      cursor: pointer;\n",
              "      display: none;\n",
              "      fill: #1967D2;\n",
              "      height: 32px;\n",
              "      padding: 0 0 0 0;\n",
              "      width: 32px;\n",
              "    }\n",
              "\n",
              "    .colab-df-convert:hover {\n",
              "      background-color: #E2EBFA;\n",
              "      box-shadow: 0px 1px 2px rgba(60, 64, 67, 0.3), 0px 1px 3px 1px rgba(60, 64, 67, 0.15);\n",
              "      fill: #174EA6;\n",
              "    }\n",
              "\n",
              "    [theme=dark] .colab-df-convert {\n",
              "      background-color: #3B4455;\n",
              "      fill: #D2E3FC;\n",
              "    }\n",
              "\n",
              "    [theme=dark] .colab-df-convert:hover {\n",
              "      background-color: #434B5C;\n",
              "      box-shadow: 0px 1px 3px 1px rgba(0, 0, 0, 0.15);\n",
              "      filter: drop-shadow(0px 1px 2px rgba(0, 0, 0, 0.3));\n",
              "      fill: #FFFFFF;\n",
              "    }\n",
              "  </style>\n",
              "\n",
              "      <script>\n",
              "        const buttonEl =\n",
              "          document.querySelector('#df-ad95d30f-bf92-424b-bd32-e4f17f5a8dea button.colab-df-convert');\n",
              "        buttonEl.style.display =\n",
              "          google.colab.kernel.accessAllowed ? 'block' : 'none';\n",
              "\n",
              "        async function convertToInteractive(key) {\n",
              "          const element = document.querySelector('#df-ad95d30f-bf92-424b-bd32-e4f17f5a8dea');\n",
              "          const dataTable =\n",
              "            await google.colab.kernel.invokeFunction('convertToInteractive',\n",
              "                                                     [key], {});\n",
              "          if (!dataTable) return;\n",
              "\n",
              "          const docLinkHtml = 'Like what you see? Visit the ' +\n",
              "            '<a target=\"_blank\" href=https://colab.research.google.com/notebooks/data_table.ipynb>data table notebook</a>'\n",
              "            + ' to learn more about interactive tables.';\n",
              "          element.innerHTML = '';\n",
              "          dataTable['output_type'] = 'display_data';\n",
              "          await google.colab.output.renderOutput(dataTable, element);\n",
              "          const docLink = document.createElement('div');\n",
              "          docLink.innerHTML = docLinkHtml;\n",
              "          element.appendChild(docLink);\n",
              "        }\n",
              "      </script>\n",
              "    </div>\n",
              "  </div>\n",
              "  "
            ]
          },
          "metadata": {},
          "execution_count": 32
        }
      ],
      "source": [
        "origin_train.head(3)"
      ],
      "id": "_3HR-AG7PTL6"
    },
    {
      "cell_type": "code",
      "execution_count": null,
      "metadata": {
        "colab": {
          "base_uri": "https://localhost:8080/",
          "height": 112
        },
        "id": "3x1Z1hPg2prZ",
        "outputId": "d5aebe5e-f5ca-497e-cd6b-5dcf8fe46661"
      },
      "outputs": [
        {
          "output_type": "execute_result",
          "data": {
            "text/plain": [
              "  Origin_State  Origin_Airport_ID Origin_Airport    ID\n",
              "0      Alabama              10562            BFM     8\n",
              "1      Alabama              10599            BHM  2157"
            ],
            "text/html": [
              "\n",
              "  <div id=\"df-0bb5a354-1967-446e-82cf-e81521963319\">\n",
              "    <div class=\"colab-df-container\">\n",
              "      <div>\n",
              "<style scoped>\n",
              "    .dataframe tbody tr th:only-of-type {\n",
              "        vertical-align: middle;\n",
              "    }\n",
              "\n",
              "    .dataframe tbody tr th {\n",
              "        vertical-align: top;\n",
              "    }\n",
              "\n",
              "    .dataframe thead th {\n",
              "        text-align: right;\n",
              "    }\n",
              "</style>\n",
              "<table border=\"1\" class=\"dataframe\">\n",
              "  <thead>\n",
              "    <tr style=\"text-align: right;\">\n",
              "      <th></th>\n",
              "      <th>Origin_State</th>\n",
              "      <th>Origin_Airport_ID</th>\n",
              "      <th>Origin_Airport</th>\n",
              "      <th>ID</th>\n",
              "    </tr>\n",
              "  </thead>\n",
              "  <tbody>\n",
              "    <tr>\n",
              "      <th>0</th>\n",
              "      <td>Alabama</td>\n",
              "      <td>10562</td>\n",
              "      <td>BFM</td>\n",
              "      <td>8</td>\n",
              "    </tr>\n",
              "    <tr>\n",
              "      <th>1</th>\n",
              "      <td>Alabama</td>\n",
              "      <td>10599</td>\n",
              "      <td>BHM</td>\n",
              "      <td>2157</td>\n",
              "    </tr>\n",
              "  </tbody>\n",
              "</table>\n",
              "</div>\n",
              "      <button class=\"colab-df-convert\" onclick=\"convertToInteractive('df-0bb5a354-1967-446e-82cf-e81521963319')\"\n",
              "              title=\"Convert this dataframe to an interactive table.\"\n",
              "              style=\"display:none;\">\n",
              "        \n",
              "  <svg xmlns=\"http://www.w3.org/2000/svg\" height=\"24px\"viewBox=\"0 0 24 24\"\n",
              "       width=\"24px\">\n",
              "    <path d=\"M0 0h24v24H0V0z\" fill=\"none\"/>\n",
              "    <path d=\"M18.56 5.44l.94 2.06.94-2.06 2.06-.94-2.06-.94-.94-2.06-.94 2.06-2.06.94zm-11 1L8.5 8.5l.94-2.06 2.06-.94-2.06-.94L8.5 2.5l-.94 2.06-2.06.94zm10 10l.94 2.06.94-2.06 2.06-.94-2.06-.94-.94-2.06-.94 2.06-2.06.94z\"/><path d=\"M17.41 7.96l-1.37-1.37c-.4-.4-.92-.59-1.43-.59-.52 0-1.04.2-1.43.59L10.3 9.45l-7.72 7.72c-.78.78-.78 2.05 0 2.83L4 21.41c.39.39.9.59 1.41.59.51 0 1.02-.2 1.41-.59l7.78-7.78 2.81-2.81c.8-.78.8-2.07 0-2.86zM5.41 20L4 18.59l7.72-7.72 1.47 1.35L5.41 20z\"/>\n",
              "  </svg>\n",
              "      </button>\n",
              "      \n",
              "  <style>\n",
              "    .colab-df-container {\n",
              "      display:flex;\n",
              "      flex-wrap:wrap;\n",
              "      gap: 12px;\n",
              "    }\n",
              "\n",
              "    .colab-df-convert {\n",
              "      background-color: #E8F0FE;\n",
              "      border: none;\n",
              "      border-radius: 50%;\n",
              "      cursor: pointer;\n",
              "      display: none;\n",
              "      fill: #1967D2;\n",
              "      height: 32px;\n",
              "      padding: 0 0 0 0;\n",
              "      width: 32px;\n",
              "    }\n",
              "\n",
              "    .colab-df-convert:hover {\n",
              "      background-color: #E2EBFA;\n",
              "      box-shadow: 0px 1px 2px rgba(60, 64, 67, 0.3), 0px 1px 3px 1px rgba(60, 64, 67, 0.15);\n",
              "      fill: #174EA6;\n",
              "    }\n",
              "\n",
              "    [theme=dark] .colab-df-convert {\n",
              "      background-color: #3B4455;\n",
              "      fill: #D2E3FC;\n",
              "    }\n",
              "\n",
              "    [theme=dark] .colab-df-convert:hover {\n",
              "      background-color: #434B5C;\n",
              "      box-shadow: 0px 1px 3px 1px rgba(0, 0, 0, 0.15);\n",
              "      filter: drop-shadow(0px 1px 2px rgba(0, 0, 0, 0.3));\n",
              "      fill: #FFFFFF;\n",
              "    }\n",
              "  </style>\n",
              "\n",
              "      <script>\n",
              "        const buttonEl =\n",
              "          document.querySelector('#df-0bb5a354-1967-446e-82cf-e81521963319 button.colab-df-convert');\n",
              "        buttonEl.style.display =\n",
              "          google.colab.kernel.accessAllowed ? 'block' : 'none';\n",
              "\n",
              "        async function convertToInteractive(key) {\n",
              "          const element = document.querySelector('#df-0bb5a354-1967-446e-82cf-e81521963319');\n",
              "          const dataTable =\n",
              "            await google.colab.kernel.invokeFunction('convertToInteractive',\n",
              "                                                     [key], {});\n",
              "          if (!dataTable) return;\n",
              "\n",
              "          const docLinkHtml = 'Like what you see? Visit the ' +\n",
              "            '<a target=\"_blank\" href=https://colab.research.google.com/notebooks/data_table.ipynb>data table notebook</a>'\n",
              "            + ' to learn more about interactive tables.';\n",
              "          element.innerHTML = '';\n",
              "          dataTable['output_type'] = 'display_data';\n",
              "          await google.colab.output.renderOutput(dataTable, element);\n",
              "          const docLink = document.createElement('div');\n",
              "          docLink.innerHTML = docLinkHtml;\n",
              "          element.appendChild(docLink);\n",
              "        }\n",
              "      </script>\n",
              "    </div>\n",
              "  </div>\n",
              "  "
            ]
          },
          "metadata": {},
          "execution_count": 33
        }
      ],
      "source": [
        "origin_test.head(2)"
      ],
      "id": "3x1Z1hPg2prZ"
    },
    {
      "cell_type": "markdown",
      "metadata": {
        "id": "Ntf28hd--VLP"
      },
      "source": [
        "- train"
      ],
      "id": "Ntf28hd--VLP"
    },
    {
      "cell_type": "code",
      "execution_count": null,
      "metadata": {
        "colab": {
          "base_uri": "https://localhost:8080/"
        },
        "id": "hr7SHx_8O9Ip",
        "outputId": "4b83c662-7694-4c18-b530-f03d3cf37eda"
      },
      "outputs": [
        {
          "output_type": "stream",
          "name": "stdout",
          "text": [
            "Done\n"
          ]
        }
      ],
      "source": [
        "# Origin_Airport_ID가 같은 값으로 Origin_State 채우기\n",
        "for i in range(len(train)):\n",
        "    if train['Origin_State'][i] == None:\n",
        "        count = 0\n",
        "        for j in range(len(origin_train)):\n",
        "            if train['Origin_Airport_ID'][i] == origin_train['Origin_Airport_ID'][j] :\n",
        "                train.loc[i, 'Origin_State'] = origin_train['Origin_State'][j]\n",
        "                break\n",
        "            else:\n",
        "                count += 1\n",
        "                pass\n",
        "\n",
        "        if count >= len(origin_train):\n",
        "            print('결측치를 대체하지 못했습니다.')\n",
        "\n",
        "print('Done')"
      ],
      "id": "hr7SHx_8O9Ip"
    },
    {
      "cell_type": "markdown",
      "metadata": {
        "id": "kWUbpMMW-RQd"
      },
      "source": [
        "- test"
      ],
      "id": "kWUbpMMW-RQd"
    },
    {
      "cell_type": "code",
      "execution_count": null,
      "metadata": {
        "colab": {
          "base_uri": "https://localhost:8080/"
        },
        "id": "Hyz0qu9u2wUA",
        "outputId": "ee423a23-1a74-475f-88fb-1bd8dcd1c977"
      },
      "outputs": [
        {
          "output_type": "stream",
          "name": "stdout",
          "text": [
            "결측치를 대체하지 못했습니다.\n",
            "결측치를 대체하지 못했습니다.\n",
            "결측치를 대체하지 못했습니다.\n",
            "결측치를 대체하지 못했습니다.\n",
            "결측치를 대체하지 못했습니다.\n",
            "결측치를 대체하지 못했습니다.\n",
            "결측치를 대체하지 못했습니다.\n",
            "결측치를 대체하지 못했습니다.\n",
            "결측치를 대체하지 못했습니다.\n",
            "결측치를 대체하지 못했습니다.\n",
            "결측치를 대체하지 못했습니다.\n",
            "결측치를 대체하지 못했습니다.\n",
            "결측치를 대체하지 못했습니다.\n",
            "결측치를 대체하지 못했습니다.\n",
            "결측치를 대체하지 못했습니다.\n",
            "결측치를 대체하지 못했습니다.\n",
            "결측치를 대체하지 못했습니다.\n",
            "결측치를 대체하지 못했습니다.\n",
            "결측치를 대체하지 못했습니다.\n",
            "결측치를 대체하지 못했습니다.\n",
            "결측치를 대체하지 못했습니다.\n",
            "결측치를 대체하지 못했습니다.\n",
            "결측치를 대체하지 못했습니다.\n",
            "결측치를 대체하지 못했습니다.\n",
            "결측치를 대체하지 못했습니다.\n",
            "결측치를 대체하지 못했습니다.\n",
            "결측치를 대체하지 못했습니다.\n",
            "결측치를 대체하지 못했습니다.\n",
            "Done\n"
          ]
        }
      ],
      "source": [
        "# Origin_Airport_ID가 같은 값으로 Origin_State 채우기()\n",
        "for i in range(len(test)):\n",
        "    if test['Origin_State'][i] == None:\n",
        "        count = 0\n",
        "        for j in range(len(origin_test)):\n",
        "            if test['Origin_Airport_ID'][i] == origin_test['Origin_Airport_ID'][j] :\n",
        "                test.loc[i, 'Origin_State'] = origin_test['Origin_State'][j]\n",
        "                break\n",
        "            else:\n",
        "                count += 1\n",
        "                pass\n",
        "\n",
        "        if count >= len(origin_test):\n",
        "            print('결측치를 대체하지 못했습니다.')\n",
        "\n",
        "print('Done')"
      ],
      "id": "Hyz0qu9u2wUA"
    },
    {
      "cell_type": "markdown",
      "metadata": {
        "id": "Q02T9AJN-cnn"
      },
      "source": [
        "- train"
      ],
      "id": "Q02T9AJN-cnn"
    },
    {
      "cell_type": "code",
      "execution_count": null,
      "metadata": {
        "id": "cNWc6And-WNd",
        "colab": {
          "base_uri": "https://localhost:8080/"
        },
        "outputId": "13dd9750-1b7f-42e5-c3f9-9d35df38664d"
      },
      "outputs": [
        {
          "output_type": "stream",
          "name": "stdout",
          "text": [
            "결측치를 대체하지 못했습니다.\n",
            "Done\n"
          ]
        }
      ],
      "source": [
        "# Destination_Airport_ID가 같은 값으로 Destination_State 채우기\n",
        "for i in range(len(train)):\n",
        "    if train['Destination_State'][i] == None:\n",
        "        count = 0\n",
        "        for j in range(len(Destination_train)):\n",
        "            if train['Destination_Airport_ID'][i] == Destination_train['Destination_Airport_ID'][j] :\n",
        "                train.loc[i, 'Destination_State'] = Destination_train['Destination_State'][j]\n",
        "                break\n",
        "            else:\n",
        "                count += 1\n",
        "                pass\n",
        "\n",
        "        if count >= len(Destination_train):\n",
        "            print('결측치를 대체하지 못했습니다.')\n",
        "\n",
        "print('Done')"
      ],
      "id": "cNWc6And-WNd"
    },
    {
      "cell_type": "code",
      "execution_count": null,
      "metadata": {
        "id": "KJLLhjtaYOOv"
      },
      "outputs": [],
      "source": [
        "# 남은 결측치 처리\n",
        "train.drop(train.loc[(train['Destination_State'].isna())].index, axis = 0, inplace = True)"
      ],
      "id": "KJLLhjtaYOOv"
    },
    {
      "cell_type": "markdown",
      "metadata": {
        "id": "Ov2CKZb0-ffN"
      },
      "source": [
        "- test"
      ],
      "id": "Ov2CKZb0-ffN"
    },
    {
      "cell_type": "code",
      "execution_count": null,
      "metadata": {
        "id": "erjq_Pv_-lZ8",
        "colab": {
          "base_uri": "https://localhost:8080/"
        },
        "outputId": "b3df994e-1602-4631-b46a-9c81dfecec50"
      },
      "outputs": [
        {
          "output_type": "stream",
          "name": "stdout",
          "text": [
            "결측치를 대체하지 못했습니다.\n",
            "결측치를 대체하지 못했습니다.\n",
            "결측치를 대체하지 못했습니다.\n",
            "결측치를 대체하지 못했습니다.\n",
            "결측치를 대체하지 못했습니다.\n",
            "결측치를 대체하지 못했습니다.\n",
            "결측치를 대체하지 못했습니다.\n",
            "결측치를 대체하지 못했습니다.\n",
            "결측치를 대체하지 못했습니다.\n",
            "결측치를 대체하지 못했습니다.\n",
            "결측치를 대체하지 못했습니다.\n",
            "결측치를 대체하지 못했습니다.\n",
            "결측치를 대체하지 못했습니다.\n",
            "결측치를 대체하지 못했습니다.\n",
            "결측치를 대체하지 못했습니다.\n",
            "결측치를 대체하지 못했습니다.\n",
            "결측치를 대체하지 못했습니다.\n",
            "결측치를 대체하지 못했습니다.\n",
            "결측치를 대체하지 못했습니다.\n",
            "결측치를 대체하지 못했습니다.\n",
            "결측치를 대체하지 못했습니다.\n",
            "Done\n"
          ]
        }
      ],
      "source": [
        "# Destination_Airport_ID가 같은 값으로 Destination_State 채우기\n",
        "for i in range(len(test)):\n",
        "    if test['Destination_State'][i] == None:\n",
        "        count = 0\n",
        "        for j in range(len(Destination_test)):\n",
        "            if test['Destination_Airport_ID'][i] == Destination_test['Destination_Airport_ID'][j] :\n",
        "                test.loc[i, 'Destination_State'] = Destination_test['Destination_State'][j]\n",
        "                break\n",
        "            else:\n",
        "                count += 1\n",
        "                pass\n",
        "\n",
        "        if count >= len(Destination_test):\n",
        "            print('결측치를 대체하지 못했습니다.')\n",
        "\n",
        "print('Done')"
      ],
      "id": "erjq_Pv_-lZ8"
    },
    {
      "cell_type": "code",
      "execution_count": null,
      "metadata": {
        "id": "aXPB9OiS_8Rx"
      },
      "outputs": [],
      "source": [
        "# 남은 결측치 처리\n",
        "test['Origin_State'].fillna(test['Origin_State'].mode()[0], inplace = True)\n",
        "test['Destination_State'].fillna(test['Destination_State'].mode()[0], inplace = True)"
      ],
      "id": "aXPB9OiS_8Rx"
    },
    {
      "cell_type": "code",
      "source": [
        "train.reset_index(inplace = True)\n",
        "test.reset_index(inplace = True)"
      ],
      "metadata": {
        "id": "6d7Y7X0yPBHA"
      },
      "id": "6d7Y7X0yPBHA",
      "execution_count": null,
      "outputs": []
    },
    {
      "cell_type": "markdown",
      "metadata": {
        "id": "QnXVrTmFsjQ5"
      },
      "source": [
        "Airline, Carrier_ID(DOT) 결측치\n",
        "- Airline과 Carrier_ID(DOT)는 1:1 대응으로 서로 결측치 대체\n",
        "- Carrier_ID(DOT)는 제거\n",
        "- 대체하지 못한 값은 제거"
      ],
      "id": "QnXVrTmFsjQ5"
    },
    {
      "cell_type": "markdown",
      "metadata": {
        "id": "Xui6QiWdA0hb"
      },
      "source": [
        "- train"
      ],
      "id": "Xui6QiWdA0hb"
    },
    {
      "cell_type": "code",
      "execution_count": null,
      "metadata": {
        "id": "uwfmCgoRdtf7",
        "colab": {
          "base_uri": "https://localhost:8080/"
        },
        "outputId": "e7a756e5-95b2-4ec0-fbb0-a9314b66a18e"
      },
      "outputs": [
        {
          "output_type": "stream",
          "name": "stdout",
          "text": [
            "Done\n"
          ]
        }
      ],
      "source": [
        "# Airline의 결측치를 1:1대응으로 채우기\n",
        "\n",
        "train.loc[train['Airline'].isna(), 'Airline'] = 'isnull'\n",
        "train.loc[train['Airline']== 'isnull', 'Airline'] = None\n",
        "\n",
        "for i in range(len(train)):\n",
        "    if train['Airline'][i] == None:\n",
        "        count = 0\n",
        "        for j in range(len(tail_train)):\n",
        "            if train['Carrier_ID(DOT)'][i] == tail_train['Carrier_ID(DOT)'][j] :\n",
        "                train.loc[i, 'Airline'] = tail_train['Airline'][j]\n",
        "                break\n",
        "            else:\n",
        "                count += 1\n",
        "                pass\n",
        "\n",
        "print('Done')"
      ],
      "id": "uwfmCgoRdtf7"
    },
    {
      "cell_type": "code",
      "execution_count": null,
      "metadata": {
        "id": "WuMWgdu5mON9"
      },
      "outputs": [],
      "source": [
        "train= train.dropna(subset= ['Airline'])"
      ],
      "id": "WuMWgdu5mON9"
    },
    {
      "cell_type": "markdown",
      "metadata": {
        "id": "3-cllHKcA3iA"
      },
      "source": [
        "- test"
      ],
      "id": "3-cllHKcA3iA"
    },
    {
      "cell_type": "code",
      "execution_count": null,
      "metadata": {
        "id": "6teLN8kAB9A8",
        "colab": {
          "base_uri": "https://localhost:8080/"
        },
        "outputId": "9a549195-04db-4a22-a2e6-229d95ee333d"
      },
      "outputs": [
        {
          "output_type": "stream",
          "name": "stdout",
          "text": [
            "Done\n"
          ]
        }
      ],
      "source": [
        "# Airline의 결측치를 1:1대응으로 채우기\n",
        "\n",
        "test.loc[test['Airline'].isna(), 'Airline'] = 'isnull'\n",
        "test.loc[test['Airline']== 'isnull', 'Airline'] = None\n",
        "\n",
        "for i in range(len(test)):\n",
        "    if test['Airline'][i] == None:\n",
        "        count = 0\n",
        "        for j in range(len(tail_test)):\n",
        "            if test['Carrier_ID(DOT)'][i] == tail_test['Carrier_ID(DOT)'][j] :\n",
        "                test.loc[i, 'Airline'] = tail_test['Airline'][j]\n",
        "                break\n",
        "            else:\n",
        "                count += 1\n",
        "                pass\n",
        "\n",
        "print('Done')"
      ],
      "id": "6teLN8kAB9A8"
    },
    {
      "cell_type": "code",
      "execution_count": null,
      "metadata": {
        "id": "korusbKpGYBE"
      },
      "outputs": [],
      "source": [
        "test.loc[test['Airline'].isna(), 'Airline'] = test['Airline'].mode()[0]\n",
        "test.loc[test['Carrier_ID(DOT)'].isna(), 'Carrier_ID(DOT)'] = test['Carrier_ID(DOT)'].mode()[0]"
      ],
      "id": "korusbKpGYBE"
    },
    {
      "cell_type": "markdown",
      "metadata": {
        "id": "BRvAAkg_JgfG"
      },
      "source": [
        "Estimated_Departure_Time 결측치\n",
        "- 출발 시간과 도착 시간이 둘다 결측치 인 것은 10000개로 줄엄듬\n",
        "- 둘 중 하나만 결측치를 가지는 경우에는 머신러닝 학습으로 에측\n",
        "- 둘다 결측치를 가지는 경우에는 K-means를 사용하여 결측치 채우기"
      ],
      "id": "BRvAAkg_JgfG"
    },
    {
      "cell_type": "code",
      "execution_count": null,
      "metadata": {
        "id": "2FaHFm2slE8I"
      },
      "outputs": [],
      "source": [
        "from sklearn.impute import KNNImputer\n",
        "\n",
        "imputer = KNNImputer(n_neighbors=100)\n",
        "train['Estimated_Departure_Time'] = imputer.fit_transform(train.loc[:, ['Estimated_Departure_Time']])\n",
        "test['Estimated_Departure_Time'] = imputer.fit_transform(test.loc[:,['Estimated_Departure_Time']])\n",
        "train['Estimated_Arrival_Time'] = imputer.fit_transform(train.loc[:,['Estimated_Arrival_Time']])\n",
        "test['Estimated_Arrival_Time'] = imputer.fit_transform(test.loc[:,['Estimated_Arrival_Time']])"
      ],
      "id": "2FaHFm2slE8I"
    },
    {
      "cell_type": "code",
      "execution_count": null,
      "metadata": {
        "id": "PBW0prLSILLS"
      },
      "outputs": [],
      "source": [
        "import joblib\n",
        "joblib.dump(train, '/content/drive/MyDrive/공모전/항공편 지연 예측 AI 경진대회/SEN/train_sen.pkl')\n",
        "joblib.dump(test, '/content/drive/MyDrive/공모전/항공편 지연 예측 AI 경진대회/SEN/test_sen.pkl')"
      ],
      "id": "PBW0prLSILLS"
    },
    {
      "cell_type": "code",
      "execution_count": null,
      "metadata": {
        "id": "u85UVK3Wp_lP"
      },
      "outputs": [],
      "source": [
        "import joblib\n",
        "train = joblib.load('/content/drive/MyDrive/공모전/항공편 지연 예측 AI 경진대회/SEN/train_sen.pkl')\n",
        "test = joblib.load('/content/drive/MyDrive/공모전/항공편 지연 예측 AI 경진대회/SEN/test_sen.pkl')"
      ],
      "id": "u85UVK3Wp_lP"
    },
    {
      "cell_type": "code",
      "execution_count": null,
      "metadata": {
        "id": "WrOyfKLHHE_8"
      },
      "outputs": [],
      "source": [
        "# train.drop(train.loc[(train['Estimated_Departure_Time'].isna())&(train['Estimated_Arrival_Time'].isna())].index, axis = 0, inplace = True)\n",
        "train = train.reset_index(False)\n",
        "train.drop('level_0', axis = 1, inplace = True)"
      ],
      "id": "WrOyfKLHHE_8"
    },
    {
      "cell_type": "code",
      "execution_count": null,
      "metadata": {
        "id": "vK1FMqVJugEy"
      },
      "outputs": [],
      "source": [
        "train['Total_Time'] = None\n",
        "for i in range(len(train)):\n",
        "    if train['Estimated_Departure_Time'][i] > train['Estimated_Arrival_Time'][i] :\n",
        "        train.loc[i, 'Total_Time'] = 2400-(train['Estimated_Arrival_Time'][i] - train['Estimated_Departure_Time'][i])\n",
        "    else :\n",
        "        train.loc[i, 'Total_Time'] = train['Estimated_Arrival_Time'][i] - train['Estimated_Departure_Time'][i]\n",
        "\n",
        "test['Total_Time'] = None\n",
        "for i in range(len(test)):\n",
        "    if test['Estimated_Departure_Time'][i] > test['Estimated_Arrival_Time'][i] :\n",
        "        test.loc[i, 'Total_Time'] = 2400-(test['Estimated_Arrival_Time'][i] - test['Estimated_Departure_Time'][i])\n",
        "    else :\n",
        "        test.loc[i, 'Total_Time'] = test['Estimated_Arrival_Time'][i] - test['Estimated_Departure_Time'][i]"
      ],
      "id": "vK1FMqVJugEy"
    },
    {
      "cell_type": "code",
      "execution_count": null,
      "metadata": {
        "id": "qrGQuAYE6Kxy"
      },
      "outputs": [],
      "source": [
        "train['Total_Time'].isna().sum()"
      ],
      "id": "qrGQuAYE6Kxy"
    },
    {
      "cell_type": "code",
      "execution_count": null,
      "metadata": {
        "id": "0k1X1h2-LxST"
      },
      "outputs": [],
      "source": [
        "test['Total_Time'].isna().sum()"
      ],
      "id": "0k1X1h2-LxST"
    },
    {
      "cell_type": "markdown",
      "source": [
        "파생변수 생성"
      ],
      "metadata": {
        "id": "XuKvc5lMT8rB"
      },
      "id": "XuKvc5lMT8rB"
    },
    {
      "cell_type": "code",
      "source": [
        "df_train['dep_hour'] = df_train['Estimated_Departure_Time'].astype('string').str[:-2]\n",
        "df_train['arr_hour'] = df_train['Estimated_Arrival_Time'].astype('string').str[:-2]\n",
        "\n",
        "df_test['dep_hour'] = df_test['Estimated_Departure_Time'].astype('string').str[:-2]\n",
        "df_test['arr_hour'] = df_test['Estimated_Arrival_Time'].astype('string').str[:-2]"
      ],
      "metadata": {
        "id": "InFrxdYkT8In"
      },
      "id": "InFrxdYkT8In",
      "execution_count": null,
      "outputs": []
    },
    {
      "cell_type": "markdown",
      "metadata": {
        "id": "1VOtpWK8bil8"
      },
      "source": [
        "## 이상치"
      ],
      "id": "1VOtpWK8bil8"
    },
    {
      "cell_type": "markdown",
      "source": [
        "- Estimated_Departure_Time\n",
        "- Estimated_Arrival_Time\n",
        "\n",
        "    * 머신러닝 학습으로 나온 Total_Time으로 결측치 채울 수 있음\n",
        "    * Test에도 적용을 해야함\n",
        "    * 하지만 출발 시간과 같은 좋은 변수를 사용할 수 없게 됨"
      ],
      "metadata": {
        "id": "fMFXutFfWB63"
      },
      "id": "fMFXutFfWB63"
    },
    {
      "cell_type": "code",
      "source": [
        "plt.figure(figsize = (20, 8))\n",
        "plt.subplot(2, 2, 1)\n",
        "sns.boxplot(x = 'Distance', data = df_train)\n",
        "plt.subplot(2, 2, 2)\n",
        "sns.histplot(x = 'Distance', data = df_train, kde = True)\n",
        "\n",
        "plt.subplot(2, 2, 3)\n",
        "sns.boxplot(x = 'Distance', data = df_test)\n",
        "plt.subplot(2, 2, 4)\n",
        "sns.histplot(x = 'Distance', data = df_test, kde = True)\n",
        "plt.show()"
      ],
      "metadata": {
        "id": "-DGqjCDjWIfQ"
      },
      "id": "-DGqjCDjWIfQ",
      "execution_count": null,
      "outputs": []
    },
    {
      "cell_type": "code",
      "source": [
        "plt.figure(figsize = (20, 8))\n",
        "plt.subplot(2, 2, 1)\n",
        "sns.boxplot(x = 'Total_Time', data = df_train)\n",
        "plt.subplot(2, 2, 2)\n",
        "sns.histplot(x = 'Total_Time', data = df_train, kde = True)\n",
        "\n",
        "plt.subplot(2, 2, 3)\n",
        "sns.boxplot(x = 'Total_Time', data = df_test)\n",
        "plt.subplot(2, 2, 4)\n",
        "sns.histplot(x = 'Total_Time', data = df_test, kde = True)\n",
        "plt.show()"
      ],
      "metadata": {
        "id": "K5YxZ8f2WMPP"
      },
      "id": "K5YxZ8f2WMPP",
      "execution_count": null,
      "outputs": []
    },
    {
      "cell_type": "code",
      "source": [
        "df_train['Distance'] = np.log1p(df_train['Distance'])\n",
        "df_test['Distance'] = np.log1p(df_test['Distance'])\n",
        "df_train['Total_Time'] = np.log1p(df_train['Total_Time'])\n",
        "df_test['Total_Time'] = np.log1p(df_test['Total_Time'])"
      ],
      "metadata": {
        "id": "Jmt794H7WOXW"
      },
      "id": "Jmt794H7WOXW",
      "execution_count": null,
      "outputs": []
    },
    {
      "cell_type": "code",
      "source": [
        "plt.figure(figsize = (20, 8))\n",
        "plt.subplot(2, 2, 1)\n",
        "sns.boxplot(x = 'Distance', data = df_train)\n",
        "plt.subplot(2, 2, 2)\n",
        "sns.histplot(x = 'Distance', data = df_train, kde = True)\n",
        "\n",
        "plt.subplot(2, 2, 3)\n",
        "sns.boxplot(x = 'Distance', data = df_test)\n",
        "plt.subplot(2, 2, 4)\n",
        "sns.histplot(x = 'Distance', data = df_test, kde = True)\n",
        "plt.show()"
      ],
      "metadata": {
        "id": "5Nacba3WWRPv"
      },
      "id": "5Nacba3WWRPv",
      "execution_count": null,
      "outputs": []
    },
    {
      "cell_type": "code",
      "source": [
        "plt.figure(figsize = (20, 8))\n",
        "plt.subplot(2, 2, 1)\n",
        "sns.boxplot(x = 'Total_Time', data = df_train)\n",
        "plt.subplot(2, 2, 2)\n",
        "sns.histplot(x = 'Total_Time', data = df_train, kde = True)\n",
        "\n",
        "plt.subplot(2, 2, 3)\n",
        "sns.boxplot(x = 'Total_Time', data = df_test)\n",
        "plt.subplot(2, 2, 4)\n",
        "sns.histplot(x = 'Total_Time', data = df_test, kde = True)\n",
        "plt.show()"
      ],
      "metadata": {
        "id": "Hrw6TA01WVW5"
      },
      "id": "Hrw6TA01WVW5",
      "execution_count": null,
      "outputs": []
    },
    {
      "cell_type": "markdown",
      "source": [
        "사용할 변수 추출"
      ],
      "metadata": {
        "id": "V6YQDLlNUVQd"
      },
      "id": "V6YQDLlNUVQd"
    },
    {
      "cell_type": "code",
      "execution_count": null,
      "metadata": {
        "id": "Yyi0VxmLdDEf"
      },
      "outputs": [],
      "source": [
        "train.info()"
      ],
      "id": "Yyi0VxmLdDEf"
    },
    {
      "cell_type": "code",
      "source": [
        "df_train = df_train.loc[:,['Month', 'Origin_State','Origin_Airport', 'Destination_State','Destination_Airport', 'Distance', 'Airline', 'Total_Time',  'dep_hour', 'arr_hour', 'Tail_Number', 'Delay'] ]"
      ],
      "metadata": {
        "id": "HXOpVi29Uau7"
      },
      "id": "HXOpVi29Uau7",
      "execution_count": null,
      "outputs": []
    },
    {
      "cell_type": "code",
      "execution_count": null,
      "metadata": {
        "id": "zRmagpX8EM97"
      },
      "outputs": [],
      "source": [
        "test.info()"
      ],
      "id": "zRmagpX8EM97"
    },
    {
      "cell_type": "code",
      "source": [
        "df_test = df_test.loc[:,['Month', 'Origin_State','Origin_Airport', 'Destination_State','Destination_Airport', 'Distance', 'Airline', 'Total_Time',  'dep_hour', 'arr_hour', 'Tail_Number', 'Delay'] ]"
      ],
      "metadata": {
        "id": "5W1CFgnUUcJE"
      },
      "id": "5W1CFgnUUcJE",
      "execution_count": null,
      "outputs": []
    },
    {
      "cell_type": "markdown",
      "source": [
        "# 스케일링"
      ],
      "metadata": {
        "id": "nXIrTKO-aTx9"
      },
      "id": "nXIrTKO-aTx9"
    },
    {
      "cell_type": "code",
      "source": [
        "# # 특징 해싱\n",
        "cols = ['Month', 'Origin_Airport', 'Origin_State', 'Destination_Airport', 'Destination_State', 'Airline', 'dep_hour', 'arr_hour', 'Tail_Number']\n",
        "\n",
        "from sklearn.feature_extraction import FeatureHasher\n",
        "FHdf_train = pd.DataFrame(None)\n",
        "for col in cols:\n",
        "  fh = FeatureHasher(n_features = 10, input_type = 'string')\n",
        "  hash_df = fh.transform(df_train[[col]].astype(str).values)\n",
        "  hash_df = pd.DataFrame(hash_df.todense(), columns = [f'{col}_{i}' for i in range(10)])\n",
        "  FHdf_train = pd.concat([FHdf_train, hash_df], axis = 1)\n",
        "\n",
        "\n",
        "cols = ['Month', 'Origin_Airport', 'Origin_State', 'Destination_Airport', 'Destination_State', 'Airline', 'dep_hour', 'arr_hour', 'Tail_Number']\n",
        "\n",
        "from sklearn.feature_extraction import FeatureHasher\n",
        "FHdf_test = pd.DataFrame(None)\n",
        "for col in cols:\n",
        "  fh = FeatureHasher(n_features = 10, input_type = 'string')\n",
        "  hash_df = fh.transform(df_test[[col]].astype(str).values)\n",
        "  hash_df = pd.DataFrame(hash_df.todense(), columns = [f'{col}_{i}' for i in range(10)])\n",
        "  FHdf_test = pd.concat([FHdf_test, hash_df], axis = 1)"
      ],
      "metadata": {
        "id": "jxSZq8IeaanX"
      },
      "id": "jxSZq8IeaanX",
      "execution_count": null,
      "outputs": []
    },
    {
      "cell_type": "code",
      "source": [
        "# 스케일링\n",
        "\n",
        "# train\n",
        "df_train['Distance'] = (df_train['Distance'] - df_train['Distance'].min()) / (df_train['Distance'].max() - df_train['Distance'].min())\n",
        "df_train['Total_Time'] = (df_train['Total_Time'] - df_train['Total_Time'].min()) / (df_train['Total_Time'].max() - df_train['Total_Time'].min())\n",
        "\n",
        "\n",
        "# test\n",
        "df_test['Distance'] = (df_test['Distance'] - df_test['Distance'].min()) / (df_test['Distance'].max() - df_test['Distance'].min())\n",
        "df_test['Total_Time'] = (df_test['Total_Time'] - df_test['Total_Time'].min()) / (df_test['Total_Time'].max() - df_test['Total_Time'].min())"
      ],
      "metadata": {
        "id": "-lt6PicbafVZ"
      },
      "id": "-lt6PicbafVZ",
      "execution_count": null,
      "outputs": []
    },
    {
      "cell_type": "code",
      "source": [
        "x_train = pd.concat([FHdf_train, x_train], axis = 1)\n",
        "x_test = pd.concat([FHdf_test, x_test], axis = 1)"
      ],
      "metadata": {
        "id": "hvgKBVvyahXX"
      },
      "id": "hvgKBVvyahXX",
      "execution_count": null,
      "outputs": []
    },
    {
      "cell_type": "markdown",
      "metadata": {
        "id": "zmrGrY5kqKGX"
      },
      "source": [
        "# Y 비지도 학습"
      ],
      "id": "zmrGrY5kqKGX"
    },
    {
      "cell_type": "code",
      "execution_count": null,
      "metadata": {
        "colab": {
          "base_uri": "https://localhost:8080/",
          "height": 150
        },
        "id": "cfh8yu-VD7Jo",
        "outputId": "82f8294a-cec5-46e1-824f-e4345af32c39"
      },
      "outputs": [
        {
          "name": "stderr",
          "output_type": "stream",
          "text": [
            "/usr/local/lib/python3.9/dist-packages/sklearn/semi_supervised/_self_training.py:212: UserWarning: y contains no unlabeled samples\n",
            "  warnings.warn(\"y contains no unlabeled samples\", UserWarning)\n"
          ]
        },
        {
          "data": {
            "text/html": [
              "\n",
              "  <div id=\"df-dc5e09a8-20bb-49e9-a4bf-89bf609470e9\">\n",
              "    <div class=\"colab-df-container\">\n",
              "      <div>\n",
              "<style scoped>\n",
              "    .dataframe tbody tr th:only-of-type {\n",
              "        vertical-align: middle;\n",
              "    }\n",
              "\n",
              "    .dataframe tbody tr th {\n",
              "        vertical-align: top;\n",
              "    }\n",
              "\n",
              "    .dataframe thead th {\n",
              "        text-align: right;\n",
              "    }\n",
              "</style>\n",
              "<table border=\"1\" class=\"dataframe\">\n",
              "  <thead>\n",
              "    <tr style=\"text-align: right;\">\n",
              "      <th></th>\n",
              "      <th>ID</th>\n",
              "      <th>Month</th>\n",
              "      <th>Day_of_Month</th>\n",
              "      <th>Estimated_Departure_Time</th>\n",
              "      <th>Estimated_Arrival_Time</th>\n",
              "      <th>Origin_Airport</th>\n",
              "      <th>Origin_State</th>\n",
              "      <th>Destination_Airport</th>\n",
              "      <th>Destination_State</th>\n",
              "      <th>Distance</th>\n",
              "      <th>Airline</th>\n",
              "      <th>Tail_Number</th>\n",
              "      <th>Delay</th>\n",
              "      <th>Total_Time</th>\n",
              "    </tr>\n",
              "  </thead>\n",
              "  <tbody>\n",
              "  </tbody>\n",
              "</table>\n",
              "</div>\n",
              "      <button class=\"colab-df-convert\" onclick=\"convertToInteractive('df-dc5e09a8-20bb-49e9-a4bf-89bf609470e9')\"\n",
              "              title=\"Convert this dataframe to an interactive table.\"\n",
              "              style=\"display:none;\">\n",
              "        \n",
              "  <svg xmlns=\"http://www.w3.org/2000/svg\" height=\"24px\"viewBox=\"0 0 24 24\"\n",
              "       width=\"24px\">\n",
              "    <path d=\"M0 0h24v24H0V0z\" fill=\"none\"/>\n",
              "    <path d=\"M18.56 5.44l.94 2.06.94-2.06 2.06-.94-2.06-.94-.94-2.06-.94 2.06-2.06.94zm-11 1L8.5 8.5l.94-2.06 2.06-.94-2.06-.94L8.5 2.5l-.94 2.06-2.06.94zm10 10l.94 2.06.94-2.06 2.06-.94-2.06-.94-.94-2.06-.94 2.06-2.06.94z\"/><path d=\"M17.41 7.96l-1.37-1.37c-.4-.4-.92-.59-1.43-.59-.52 0-1.04.2-1.43.59L10.3 9.45l-7.72 7.72c-.78.78-.78 2.05 0 2.83L4 21.41c.39.39.9.59 1.41.59.51 0 1.02-.2 1.41-.59l7.78-7.78 2.81-2.81c.8-.78.8-2.07 0-2.86zM5.41 20L4 18.59l7.72-7.72 1.47 1.35L5.41 20z\"/>\n",
              "  </svg>\n",
              "      </button>\n",
              "      \n",
              "  <style>\n",
              "    .colab-df-container {\n",
              "      display:flex;\n",
              "      flex-wrap:wrap;\n",
              "      gap: 12px;\n",
              "    }\n",
              "\n",
              "    .colab-df-convert {\n",
              "      background-color: #E8F0FE;\n",
              "      border: none;\n",
              "      border-radius: 50%;\n",
              "      cursor: pointer;\n",
              "      display: none;\n",
              "      fill: #1967D2;\n",
              "      height: 32px;\n",
              "      padding: 0 0 0 0;\n",
              "      width: 32px;\n",
              "    }\n",
              "\n",
              "    .colab-df-convert:hover {\n",
              "      background-color: #E2EBFA;\n",
              "      box-shadow: 0px 1px 2px rgba(60, 64, 67, 0.3), 0px 1px 3px 1px rgba(60, 64, 67, 0.15);\n",
              "      fill: #174EA6;\n",
              "    }\n",
              "\n",
              "    [theme=dark] .colab-df-convert {\n",
              "      background-color: #3B4455;\n",
              "      fill: #D2E3FC;\n",
              "    }\n",
              "\n",
              "    [theme=dark] .colab-df-convert:hover {\n",
              "      background-color: #434B5C;\n",
              "      box-shadow: 0px 1px 3px 1px rgba(0, 0, 0, 0.15);\n",
              "      filter: drop-shadow(0px 1px 2px rgba(0, 0, 0, 0.3));\n",
              "      fill: #FFFFFF;\n",
              "    }\n",
              "  </style>\n",
              "\n",
              "      <script>\n",
              "        const buttonEl =\n",
              "          document.querySelector('#df-dc5e09a8-20bb-49e9-a4bf-89bf609470e9 button.colab-df-convert');\n",
              "        buttonEl.style.display =\n",
              "          google.colab.kernel.accessAllowed ? 'block' : 'none';\n",
              "\n",
              "        async function convertToInteractive(key) {\n",
              "          const element = document.querySelector('#df-dc5e09a8-20bb-49e9-a4bf-89bf609470e9');\n",
              "          const dataTable =\n",
              "            await google.colab.kernel.invokeFunction('convertToInteractive',\n",
              "                                                     [key], {});\n",
              "          if (!dataTable) return;\n",
              "\n",
              "          const docLinkHtml = 'Like what you see? Visit the ' +\n",
              "            '<a target=\"_blank\" href=https://colab.research.google.com/notebooks/data_table.ipynb>data table notebook</a>'\n",
              "            + ' to learn more about interactive tables.';\n",
              "          element.innerHTML = '';\n",
              "          dataTable['output_type'] = 'display_data';\n",
              "          await google.colab.output.renderOutput(dataTable, element);\n",
              "          const docLink = document.createElement('div');\n",
              "          docLink.innerHTML = docLinkHtml;\n",
              "          element.appendChild(docLink);\n",
              "        }\n",
              "      </script>\n",
              "    </div>\n",
              "  </div>\n",
              "  "
            ],
            "text/plain": [
              "Empty DataFrame\n",
              "Columns: [ID, Month, Day_of_Month, Estimated_Departure_Time, Estimated_Arrival_Time, Origin_Airport, Origin_State, Destination_Airport, Destination_State, Distance, Airline, Tail_Number, Delay, Total_Time]\n",
              "Index: []"
            ]
          },
          "execution_count": 46,
          "metadata": {},
          "output_type": "execute_result"
        }
      ],
      "source": [
        "X = df_train.loc[df_train['Delay'].astype(str)!='None'].drop('Delay', axis = 1)\n",
        "X_nan = df_train.loc[df_train['Delay'].astype(str)=='None'].drop('Dleay', axis = 1)\n",
        "y = df_trian[df_train['Delay'].astype(str)!='None']['Delay']\n",
        "\n",
        "stclf = SelfTrainingClassifier(\n",
        "    base_estimator = RandomForestClassifier(n_estimators = 100),\n",
        "    verbose = True\n",
        ")\n",
        "\n",
        "stclf.fit(X, y)\n",
        "\n",
        "\n",
        "# 결측치 예측\n",
        "X_nan['Delay_pred'] = stclf.predict(X_nan[original_col])\n",
        "df_train.loc[df_train['Delay'].astype(str) == 'None', 'Delay'] = X_nan['Delay_pred']"
      ],
      "id": "cfh8yu-VD7Jo"
    },
    {
      "cell_type": "code",
      "source": [
        "df_train.loc[df_train['Delay'] == 'Not_Delayed', 'Delay'] = 0\n",
        "df_train.loc[df_train['Delay'] == 'Delayed', 'Delay'] = 1"
      ],
      "metadata": {
        "id": "KZiBAaHSU7II"
      },
      "id": "KZiBAaHSU7II",
      "execution_count": null,
      "outputs": []
    },
    {
      "cell_type": "code",
      "source": [
        "df_train['Delay'] = df_train['Delay'].astype('int64')"
      ],
      "metadata": {
        "id": "x1mT8IVyU8Dj"
      },
      "id": "x1mT8IVyU8Dj",
      "execution_count": null,
      "outputs": []
    },
    {
      "cell_type": "code",
      "execution_count": null,
      "metadata": {
        "colab": {
          "base_uri": "https://localhost:8080/"
        },
        "id": "4nrs6zbUF45d",
        "outputId": "df717427-9d85-41a4-f187-b9d0051e1758"
      },
      "outputs": [
        {
          "data": {
            "text/plain": [
              "['/content/drive/MyDrive/공모전/항공편 지연 예측 AI 경진대회/df_test_sen.pkl']"
            ]
          },
          "execution_count": 213,
          "metadata": {},
          "output_type": "execute_result"
        }
      ],
      "source": [
        "import joblib\n",
        "joblib.dump(df_train, '/content/drive/MyDrive/공모전/항공편 지연 예측 AI 경진대회/df_train_sen.pkl')\n",
        "joblib.dump(df_test, '/content/drive/MyDrive/공모전/항공편 지연 예측 AI 경진대회/df_test_sen.pkl')"
      ],
      "id": "4nrs6zbUF45d"
    },
    {
      "cell_type": "code",
      "execution_count": null,
      "metadata": {
        "id": "ie7uejMSF-hk"
      },
      "outputs": [],
      "source": [
        "import joblib\n",
        "df_train = joblib.load('/content/drive/MyDrive/공모전/항공편 지연 예측 AI 경진대회/df_train_sen.pkl')\n",
        "df_test = joblib.load('/content/drive/MyDrive/공모전/항공편 지연 예측 AI 경진대회/df_test_sen.pkl')"
      ],
      "id": "ie7uejMSF-hk"
    },
    {
      "cell_type": "markdown",
      "source": [
        "# X, y 분리"
      ],
      "metadata": {
        "id": "P73yWxNFU8cI"
      },
      "id": "P73yWxNFU8cI"
    },
    {
      "cell_type": "code",
      "execution_count": null,
      "metadata": {
        "colab": {
          "base_uri": "https://localhost:8080/"
        },
        "id": "SBldc3zlHH3w",
        "outputId": "9e7031d7-4f25-495e-fae4-c33f0d9a287b"
      },
      "outputs": [
        {
          "name": "stdout",
          "output_type": "stream",
          "text": [
            "<class 'pandas.core.frame.DataFrame'>\n",
            "Int64Index: 976566 entries, 0 to 976565\n",
            "Data columns (total 14 columns):\n",
            " #   Column                    Non-Null Count   Dtype  \n",
            "---  ------                    --------------   -----  \n",
            " 0   ID                        976566 non-null  object \n",
            " 1   Month                     976566 non-null  int64  \n",
            " 2   Day_of_Month              976566 non-null  int64  \n",
            " 3   Estimated_Departure_Time  880390 non-null  float64\n",
            " 4   Estimated_Arrival_Time    880327 non-null  float64\n",
            " 5   Origin_Airport            976566 non-null  int64  \n",
            " 6   Origin_State              976566 non-null  int64  \n",
            " 7   Destination_Airport       976566 non-null  int64  \n",
            " 8   Destination_State         976566 non-null  int64  \n",
            " 9   Distance                  976566 non-null  float64\n",
            " 10  Airline                   976566 non-null  int64  \n",
            " 11  Tail_Number               976566 non-null  int64  \n",
            " 12  Delay                     976566 non-null  int64  \n",
            " 13  Total_Time                976566 non-null  float64\n",
            "dtypes: float64(4), int64(9), object(1)\n",
            "memory usage: 111.8+ MB\n"
          ]
        }
      ],
      "source": [
        "df_train.info()"
      ],
      "id": "SBldc3zlHH3w"
    },
    {
      "cell_type": "code",
      "execution_count": null,
      "metadata": {
        "colab": {
          "base_uri": "https://localhost:8080/"
        },
        "id": "aU_5AKYCHOA8",
        "outputId": "127ce1f6-e73a-4199-a5db-6d0ae146b6ac"
      },
      "outputs": [
        {
          "name": "stdout",
          "output_type": "stream",
          "text": [
            "<class 'pandas.core.frame.DataFrame'>\n",
            "Int64Index: 1000000 entries, 0 to 999999\n",
            "Data columns (total 13 columns):\n",
            " #   Column                    Non-Null Count    Dtype  \n",
            "---  ------                    --------------    -----  \n",
            " 0   ID                        1000000 non-null  object \n",
            " 1   Month                     1000000 non-null  int64  \n",
            " 2   Day_of_Month              1000000 non-null  int64  \n",
            " 3   Estimated_Departure_Time  891016 non-null   float64\n",
            " 4   Estimated_Arrival_Time    890952 non-null   float64\n",
            " 5   Origin_Airport            1000000 non-null  int64  \n",
            " 6   Origin_State              1000000 non-null  int64  \n",
            " 7   Destination_Airport       1000000 non-null  int64  \n",
            " 8   Destination_State         1000000 non-null  int64  \n",
            " 9   Distance                  1000000 non-null  float64\n",
            " 10  Airline                   1000000 non-null  int64  \n",
            " 11  Tail_Number               1000000 non-null  int64  \n",
            " 12  Total_Time                1000000 non-null  float64\n",
            "dtypes: float64(4), int64(8), object(1)\n",
            "memory usage: 106.8+ MB\n"
          ]
        }
      ],
      "source": [
        "df_test.info()"
      ],
      "id": "aU_5AKYCHOA8"
    },
    {
      "cell_type": "code",
      "source": [
        "x_train = df_train.loc[:,['Month', 'Origin_State','Origin_Airport', 'Destination_State','Destination_Airport', 'Distance', 'Airline', 'Total_Time',  'dep_hour', 'arr_hour', 'Tail_Number'] ]\n",
        "y_train = df_train.loc[:, 'Delay']\n",
        "\n",
        "x_test = df_test.loc[:, ['Month',  'Origin_State','Origin_Airport', 'Destination_State','Destination_Airport', 'Distance', 'Airline', 'Total_Time',  'dep_hour', 'arr_hour', 'Tail_Number']]"
      ],
      "metadata": {
        "id": "DaZFNoxRVPqQ"
      },
      "id": "DaZFNoxRVPqQ",
      "execution_count": null,
      "outputs": []
    },
    {
      "cell_type": "markdown",
      "metadata": {
        "id": "PXRyAb-3zSpt"
      },
      "source": [
        "## 불균형 데이터"
      ],
      "id": "PXRyAb-3zSpt"
    },
    {
      "cell_type": "code",
      "execution_count": null,
      "metadata": {
        "colab": {
          "base_uri": "https://localhost:8080/"
        },
        "id": "yLqnCCb7HPdu",
        "outputId": "fc5093a9-8a9f-4d63-cb0b-4a388fc84856"
      },
      "outputs": [
        {
          "data": {
            "text/plain": [
              "0    874955\n",
              "1    101611\n",
              "Name: Delay, dtype: int64"
            ]
          },
          "execution_count": 172,
          "metadata": {},
          "output_type": "execute_result"
        }
      ],
      "source": [
        "y_train.value_counts()"
      ],
      "id": "yLqnCCb7HPdu"
    },
    {
      "cell_type": "code",
      "execution_count": null,
      "metadata": {
        "colab": {
          "base_uri": "https://localhost:8080/"
        },
        "id": "09Gqp7TtHfs-",
        "outputId": "3602e34b-4948-48a6-b4d7-26c3846f56c5"
      },
      "outputs": [
        {
          "name": "stdout",
          "output_type": "stream",
          "text": [
            "전 :  [874955 101611]\n",
            "후 :  [874955 874955]\n"
          ]
        }
      ],
      "source": [
        "from imblearn.over_sampling import SMOTE\n",
        "smote = SMOTE()\n",
        "s_x_train, s_y_train = smote.fit_resample(x_train, y_train)\n",
        "\n",
        "\n",
        "print('전 : ', np.bincount(y_train))\n",
        "print('후 : ', np.bincount(s_y_train))"
      ],
      "id": "09Gqp7TtHfs-"
    },
    {
      "cell_type": "markdown",
      "metadata": {
        "id": "9c089825-3983-4d4a-8bf9-9418cc1db1b0"
      },
      "source": [
        "# Classification Model Fit"
      ],
      "id": "9c089825-3983-4d4a-8bf9-9418cc1db1b0"
    },
    {
      "cell_type": "code",
      "execution_count": null,
      "metadata": {
        "colab": {
          "base_uri": "https://localhost:8080/",
          "height": 75
        },
        "id": "1810fd3d-1349-4fca-ace7-eedec7371025",
        "outputId": "78847fc6-5e7b-4756-f4a4-fe98ecece288"
      },
      "outputs": [
        {
          "data": {
            "text/html": [
              "<style>#sk-container-id-5 {color: black;background-color: white;}#sk-container-id-5 pre{padding: 0;}#sk-container-id-5 div.sk-toggleable {background-color: white;}#sk-container-id-5 label.sk-toggleable__label {cursor: pointer;display: block;width: 100%;margin-bottom: 0;padding: 0.3em;box-sizing: border-box;text-align: center;}#sk-container-id-5 label.sk-toggleable__label-arrow:before {content: \"▸\";float: left;margin-right: 0.25em;color: #696969;}#sk-container-id-5 label.sk-toggleable__label-arrow:hover:before {color: black;}#sk-container-id-5 div.sk-estimator:hover label.sk-toggleable__label-arrow:before {color: black;}#sk-container-id-5 div.sk-toggleable__content {max-height: 0;max-width: 0;overflow: hidden;text-align: left;background-color: #f0f8ff;}#sk-container-id-5 div.sk-toggleable__content pre {margin: 0.2em;color: black;border-radius: 0.25em;background-color: #f0f8ff;}#sk-container-id-5 input.sk-toggleable__control:checked~div.sk-toggleable__content {max-height: 200px;max-width: 100%;overflow: auto;}#sk-container-id-5 input.sk-toggleable__control:checked~label.sk-toggleable__label-arrow:before {content: \"▾\";}#sk-container-id-5 div.sk-estimator input.sk-toggleable__control:checked~label.sk-toggleable__label {background-color: #d4ebff;}#sk-container-id-5 div.sk-label input.sk-toggleable__control:checked~label.sk-toggleable__label {background-color: #d4ebff;}#sk-container-id-5 input.sk-hidden--visually {border: 0;clip: rect(1px 1px 1px 1px);clip: rect(1px, 1px, 1px, 1px);height: 1px;margin: -1px;overflow: hidden;padding: 0;position: absolute;width: 1px;}#sk-container-id-5 div.sk-estimator {font-family: monospace;background-color: #f0f8ff;border: 1px dotted black;border-radius: 0.25em;box-sizing: border-box;margin-bottom: 0.5em;}#sk-container-id-5 div.sk-estimator:hover {background-color: #d4ebff;}#sk-container-id-5 div.sk-parallel-item::after {content: \"\";width: 100%;border-bottom: 1px solid gray;flex-grow: 1;}#sk-container-id-5 div.sk-label:hover label.sk-toggleable__label {background-color: #d4ebff;}#sk-container-id-5 div.sk-serial::before {content: \"\";position: absolute;border-left: 1px solid gray;box-sizing: border-box;top: 0;bottom: 0;left: 50%;z-index: 0;}#sk-container-id-5 div.sk-serial {display: flex;flex-direction: column;align-items: center;background-color: white;padding-right: 0.2em;padding-left: 0.2em;position: relative;}#sk-container-id-5 div.sk-item {position: relative;z-index: 1;}#sk-container-id-5 div.sk-parallel {display: flex;align-items: stretch;justify-content: center;background-color: white;position: relative;}#sk-container-id-5 div.sk-item::before, #sk-container-id-5 div.sk-parallel-item::before {content: \"\";position: absolute;border-left: 1px solid gray;box-sizing: border-box;top: 0;bottom: 0;left: 50%;z-index: -1;}#sk-container-id-5 div.sk-parallel-item {display: flex;flex-direction: column;z-index: 1;position: relative;background-color: white;}#sk-container-id-5 div.sk-parallel-item:first-child::after {align-self: flex-end;width: 50%;}#sk-container-id-5 div.sk-parallel-item:last-child::after {align-self: flex-start;width: 50%;}#sk-container-id-5 div.sk-parallel-item:only-child::after {width: 0;}#sk-container-id-5 div.sk-dashed-wrapped {border: 1px dashed gray;margin: 0 0.4em 0.5em 0.4em;box-sizing: border-box;padding-bottom: 0.4em;background-color: white;}#sk-container-id-5 div.sk-label label {font-family: monospace;font-weight: bold;display: inline-block;line-height: 1.2em;}#sk-container-id-5 div.sk-label-container {text-align: center;}#sk-container-id-5 div.sk-container {/* jupyter's `normalize.less` sets `[hidden] { display: none; }` but bootstrap.min.css set `[hidden] { display: none !important; }` so we also need the `!important` here to be able to override the default hidden behavior on the sphinx rendered scikit-learn.org. See: https://github.com/scikit-learn/scikit-learn/issues/21755 */display: inline-block !important;position: relative;}#sk-container-id-5 div.sk-text-repr-fallback {display: none;}</style><div id=\"sk-container-id-5\" class=\"sk-top-container\"><div class=\"sk-text-repr-fallback\"><pre>RandomForestClassifier()</pre><b>In a Jupyter environment, please rerun this cell to show the HTML representation or trust the notebook. <br />On GitHub, the HTML representation is unable to render, please try loading this page with nbviewer.org.</b></div><div class=\"sk-container\" hidden><div class=\"sk-item\"><div class=\"sk-estimator sk-toggleable\"><input class=\"sk-toggleable__control sk-hidden--visually\" id=\"sk-estimator-id-7\" type=\"checkbox\" checked><label for=\"sk-estimator-id-7\" class=\"sk-toggleable__label sk-toggleable__label-arrow\">RandomForestClassifier</label><div class=\"sk-toggleable__content\"><pre>RandomForestClassifier()</pre></div></div></div></div></div>"
            ],
            "text/plain": [
              "RandomForestClassifier()"
            ]
          },
          "execution_count": 220,
          "metadata": {},
          "output_type": "execute_result"
        }
      ],
      "source": [
        "clf =LogisticRegression(C = 5,  solver = 'sag', penalty = 'l2')\n",
        "parameters = {\n",
        "    'solver' : ['lbfgs', 'liblinear', 'newton-cg', 'newton-cholesky', 'sag', 'saga'],\n",
        "    'penalty' : ['None', 'l1', 'l2', 'elasticnet'],\n",
        "    'C' : range(0, 10)\n",
        "}\n",
        "\n",
        "grid = GridSearchCV(clf,\n",
        "                       param_grid = parameters, cv=5)\n",
        "clf.fit(s_x_train,s_y_train)\n",
        "# result = pd.DataFrame(grid.cv_results_['params'])\n",
        "# result['mean_test_score'] = grid.cv_results_['mean_test_score']\n",
        "# result.sort_values(by='mean_test_score',ascending=False)"
      ],
      "id": "1810fd3d-1349-4fca-ace7-eedec7371025"
    },
    {
      "cell_type": "markdown",
      "metadata": {
        "id": "9fbc21c7-bfc6-4e8d-a7f5-d23fa51c73b5"
      },
      "source": [
        "# Inference"
      ],
      "id": "9fbc21c7-bfc6-4e8d-a7f5-d23fa51c73b5"
    },
    {
      "cell_type": "code",
      "execution_count": null,
      "metadata": {
        "id": "t9bpbl3LUOj1"
      },
      "outputs": [],
      "source": [
        "y_pred = clf.predict_proba(x_test)"
      ],
      "id": "t9bpbl3LUOj1"
    },
    {
      "cell_type": "markdown",
      "source": [
        "#Submit"
      ],
      "metadata": {
        "id": "A9xt5dGIbpu7"
      },
      "id": "A9xt5dGIbpu7"
    },
    {
      "cell_type": "code",
      "execution_count": null,
      "metadata": {
        "colab": {
          "base_uri": "https://localhost:8080/"
        },
        "id": "e99XktHzaADL",
        "outputId": "8d6ecdd6-9234-46bf-9743-c1523a2823c1"
      },
      "outputs": [
        {
          "data": {
            "text/plain": [
              "array([0, 0, 0, ..., 0, 1, 1])"
            ]
          },
          "execution_count": 222,
          "metadata": {},
          "output_type": "execute_result"
        }
      ],
      "source": [
        "submission = pd.DataFrame(data=y_pred, columns=sample_submission.columns, index=sample_submission.index)"
      ],
      "id": "e99XktHzaADL"
    },
    {
      "cell_type": "code",
      "execution_count": null,
      "metadata": {
        "id": "efhStyjyb7bZ"
      },
      "outputs": [],
      "source": [
        "submission.to_csv('./submission.csv', index=True)"
      ],
      "id": "efhStyjyb7bZ"
    },
    {
      "cell_type": "code",
      "execution_count": null,
      "metadata": {
        "colab": {
          "base_uri": "https://localhost:8080/"
        },
        "id": "C6nDy9QTc5Kv",
        "outputId": "d7bb063c-a6eb-4037-bf1e-ce53619911ae"
      },
      "outputs": [
        {
          "data": {
            "text/plain": [
              "0    723582\n",
              "1    276418\n",
              "Name: y_pred, dtype: int64"
            ]
          },
          "execution_count": 224,
          "metadata": {},
          "output_type": "execute_result"
        }
      ],
      "source": [
        "submission.head(3)"
      ],
      "id": "C6nDy9QTc5Kv"
    },
    {
      "cell_type": "code",
      "execution_count": null,
      "metadata": {
        "id": "4Z01p3h7fEu3"
      },
      "outputs": [],
      "source": [
        "submission"
      ],
      "id": "4Z01p3h7fEu3"
    }
  ],
  "metadata": {
    "accelerator": "GPU",
    "colab": {
      "machine_shape": "hm",
      "provenance": [],
      "gpuType": "T4",
      "include_colab_link": true
    },
    "kernelspec": {
      "display_name": "Python 3",
      "name": "python3"
    },
    "language_info": {
      "codemirror_mode": {
        "name": "ipython",
        "version": 3
      },
      "file_extension": ".py",
      "mimetype": "text/x-python",
      "name": "python",
      "nbconvert_exporter": "python",
      "pygments_lexer": "ipython3",
      "version": "3.8.3"
    }
  },
  "nbformat": 4,
  "nbformat_minor": 5
}