{
  "nbformat": 4,
  "nbformat_minor": 0,
  "metadata": {
    "colab": {
      "provenance": [],
      "toc_visible": true,
      "include_colab_link": true
    },
    "kernelspec": {
      "name": "python3",
      "display_name": "Python 3"
    },
    "language_info": {
      "name": "python"
    },
    "accelerator": "GPU",
    "gpuClass": "standard"
  },
  "cells": [
    {
      "cell_type": "markdown",
      "metadata": {
        "id": "view-in-github",
        "colab_type": "text"
      },
      "source": [
        "<a href=\"https://colab.research.google.com/github/ssyeon2/Flight-Delay-Prediction/blob/main/Flight_Delay_predict(logistic_regression).ipynb\" target=\"_parent\"><img src=\"https://colab.research.google.com/assets/colab-badge.svg\" alt=\"Open In Colab\"/></a>"
      ]
    },
    {
      "cell_type": "markdown",
      "source": [
        "# 1. 기본 설정"
      ],
      "metadata": {
        "id": "Xkhq2KUmbdqb"
      }
    },
    {
      "cell_type": "code",
      "execution_count": 5,
      "metadata": {
        "colab": {
          "base_uri": "https://localhost:8080/"
        },
        "id": "JGNRjPVcbZs4",
        "outputId": "d5f224b5-eb71-4d16-9f87-86a045869950"
      },
      "outputs": [
        {
          "output_type": "stream",
          "name": "stdout",
          "text": [
            "Mounted at /content/drive\n"
          ]
        }
      ],
      "source": [
        "from google.colab import drive\n",
        "drive.mount('/content/drive')"
      ]
    },
    {
      "cell_type": "code",
      "source": [
        "import pandas as pd\n",
        "import numpy as np\n",
        "import random\n",
        "import os\n",
        "import gc\n",
        "from sklearn.ensemble import RandomForestClassifier\n",
        "from sklearn.preprocessing import LabelEncoder"
      ],
      "metadata": {
        "id": "dEqJBradbbnR"
      },
      "execution_count": 1,
      "outputs": []
    },
    {
      "cell_type": "code",
      "source": [
        "def seed_everything(seed):\n",
        "    random.seed(seed)\n",
        "    os.environ['PYTHONHASHSEED'] = str(seed)\n",
        "    np.random.seed(seed)\n",
        "seed_everything(42) # Seed 고정"
      ],
      "metadata": {
        "id": "_r2BUBiJbcWO"
      },
      "execution_count": 2,
      "outputs": []
    },
    {
      "cell_type": "code",
      "source": [
        "import warnings\n",
        "warnings.simplefilter('ignore')"
      ],
      "metadata": {
        "id": "7xRhxOCSbdFX"
      },
      "execution_count": 3,
      "outputs": []
    },
    {
      "cell_type": "markdown",
      "source": [
        "### data 불러오기"
      ],
      "metadata": {
        "id": "q5ljHc8ubhDF"
      }
    },
    {
      "cell_type": "code",
      "source": [
        "def csv_to_parquet(csv_path, save_name):\n",
        "    df = pd.read_csv(csv_path)\n",
        "    df.to_parquet(f'./{save_name}.parquet')\n",
        "    del df\n",
        "    gc.collect()\n",
        "    print(save_name, 'Done.')"
      ],
      "metadata": {
        "id": "zCMoKWCP-pBA"
      },
      "execution_count": 7,
      "outputs": []
    },
    {
      "cell_type": "code",
      "source": [
        "csv_to_parquet('/content/drive/MyDrive/항공기/open/train.csv', 'train')\n",
        "csv_to_parquet('/content/drive/MyDrive/항공기/open/test.csv', 'test')"
      ],
      "metadata": {
        "colab": {
          "base_uri": "https://localhost:8080/"
        },
        "id": "L7Uj90VT--43",
        "outputId": "45caf04a-f868-4606-9e72-b67b53ac5528"
      },
      "execution_count": 10,
      "outputs": [
        {
          "output_type": "stream",
          "name": "stdout",
          "text": [
            "train Done.\n",
            "test Done.\n"
          ]
        }
      ]
    },
    {
      "cell_type": "code",
      "source": [
        "train = pd.read_parquet('./train.parquet')\n",
        "test = pd.read_parquet('./test.parquet')\n",
        "sample_submission = pd.read_csv('/content/drive/MyDrive/항공기/sample_submission.csv', index_col = 0)"
      ],
      "metadata": {
        "id": "Yb97GIQ9_I67"
      },
      "execution_count": 12,
      "outputs": []
    },
    {
      "cell_type": "markdown",
      "source": [
        "# 2.Data Pre-Processing"
      ],
      "metadata": {
        "id": "lPTXtta9_QF4"
      }
    },
    {
      "cell_type": "markdown",
      "source": [
        "##1) shape 확인"
      ],
      "metadata": {
        "id": "UKnjNpP3_VCG"
      }
    },
    {
      "cell_type": "code",
      "source": [
        "train.shape, test.shape"
      ],
      "metadata": {
        "colab": {
          "base_uri": "https://localhost:8080/"
        },
        "id": "LH0Q8M_x_UuT",
        "outputId": "c3330b3a-b82b-4286-fc20-56436af05abb"
      },
      "execution_count": 13,
      "outputs": [
        {
          "output_type": "execute_result",
          "data": {
            "text/plain": [
              "((1000000, 19), (1000000, 18))"
            ]
          },
          "metadata": {},
          "execution_count": 13
        }
      ]
    },
    {
      "cell_type": "markdown",
      "source": [
        "## 2) 결측치 개수 확인"
      ],
      "metadata": {
        "id": "C_EkP-zT_j-P"
      }
    },
    {
      "cell_type": "code",
      "source": [
        "print(train.isna().sum())\n",
        "print('----------------------------')\n",
        "print(train.isna().sum() / train.shape[0])"
      ],
      "metadata": {
        "colab": {
          "base_uri": "https://localhost:8080/"
        },
        "id": "Fh3MoS9c_mBR",
        "outputId": "b091ec2e-f25a-41a4-ffc7-aebbd7b5dfa1"
      },
      "execution_count": 14,
      "outputs": [
        {
          "output_type": "stream",
          "name": "stdout",
          "text": [
            "ID                               0\n",
            "Month                            0\n",
            "Day_of_Month                     0\n",
            "Estimated_Departure_Time    109019\n",
            "Estimated_Arrival_Time      109040\n",
            "Cancelled                        0\n",
            "Diverted                         0\n",
            "Origin_Airport                   0\n",
            "Origin_Airport_ID                0\n",
            "Origin_State                109015\n",
            "Destination_Airport              0\n",
            "Destination_Airport_ID           0\n",
            "Destination_State           109079\n",
            "Distance                         0\n",
            "Airline                     108920\n",
            "Carrier_Code(IATA)          108990\n",
            "Carrier_ID(DOT)             108997\n",
            "Tail_Number                      0\n",
            "Delay                       744999\n",
            "dtype: int64\n",
            "----------------------------\n",
            "ID                          0.000000\n",
            "Month                       0.000000\n",
            "Day_of_Month                0.000000\n",
            "Estimated_Departure_Time    0.109019\n",
            "Estimated_Arrival_Time      0.109040\n",
            "Cancelled                   0.000000\n",
            "Diverted                    0.000000\n",
            "Origin_Airport              0.000000\n",
            "Origin_Airport_ID           0.000000\n",
            "Origin_State                0.109015\n",
            "Destination_Airport         0.000000\n",
            "Destination_Airport_ID      0.000000\n",
            "Destination_State           0.109079\n",
            "Distance                    0.000000\n",
            "Airline                     0.108920\n",
            "Carrier_Code(IATA)          0.108990\n",
            "Carrier_ID(DOT)             0.108997\n",
            "Tail_Number                 0.000000\n",
            "Delay                       0.744999\n",
            "dtype: float64\n"
          ]
        }
      ]
    },
    {
      "cell_type": "code",
      "source": [
        "target = 'Delay'\n",
        "train[target].isna().sum()"
      ],
      "metadata": {
        "colab": {
          "base_uri": "https://localhost:8080/"
        },
        "id": "p9jn3jbq_mjQ",
        "outputId": "56d942cb-2910-4a46-904b-ca77559af2c2"
      },
      "execution_count": 15,
      "outputs": [
        {
          "output_type": "execute_result",
          "data": {
            "text/plain": [
              "744999"
            ]
          },
          "metadata": {},
          "execution_count": 15
        }
      ]
    },
    {
      "cell_type": "markdown",
      "source": [
        "## 3) 모두 같은 값을 가지는 열 제거"
      ],
      "metadata": {
        "id": "lQECUHh5_pty"
      }
    },
    {
      "cell_type": "code",
      "source": [
        "# 값이 모두 0임\n",
        "train['Cancelled'].value_counts(), train['Diverted'].value_counts()"
      ],
      "metadata": {
        "colab": {
          "base_uri": "https://localhost:8080/"
        },
        "id": "hP30UyTu_qxQ",
        "outputId": "420ef5b1-5311-4d43-a2e7-30c1ca50adc7"
      },
      "execution_count": 16,
      "outputs": [
        {
          "output_type": "execute_result",
          "data": {
            "text/plain": [
              "(0    1000000\n",
              " Name: Cancelled, dtype: int64,\n",
              " 0    1000000\n",
              " Name: Diverted, dtype: int64)"
            ]
          },
          "metadata": {},
          "execution_count": 16
        }
      ]
    },
    {
      "cell_type": "code",
      "source": [
        "train = train.drop(['Cancelled', 'Diverted'], axis=1)\n",
        "test = test.drop(['Cancelled', 'Diverted'], axis=1)"
      ],
      "metadata": {
        "id": "Ani4j6CH_tdj"
      },
      "execution_count": null,
      "outputs": []
    },
    {
      "cell_type": "markdown",
      "source": [
        "### 결측치 채우기"
      ],
      "metadata": {
        "id": "PCZMUH6ebtuD"
      }
    },
    {
      "cell_type": "code",
      "source": [
        "# Origin_Airport_ID가 같은 값으로 Airline 채우기\n",
        "for i in range(len(train)):\n",
        "    if train['Airline'][i] == None:\n",
        "        for j in range(len(a)):\n",
        "            if train['Tail_Number'][i] == a['Tail_Number'][j] :\n",
        "                train.loc[i, 'Airline'] = a['Airline'][j]\n",
        "                break\n",
        "            else:\n",
        "                pass"
      ],
      "metadata": {
        "id": "syUFqJkFbjPA"
      },
      "execution_count": null,
      "outputs": []
    },
    {
      "cell_type": "code",
      "source": [
        "train_state = train.groupby(by = ['Origin_State', 'Origin_Airport_ID', 'Destination_State', 'Destination_Airport_ID'], as_index = False)[['ID']].count()"
      ],
      "metadata": {
        "id": "wkJTgWzRbz6h"
      },
      "execution_count": null,
      "outputs": []
    },
    {
      "cell_type": "code",
      "source": [
        "train_state = train.groupby(by = ['Origin_State', 'Origin_Airport_ID', 'Destination_State', 'Destination_Airport_ID'], as_index = False)[['ID']].count()\n",
        "\n",
        "# Origin_Airport_ID가 같은 값으로 Origin_State 채우기\n",
        "for i in range(len(train)):\n",
        "    if train['Origin_State'][i] == None:\n",
        "        for j in range(len(train_state)):\n",
        "            if train['Origin_Airport_ID'][i] == train_state['Origin_Airport_ID'][j] :\n",
        "                train.loc[i, 'Origin_State'] = train_state['Origin_State'][j]\n",
        "                break\n",
        "            else:\n",
        "                pass\n",
        "\n",
        "tail = train.groupby(['Airline', 'Carrier_ID(DOT)'], as_index= False)[['ID']].count()\n",
        "\n",
        "count = 0\n",
        "for i in tail['Carrier_ID(DOT)'].value_counts():\n",
        "    if i != 1 :\n",
        "        count += 1\n",
        "    else :\n",
        "        pass\n",
        "\n",
        "\n",
        "train.loc[train['Airline'].isna(), 'Airline'] = 'isnull'\n",
        "train.loc[train['Airline']== 'isnull', 'Airline'] = None\n",
        "\n",
        "\n",
        "for i in range(len(train)):\n",
        "    if train['Airline'][i] == None:\n",
        "        for j in range(len(tail)):\n",
        "            if train['Carrier_ID(DOT)'][i] == tail['Carrier_ID(DOT)'][j] :\n",
        "                train.loc[i, 'Airline'] = tail['Airline'][j]\n",
        "                break\n",
        "            else:\n",
        "                pass\n",
        "\n",
        "\n",
        "# Airline과 Carrier_ID(DOT)의 결측치를 1:1대응으로 채우기\n",
        "\n",
        "# 결측값을 None으로 바꿔주기\n",
        "train.loc[train['Carrier_ID(DOT)'].isna(), 'Carrier_ID(DOT)'] = 'isnull'\n",
        "train.loc[train['Carrier_ID(DOT)']== 'isnull', 'Carrier_ID(DOT)'] = None\n",
        "\n",
        "for i in range(len(train)):\n",
        "    if train['Carrier_ID(DOT)'][i] == None:\n",
        "        count = 0\n",
        "        for j in range(len(tail)):\n",
        "            if train['Airline'][i] == tail['Airline'][j] :\n",
        "                train.loc[i, 'Carrier_ID(DOT)'] = tail['Carrier_ID(DOT)'][j]\n",
        "                break\n",
        "            else:\n",
        "                count += 1\n",
        "                pass\n",
        "\n",
        "train_state = train.groupby(by = ['Origin_State', 'Origin_Airport_ID', 'Destination_State', 'Destination_Airport_ID'], as_index = False)[['ID']].count()\n",
        "\n",
        "for i in range(1,len(train)):\n",
        "    if train['Destination_State'][i] == None:\n",
        "        count = 0\n",
        "        for j in range(1,len(train_state)):\n",
        "            if train['Destination_Airport_ID'][i] == train_state['Destination_Airport_ID'][j] :\n",
        "                train.loc[i, 'Destination_State'] = train_state['Destination_State'][j]\n",
        "                break\n",
        "            else:\n",
        "                count += 1\n",
        "                pass\n",
        "\n",
        "#1 : 1 대응 변수 삭제\n",
        "train = train.drop(['Origin_Airport_ID', 'Destination_Airport_ID', 'Carrier_Code(IATA)', 'Cancelled', 'Diverted'], axis = 1)\n",
        "\n",
        "# Origin_Airport_ID가 같은 값으로 Origin_State 채우기\n",
        "for i in range(len(train)):\n",
        "    if train['Origin_State'][i] == None:\n",
        "        for j in range(len(train_state)):\n",
        "            if train['Origin_Airport_ID'][i] == train_state['Origin_Airport_ID'][j] :\n",
        "                train.loc[i, 'Origin_State'] = train_state['Origin_State'][j]\n",
        "                break\n",
        "            else:\n",
        "                pass\n",
        "\n",
        "tail = train.groupby(['Airline', 'Carrier_ID(DOT)'], as_index= False)[['ID']].count()\n",
        "\n",
        "count = 0\n",
        "for i in tail['Carrier_ID(DOT)'].value_counts():\n",
        "    if i != 1 :\n",
        "        count += 1\n",
        "    else :\n",
        "        pass\n",
        "\n",
        "train.loc[train['Airline'].isna(), 'Airline'] = 'isnull'\n",
        "train.loc[train['Airline']== 'isnull', 'Airline'] = None\n",
        "\n",
        "\n",
        "for i in range(len(train)):\n",
        "    if train['Airline'][i] == None:\n",
        "        for j in range(len(tail)):\n",
        "            if train['Carrier_ID(DOT)'][i] == tail['Carrier_ID(DOT)'][j] :\n",
        "                train.loc[i, 'Airline'] = tail['Airline'][j]\n",
        "                break\n",
        "            else:\n",
        "                pass\n",
        "\n",
        "# Airline과 Carrier_ID(DOT)의 결측치를 1:1대응으로 채우기\n",
        "\n",
        "# 결측값을 None으로 바꿔주기\n",
        "train.loc[train['Carrier_ID(DOT)'].isna(), 'Carrier_ID(DOT)'] = 'isnull'\n",
        "train.loc[train['Carrier_ID(DOT)']== 'isnull', 'Carrier_ID(DOT)'] = None\n",
        "\n",
        "for i in range(len(train)):\n",
        "    if train['Carrier_ID(DOT)'][i] == None:\n",
        "        count = 0\n",
        "        for j in range(len(tail)):\n",
        "            if train['Airline'][i] == tail['Airline'][j] :\n",
        "                train.loc[i, 'Carrier_ID(DOT)'] = tail['Carrier_ID(DOT)'][j]\n",
        "                break\n",
        "            else:\n",
        "                count += 1\n",
        "                pass\n",
        "\n",
        "train_state = train.groupby(by = ['Origin_State', 'Origin_Airport_ID', 'Destination_State', 'Destination_Airport_ID'], as_index = False)[['ID']].count()\n",
        "\n",
        "for i in range(1,len(train)):\n",
        "    if train['Destination_State'][i] == None:\n",
        "        count = 0\n",
        "        for j in range(1,len(train_state)):\n",
        "            if train['Destination_Airport_ID'][i] == train_state['Destination_Airport_ID'][j] :\n",
        "                train.loc[i, 'Destination_State'] = train_state['Destination_State'][j]\n",
        "                break\n",
        "            else:\n",
        "                count += 1\n",
        "                pass\n",
        "\n",
        "#1 : 1 대응 변수 삭제\n",
        "train = train.drop(['Origin_Airport_ID', 'Destination_Airport_ID', 'Carrier_Code(IATA)'], axis = 1)\n",
        "\n",
        "a = train.loc[train['Estimated_Departure_Time'].isna() & train['Estimated_Arrival_Time'].isna()]\n",
        "train = train.drop(a.index , axis = 0)\n",
        "\n",
        "\n",
        "from sklearn.impute import KNNImputer\n",
        "imputer = KNNImputer(n_neighbors=2)\n",
        "\n",
        "train['Estimated_Departure_Time'] = imputer.fit_transform(train[['Estimated_Departure_Time']])\n",
        "train['Estimated_Arrival_Time'] = imputer.fit_transform(train[['Estimated_Arrival_Time']])\n",
        "\n",
        "#레이블(Delay)을 제외한 결측값이 존재하는 변수들을 학습 데이터의 최빈값으로 대체합니다\n",
        "NaN_col = ['Airline','Carrier_ID(DOT)', 'Destination_State']\n",
        "\n",
        "for col in NaN_col:\n",
        "    mode = train[col].mode()[0]\n",
        "    train[col] = train[col].fillna(mode)\n"
      ],
      "metadata": {
        "id": "TbCWI7qmb4xL"
      },
      "execution_count": null,
      "outputs": []
    },
    {
      "cell_type": "code",
      "source": [
        "test_state = test.groupby(by = ['Origin_State', 'Origin_Airport_ID', 'Destination_State', 'Destination_Airport_ID'], as_index = False)[['ID']].count()\n",
        "\n",
        "# Origin_Airport_ID가 같은 값으로 Origin_State 채우기\n",
        "for i in range(len(test)):\n",
        "    if test['Origin_State'][i] == None:\n",
        "        for j in range(len(test_state)):\n",
        "            if test['Origin_Airport_ID'][i] == test_state['Origin_Airport_ID'][j] :\n",
        "                test.loc[i, 'Origin_State'] = test_state['Origin_State'][j]\n",
        "                break\n",
        "            else:\n",
        "                pass\n",
        "\n",
        "tail = test.groupby(['Airline', 'Carrier_ID(DOT)'], as_index= False)[['ID']].count()\n",
        "\n",
        "count = 0\n",
        "for i in tail['Carrier_ID(DOT)'].value_counts():\n",
        "    if i != 1 :\n",
        "        count += 1\n",
        "    else :\n",
        "        pass\n",
        "\n",
        "\n",
        "test.loc[test['Airline'].isna(), 'Airline'] = 'isnull'\n",
        "test.loc[test['Airline']== 'isnull', 'Airline'] = None\n",
        "\n",
        "\n",
        "for i in range(len(test)):\n",
        "    if test['Airline'][i] == None:\n",
        "        for j in range(len(tail)):\n",
        "            if test['Carrier_ID(DOT)'][i] == tail['Carrier_ID(DOT)'][j] :\n",
        "                test.loc[i, 'Airline'] = tail['Airline'][j]\n",
        "                break\n",
        "            else:\n",
        "                pass\n",
        "\n",
        "\n",
        "# Airline과 Carrier_ID(DOT)의 결측치를 1:1대응으로 채우기\n",
        "\n",
        "# 결측값을 None으로 바꿔주기\n",
        "test.loc[test['Carrier_ID(DOT)'].isna(), 'Carrier_ID(DOT)'] = 'isnull'\n",
        "test.loc[test['Carrier_ID(DOT)']== 'isnull', 'Carrier_ID(DOT)'] = None\n",
        "\n",
        "for i in range(len(test)):\n",
        "    if test['Carrier_ID(DOT)'][i] == None:\n",
        "        count = 0\n",
        "        for j in range(len(tail)):\n",
        "            if test['Airline'][i] == tail['Airline'][j] :\n",
        "                test.loc[i, 'Carrier_ID(DOT)'] = tail['Carrier_ID(DOT)'][j]\n",
        "                break\n",
        "            else:\n",
        "                count += 1\n",
        "                pass\n",
        "\n",
        "test_state = test.groupby(by = ['Origin_State', 'Origin_Airport_ID', 'Destination_State', 'Destination_Airport_ID'], as_index = False)[['ID']].count()\n",
        "\n",
        "for i in range(1,len(test)):\n",
        "    if test['Destination_State'][i] == None:\n",
        "        count = 0\n",
        "        for j in range(1,len(test_state)):\n",
        "            if test['Destination_Airport_ID'][i] == test_state['Destination_Airport_ID'][j] :\n",
        "                test.loc[i, 'Destination_State'] = test_state['Destination_State'][j]\n",
        "                break\n",
        "            else:\n",
        "                count += 1\n",
        "                pass\n",
        "\n",
        "#1 : 1 대응 변수 삭제\n",
        "test = test.drop(['Origin_Airport_ID', 'Destination_Airport_ID', 'Carrier_Code(IATA)', 'Cancelled', 'Diverted'], axis = 1)\n",
        "\n",
        "# Origin_Airport_ID가 같은 값으로 Origin_State 채우기\n",
        "for i in range(len(test)):\n",
        "    if test['Origin_State'][i] == None:\n",
        "        for j in range(len(test_state)):\n",
        "            if test['Origin_Airport_ID'][i] == test_state['Origin_Airport_ID'][j] :\n",
        "                test.loc[i, 'Origin_State'] = test_state['Origin_State'][j]\n",
        "                break\n",
        "            else:\n",
        "                pass\n",
        "\n",
        "tail = test.groupby(['Airline', 'Carrier_ID(DOT)'], as_index= False)[['ID']].count()\n",
        "\n",
        "count = 0\n",
        "for i in tail['Carrier_ID(DOT)'].value_counts():\n",
        "    if i != 1 :\n",
        "        count += 1\n",
        "    else :\n",
        "        pass\n",
        "\n",
        "test.loc[test['Airline'].isna(), 'Airline'] = 'isnull'\n",
        "test.loc[test['Airline']== 'isnull', 'Airline'] = None\n",
        "\n",
        "\n",
        "for i in range(len(test)):\n",
        "    if test['Airline'][i] == None:\n",
        "        for j in range(len(tail)):\n",
        "            if test['Carrier_ID(DOT)'][i] == tail['Carrier_ID(DOT)'][j] :\n",
        "                test.loc[i, 'Airline'] = tail['Airline'][j]\n",
        "                break\n",
        "            else:\n",
        "                pass\n",
        "\n",
        "# Airline과 Carrier_ID(DOT)의 결측치를 1:1대응으로 채우기\n",
        "\n",
        "# 결측값을 None으로 바꿔주기\n",
        "test.loc[test['Carrier_ID(DOT)'].isna(), 'Carrier_ID(DOT)'] = 'isnull'\n",
        "test.loc[test['Carrier_ID(DOT)']== 'isnull', 'Carrier_ID(DOT)'] = None\n",
        "\n",
        "for i in range(len(test)):\n",
        "    if test['Carrier_ID(DOT)'][i] == None:\n",
        "        count = 0\n",
        "        for j in range(len(tail)):\n",
        "            if test['Airline'][i] == tail['Airline'][j] :\n",
        "                test.loc[i, 'Carrier_ID(DOT)'] = tail['Carrier_ID(DOT)'][j]\n",
        "                break\n",
        "            else:\n",
        "                count += 1\n",
        "                pass\n",
        "\n",
        "test_state = test.groupby(by = ['Origin_State', 'Origin_Airport_ID', 'Destination_State', 'Destination_Airport_ID'], as_index = False)[['ID']].count()\n",
        "\n",
        "for i in range(1,len(test)):\n",
        "    if test['Destination_State'][i] == None:\n",
        "        count = 0\n",
        "        for j in range(1,len(test_state)):\n",
        "            if test['Destination_Airport_ID'][i] == test_state['Destination_Airport_ID'][j] :\n",
        "                test.loc[i, 'Destination_State'] = test_state['Destination_State'][j]\n",
        "                break\n",
        "            else:\n",
        "                count += 1\n",
        "                pass\n",
        "\n",
        "#1 : 1 대응 변수 삭제\n",
        "test = test.drop(['Origin_Airport_ID', 'Destination_Airport_ID', 'Carrier_Code(IATA)'], axis = 1)\n",
        "\n",
        "a = test.loc[test['Estimated_Departure_Time'].isna() & test['Estimated_Arrival_Time'].isna()]\n",
        "test = test.drop(a.index , axis = 0)\n",
        "\n",
        "\n",
        "from sklearn.impute import KNNImputer\n",
        "imputer = KNNImputer(n_neighbors=2)\n",
        "\n",
        "test['Estimated_Departure_Time'] = imputer.fit_transform(test[['Estimated_Departure_Time']])\n",
        "test['Estimated_Arrival_Time'] = imputer.fit_transform(test[['Estimated_Arrival_Time']])\n",
        "\n",
        "#레이블(Delay)을 제외한 결측값이 존재하는 변수들을 학습 데이터의 최빈값으로 대체합니다\n",
        "NaN_col = ['Airline','Carrier_ID(DOT)', 'Destination_State']\n",
        "\n",
        "for col in NaN_col:\n",
        "    mode = test[col].mode()[0]\n",
        "    test[col] = test[col].fillna(mode)\n"
      ],
      "metadata": {
        "id": "6mGn21A4b5Ws"
      },
      "execution_count": null,
      "outputs": []
    },
    {
      "cell_type": "markdown",
      "source": [
        "### 파생변수 생성"
      ],
      "metadata": {
        "id": "xCtqMiNYcmVk"
      }
    },
    {
      "cell_type": "code",
      "source": [
        "# 총 소요시간\n",
        "train['total_time'] = None\n",
        "for i in range(len(train)):\n",
        "    if train['Estimated_Departure_Time'][i] > train['Estimated_Arrival_Time'][i] :\n",
        "        train.loc[i, 'total_time'] = 2400-(train['Estimated_Arrival_Time'][i] - train['Estimated_Departure_Time'][i])\n",
        "    else :\n",
        "        train.loc[i, 'total_time'] = train['Estimated_Arrival_Time'][i] - train['Estimated_Departure_Time'][i]\n",
        "\n",
        "test['total_time'] = None\n",
        "for i in range(len(test)):\n",
        "    if test['Estimated_Departure_Time'][i] > test['Estimated_Arrival_Time'][i] :\n",
        "        test.loc[i, 'total_time'] = 2400-(test['Estimated_Arrival_Time'][i] - test['Estimated_Departure_Time'][i])\n",
        "    else :\n",
        "        test.loc[i, 'total_time'] = test['Estimated_Arrival_Time'][i] - test['Estimated_Departure_Time'][i]"
      ],
      "metadata": {
        "id": "_kFJu-gZcauI"
      },
      "execution_count": null,
      "outputs": []
    },
    {
      "cell_type": "code",
      "source": [
        "#시간과 분\n",
        "train['hour_de'] = train['Estimated_Departure_Time'].apply(lambda x: int(x/100))\n",
        "train['minute_de'] = train['Estimated_Departure_Time'].apply(lambda x: int(x%100))\n",
        "test['hour_de'] = test['Estimated_Departure_Time'].apply(lambda x: int(x/100))\n",
        "test['minute_de'] = test['Estimated_Departure_Time'].apply(lambda x: int(x%100))\n",
        "\n",
        "train['hour_arrival'] = train['Estimated_Arrival_Time'].apply(lambda x: int(x/100))\n",
        "train['minute_arrival'] = train['Estimated_Arrival_Time'].apply(lambda x: int(x%100))\n",
        "test['hour_arrival'] = test['Estimated_Arrival_Time'].apply(lambda x: int(x/100))\n",
        "test['minute_arrival'] = test['Estimated_Arrival_Time'].apply(lambda x: int(x%100))\n"
      ],
      "metadata": {
        "id": "InUGpsTXcrLb"
      },
      "execution_count": null,
      "outputs": []
    },
    {
      "cell_type": "code",
      "source": [
        "#시간 범주화\n",
        "\n",
        "train.loc[(train['hour_de'] >=0) & (train['hour_de'] < 3), 'departure_time'] = 1\n",
        "train.loc[(train['hour_de'] >= 3) & (train['hour_de'] < 6), 'departure_time'] = 2\n",
        "train.loc[(train['hour_de'] >= 6) & (train['hour_de'] < 9), 'departure_time'] = 3\n",
        "train.loc[(train['hour_de'] >= 9) & (train['hour_de'] < 12), 'departure_time'] = 4\n",
        "train.loc[(train['hour_de'] >= 12) & (train['hour_de'] < 15), 'departure_time'] = 5\n",
        "train.loc[(train['hour_de'] >= 15) & (train['hour_de'] < 18), 'departure_time'] = 6\n",
        "train.loc[(train['hour_de'] >= 18) & (train['hour_de'] < 21), 'departure_time'] = 7\n",
        "train.loc[train['hour_de'] >= 21 , 'departure_time'] = 8\n",
        "\n",
        "test.loc[(test['hour_de'] >= 0) & (test['hour_de'] < 3), 'departure_time'] = 1\n",
        "test.loc[(test['hour_de'] >= 3) & (test['hour_de'] < 6), 'departure_time'] = 2\n",
        "test.loc[(test['hour_de'] >= 6) & (test['hour_de'] < 9), 'departure_time'] = 3\n",
        "test.loc[(test['hour_de'] >= 9) & (test['hour_de'] < 12), 'departure_time'] = 4\n",
        "test.loc[(test['hour_de'] >= 12) & (test['hour_de'] < 15), 'departure_time'] = 5\n",
        "test.loc[(test['hour_de'] >= 15) & (test['hour_de'] < 18), 'departure_time'] = 6\n",
        "test.loc[(test['hour_de'] >= 18) & (test['hour_de'] < 21), 'departure_time'] = 7\n",
        "test.loc[test['hour_de'] >= 21,'departure_time'] = 8\n",
        "\n",
        "train.loc[(train['hour_arrival'] >=0) & (train['hour_arrival'] < 3), 'arrival_time'] = 1\n",
        "train.loc[(train['hour_arrival'] >= 3) & (train['hour_arrival'] < 6), 'arrival_time'] = 2\n",
        "train.loc[(train['hour_arrival'] >= 6) & (train['hour_arrival'] < 9), 'arrival_time'] = 3\n",
        "train.loc[(train['hour_arrival'] >= 9) & (train['hour_arrival'] < 12), 'arrival_time'] = 4\n",
        "train.loc[(train['hour_arrival'] >= 12) & (train['hour_arrival'] < 15), 'arrival_time'] = 5\n",
        "train.loc[(train['hour_arrival'] >= 15) & (train['hour_arrival'] < 18), 'arrival_time'] = 6\n",
        "train.loc[(train['hour_arrival'] >= 18) & (train['hour_arrival'] < 21), 'arrival_time'] = 7\n",
        "train.loc[train['hour_arrival'] >= 21 , 'arrival_time'] = 8\n",
        "\n",
        "test.loc[(test['hour_arrival'] >= 0) & (test['hour_arrival'] < 3), 'arrival_time'] = 1\n",
        "test.loc[(test['hour_arrival'] >= 3) & (test['hour_arrival'] < 6), 'arrival_time'] = 2\n",
        "test.loc[(test['hour_arrival'] >= 6) & (test['hour_arrival'] < 9), 'arrival_time'] = 3\n",
        "test.loc[(test['hour_arrival'] >= 9) & (test['hour_arrival'] < 12), 'arrival_time'] = 4\n",
        "test.loc[(test['hour_arrival'] >= 12) & (test['hour_arrival'] < 15), 'arrival_time'] = 5\n",
        "test.loc[(test['hour_arrival'] >= 15) & (test['hour_arrival'] < 18), 'arrival_time'] = 6\n",
        "test.loc[(test['hour_arrival'] >= 18) & (test['hour_arrival'] < 21), 'arrival_time'] = 7\n",
        "test.loc[test['hour_arrival'] >= 21,'arrival_time'] = 8\n"
      ],
      "metadata": {
        "id": "tkajUioHcwVN"
      },
      "execution_count": null,
      "outputs": []
    },
    {
      "cell_type": "code",
      "source": [
        "#불필요한 행 제거 ,'hour_de', 'hour_arrival'\n",
        "train = train.drop(['Estimated_Departure_Time', 'Estimated_Arrival_Time', 'Day_of_Month','Tail_Number','hour_de', 'hour_arrival', 'minute_de', 'minute_arrival'], axis = 1)\n",
        "test = test.drop(['Estimated_Departure_Time','Estimated_Arrival_Time', 'Day_of_Month', 'Tail_Number','hour_de', 'hour_arrival','minute_de', 'minute_arrival'], axis = 1)\n"
      ],
      "metadata": {
        "id": "OTS4VtvmcwtG"
      },
      "execution_count": null,
      "outputs": []
    },
    {
      "cell_type": "markdown",
      "source": [
        "## 4) 범주화\n",
        "이산형변수 값 많은 것 > 빈도형 더미화\\\n",
        "아닌변수 > get_dummies"
      ],
      "metadata": {
        "id": "c-rZ3HNhd7zW"
      }
    },
    {
      "cell_type": "markdown",
      "source": [
        "### 1) 빈도형 더미화\n",
        "'Origin_Airport', 'Origin_State', 'Destination_Airport', 'Destination_State', 'Airline', 'Carrier_ID(DOT)'"
      ],
      "metadata": {
        "id": "tJdPNh0LGyyW"
      }
    },
    {
      "cell_type": "code",
      "source": [
        "target = 'Delay'\n",
        "X = train.drop(target, axis = 1)\n",
        "y = train[target]"
      ],
      "metadata": {
        "id": "VrrUIir_ERHY"
      },
      "execution_count": null,
      "outputs": []
    },
    {
      "cell_type": "code",
      "source": [
        "df = pd.concat([X,test], axis = 0)\n",
        "FEdf = df.loc[:,['Origin_Airport', 'Origin_State',\n",
        "       'Destination_Airport', 'Destination_State', 'Airline',\n",
        "       'Carrier_ID(DOT)']]\n",
        "x_train_fe = X.loc[:,['Origin_Airport', 'Origin_State',\n",
        "       'Destination_Airport', 'Destination_State', 'Airline',\n",
        "       'Carrier_ID(DOT)']]\n",
        "test_fe = test.loc[:, ['Origin_Airport', 'Origin_State',\n",
        "       'Destination_Airport', 'Destination_State', 'Airline',\n",
        "       'Carrier_ID(DOT)']]\n",
        "for col in FEdf.columns:\n",
        "    freq = FEdf[col].value_counts()\n",
        "    x_train_fe[col] = x_train_fe[col].map(freq)\n",
        "    test_fe[col] = test_fe[col].map(freq)"
      ],
      "metadata": {
        "id": "OH5IKFhed6HZ"
      },
      "execution_count": null,
      "outputs": []
    },
    {
      "cell_type": "code",
      "source": [
        "test_fe_y = test.loc[:,['Month','Distance', 'total_time', 'departure_time', 'arrival_time']].reset_index()\n",
        "test_z = pd.merge(test_fe_y, test_fe.reset_index(), on= 'index', how = 'inner')\n",
        "test_z = test_z.drop('index', axis = 1)\n",
        "\n",
        "x_train_fe_y = X.loc[:,['Month','Distance', 'total_time','departure_time', 'arrival_time']].reset_index()\n",
        "x_train_fe= pd.merge(x_train_fe_y, x_train_fe.reset_index(), on= 'index', how = 'inner')\n",
        "x_train_z = x_train_fe.drop('index', axis = 1)"
      ],
      "metadata": {
        "id": "fIc1pbEld-hd"
      },
      "execution_count": null,
      "outputs": []
    },
    {
      "cell_type": "markdown",
      "source": [
        "### 2) one-hot encoding\n",
        "'Month','departure_time', 'arrival_time'"
      ],
      "metadata": {
        "id": "R5PqcnJHIqAr"
      }
    },
    {
      "cell_type": "code",
      "source": [
        "a = 'Month','departure_time', 'arrival_time'\n",
        "train_dummy = X.loc[:, a]\n",
        "train_dummy = train_dummy.astype(str)\n",
        "train_dummy = pd.get_dummies(train_dummy, drop_first= True).reset_index()\n",
        "test_dummy = test.loc[:, a]\n",
        "test_dummy = test_dummy.astype(str)\n",
        "test_dummy = pd.get_dummies(test_dummy, drop_first= True).reset_index()\n",
        "\n",
        "test_fe_y = test.drop(['Month','departure_time', 'arrival_time'], axis = 1).reset_index()\n",
        "x_train_fe_y = X.drop(['Month','departure_time', 'arrival_time'], axis = 1).reset_index()\n",
        "x_train_k = pd.merge(x_train_fe_y, train_dummy, on= 'index', how = 'inner')\n",
        "test_k = pd.merge(test_fe_y, test_dummy, on= 'index', how = 'inner')\n",
        "\n",
        "x_train_k = x_train_k.drop('index', axis = 1)\n",
        "test_k = test_k.drop('index', axis = 1)"
      ],
      "metadata": {
        "id": "HTTFppOeeBUk"
      },
      "execution_count": null,
      "outputs": []
    },
    {
      "cell_type": "markdown",
      "source": [
        "## 5) 정규화"
      ],
      "metadata": {
        "id": "q42rjd42N98j"
      }
    },
    {
      "cell_type": "markdown",
      "source": [
        "### 1) MinMaxScaler"
      ],
      "metadata": {
        "id": "lGs-edESNBwP"
      }
    },
    {
      "cell_type": "code",
      "source": [
        "from sklearn.preprocessing import MinMaxScaler\n",
        "scaler = MinMaxScaler()\n",
        "\n",
        "columns_train = list(x_train_k)\n",
        "columns_test = list(test_k)\n",
        "\n",
        "x_train_s = scaler.fit_transform(x_train_k)\n",
        "test_s = scaler.transform(test_k)\n",
        "\n",
        "x_train_k = pd.DataFrame(x_train_s, columns = columns_train)\n",
        "test_k = pd.DataFrame(test_s, columns = columns_test)"
      ],
      "metadata": {
        "id": "XA766QxaeLOc"
      },
      "execution_count": null,
      "outputs": []
    },
    {
      "cell_type": "markdown",
      "source": [
        "# 3. target 나누기"
      ],
      "metadata": {
        "id": "hbM3GVjedJU_"
      }
    },
    {
      "cell_type": "code",
      "source": [
        "train = pd.merge(x_train_k.reset_index(), y.reset_index(), on= 'index', how = 'inner')\n",
        "train = train.drop('index', axis = 1)"
      ],
      "metadata": {
        "id": "CFMBfQWrKLXW"
      },
      "execution_count": null,
      "outputs": []
    },
    {
      "cell_type": "code",
      "source": [
        "target = 'Delay'\n",
        "\n",
        "X = train.drop(target, axis = 1)\n",
        "y = train[target]\n",
        "#y= np.where((y == 'Not_Delayed'), 0 , 1)"
      ],
      "metadata": {
        "id": "gykCAUZLc9sH"
      },
      "execution_count": null,
      "outputs": []
    },
    {
      "cell_type": "code",
      "source": [
        "\n",
        "train_a = train.loc[(train['Delay'] == 'Not_Delayed') | (train['Delay'] == 'Delayed')]\n",
        "\n",
        "X_labeled = train_a.drop(target, axis = 1)\n",
        "y_labeled = train_a[target]\n",
        "\n",
        "train_b = train.loc[(train['Delay'] != 'Not_Delayed') & (train['Delay'] != 'Delayed')]\n",
        "\n",
        "X_unlabeled = train_b.drop(target, axis = 1)"
      ],
      "metadata": {
        "id": "0_nfmE0dv88Q"
      },
      "execution_count": null,
      "outputs": []
    },
    {
      "cell_type": "markdown",
      "source": [
        "# 4. Machin Learning\n"
      ],
      "metadata": {
        "id": "5NgQsy6LdPwg"
      }
    },
    {
      "cell_type": "markdown",
      "source": [
        "### 1) 비지도학습"
      ],
      "metadata": {
        "id": "HlqEMRX5HzYj"
      }
    },
    {
      "cell_type": "markdown",
      "source": [
        "import"
      ],
      "metadata": {
        "id": "DB0j4-ZaNWaV"
      }
    },
    {
      "cell_type": "code",
      "source": [
        "! pip install catboost"
      ],
      "metadata": {
        "colab": {
          "base_uri": "https://localhost:8080/"
        },
        "id": "hQ_UAx-bbFs-",
        "outputId": "806ca190-058d-44c1-9a12-ad022e53d57b"
      },
      "execution_count": null,
      "outputs": [
        {
          "output_type": "stream",
          "name": "stdout",
          "text": [
            "Looking in indexes: https://pypi.org/simple, https://us-python.pkg.dev/colab-wheels/public/simple/\n",
            "Collecting catboost\n",
            "  Downloading catboost-1.2-cp310-cp310-manylinux2014_x86_64.whl (98.6 MB)\n",
            "\u001b[2K     \u001b[90m━━━━━━━━━━━━━━━━━━━━━━━━━━━━━━━━━━━━━━━━\u001b[0m \u001b[32m98.6/98.6 MB\u001b[0m \u001b[31m10.8 MB/s\u001b[0m eta \u001b[36m0:00:00\u001b[0m\n",
            "\u001b[?25hRequirement already satisfied: graphviz in /usr/local/lib/python3.10/dist-packages (from catboost) (0.20.1)\n",
            "Requirement already satisfied: matplotlib in /usr/local/lib/python3.10/dist-packages (from catboost) (3.7.1)\n",
            "Requirement already satisfied: numpy>=1.16.0 in /usr/local/lib/python3.10/dist-packages (from catboost) (1.22.4)\n",
            "Requirement already satisfied: pandas>=0.24 in /usr/local/lib/python3.10/dist-packages (from catboost) (1.5.3)\n",
            "Requirement already satisfied: scipy in /usr/local/lib/python3.10/dist-packages (from catboost) (1.10.1)\n",
            "Requirement already satisfied: plotly in /usr/local/lib/python3.10/dist-packages (from catboost) (5.13.1)\n",
            "Requirement already satisfied: six in /usr/local/lib/python3.10/dist-packages (from catboost) (1.16.0)\n",
            "Requirement already satisfied: python-dateutil>=2.8.1 in /usr/local/lib/python3.10/dist-packages (from pandas>=0.24->catboost) (2.8.2)\n",
            "Requirement already satisfied: pytz>=2020.1 in /usr/local/lib/python3.10/dist-packages (from pandas>=0.24->catboost) (2022.7.1)\n",
            "Requirement already satisfied: contourpy>=1.0.1 in /usr/local/lib/python3.10/dist-packages (from matplotlib->catboost) (1.0.7)\n",
            "Requirement already satisfied: cycler>=0.10 in /usr/local/lib/python3.10/dist-packages (from matplotlib->catboost) (0.11.0)\n",
            "Requirement already satisfied: fonttools>=4.22.0 in /usr/local/lib/python3.10/dist-packages (from matplotlib->catboost) (4.39.3)\n",
            "Requirement already satisfied: kiwisolver>=1.0.1 in /usr/local/lib/python3.10/dist-packages (from matplotlib->catboost) (1.4.4)\n",
            "Requirement already satisfied: packaging>=20.0 in /usr/local/lib/python3.10/dist-packages (from matplotlib->catboost) (23.1)\n",
            "Requirement already satisfied: pillow>=6.2.0 in /usr/local/lib/python3.10/dist-packages (from matplotlib->catboost) (8.4.0)\n",
            "Requirement already satisfied: pyparsing>=2.3.1 in /usr/local/lib/python3.10/dist-packages (from matplotlib->catboost) (3.0.9)\n",
            "Requirement already satisfied: tenacity>=6.2.0 in /usr/local/lib/python3.10/dist-packages (from plotly->catboost) (8.2.2)\n",
            "Installing collected packages: catboost\n",
            "Successfully installed catboost-1.2\n"
          ]
        }
      ]
    },
    {
      "cell_type": "code",
      "source": [
        "from sklearn.semi_supervised import SelfTrainingClassifier\n",
        "from sklearn.ensemble import RandomForestClassifier\n",
        "from sklearn.model_selection import GridSearchCV\n",
        "from catboost import CatBoostClassifier\n",
        "from sklearn.svm import SVC\n"
      ],
      "metadata": {
        "id": "AjTf-shwa_m7"
      },
      "execution_count": null,
      "outputs": []
    },
    {
      "cell_type": "markdown",
      "source": [
        "#### 1. RandomForest"
      ],
      "metadata": {
        "id": "ctPmXlxrK8YD"
      }
    },
    {
      "cell_type": "code",
      "source": [
        "\n",
        "# SelfTrainingClassifier 모델을 초기화합니다.\n",
        "model = SelfTrainingClassifier(\n",
        "    RandomForestClassifier(),\n",
        "    max_iter=50,\n",
        "    threshold=0.9,\n",
        "    verbose=True\n",
        ")\n",
        "\n",
        "# 초기 레이블링 데이터셋으로 모델을 학습시킵니다.\n",
        "model.fit(X_labeled, y_labeled)\n",
        "\n"
      ],
      "metadata": {
        "id": "TT50ZrtXdRIE",
        "colab": {
          "base_uri": "https://localhost:8080/",
          "height": 117
        },
        "outputId": "2af46908-bdc7-4bfb-990e-7502b3ab6901"
      },
      "execution_count": null,
      "outputs": [
        {
          "output_type": "execute_result",
          "data": {
            "text/plain": [
              "SelfTrainingClassifier(base_estimator=RandomForestClassifier(), max_iter=50,\n",
              "                       threshold=0.9, verbose=True)"
            ],
            "text/html": [
              "<style>#sk-container-id-1 {color: black;background-color: white;}#sk-container-id-1 pre{padding: 0;}#sk-container-id-1 div.sk-toggleable {background-color: white;}#sk-container-id-1 label.sk-toggleable__label {cursor: pointer;display: block;width: 100%;margin-bottom: 0;padding: 0.3em;box-sizing: border-box;text-align: center;}#sk-container-id-1 label.sk-toggleable__label-arrow:before {content: \"▸\";float: left;margin-right: 0.25em;color: #696969;}#sk-container-id-1 label.sk-toggleable__label-arrow:hover:before {color: black;}#sk-container-id-1 div.sk-estimator:hover label.sk-toggleable__label-arrow:before {color: black;}#sk-container-id-1 div.sk-toggleable__content {max-height: 0;max-width: 0;overflow: hidden;text-align: left;background-color: #f0f8ff;}#sk-container-id-1 div.sk-toggleable__content pre {margin: 0.2em;color: black;border-radius: 0.25em;background-color: #f0f8ff;}#sk-container-id-1 input.sk-toggleable__control:checked~div.sk-toggleable__content {max-height: 200px;max-width: 100%;overflow: auto;}#sk-container-id-1 input.sk-toggleable__control:checked~label.sk-toggleable__label-arrow:before {content: \"▾\";}#sk-container-id-1 div.sk-estimator input.sk-toggleable__control:checked~label.sk-toggleable__label {background-color: #d4ebff;}#sk-container-id-1 div.sk-label input.sk-toggleable__control:checked~label.sk-toggleable__label {background-color: #d4ebff;}#sk-container-id-1 input.sk-hidden--visually {border: 0;clip: rect(1px 1px 1px 1px);clip: rect(1px, 1px, 1px, 1px);height: 1px;margin: -1px;overflow: hidden;padding: 0;position: absolute;width: 1px;}#sk-container-id-1 div.sk-estimator {font-family: monospace;background-color: #f0f8ff;border: 1px dotted black;border-radius: 0.25em;box-sizing: border-box;margin-bottom: 0.5em;}#sk-container-id-1 div.sk-estimator:hover {background-color: #d4ebff;}#sk-container-id-1 div.sk-parallel-item::after {content: \"\";width: 100%;border-bottom: 1px solid gray;flex-grow: 1;}#sk-container-id-1 div.sk-label:hover label.sk-toggleable__label {background-color: #d4ebff;}#sk-container-id-1 div.sk-serial::before {content: \"\";position: absolute;border-left: 1px solid gray;box-sizing: border-box;top: 0;bottom: 0;left: 50%;z-index: 0;}#sk-container-id-1 div.sk-serial {display: flex;flex-direction: column;align-items: center;background-color: white;padding-right: 0.2em;padding-left: 0.2em;position: relative;}#sk-container-id-1 div.sk-item {position: relative;z-index: 1;}#sk-container-id-1 div.sk-parallel {display: flex;align-items: stretch;justify-content: center;background-color: white;position: relative;}#sk-container-id-1 div.sk-item::before, #sk-container-id-1 div.sk-parallel-item::before {content: \"\";position: absolute;border-left: 1px solid gray;box-sizing: border-box;top: 0;bottom: 0;left: 50%;z-index: -1;}#sk-container-id-1 div.sk-parallel-item {display: flex;flex-direction: column;z-index: 1;position: relative;background-color: white;}#sk-container-id-1 div.sk-parallel-item:first-child::after {align-self: flex-end;width: 50%;}#sk-container-id-1 div.sk-parallel-item:last-child::after {align-self: flex-start;width: 50%;}#sk-container-id-1 div.sk-parallel-item:only-child::after {width: 0;}#sk-container-id-1 div.sk-dashed-wrapped {border: 1px dashed gray;margin: 0 0.4em 0.5em 0.4em;box-sizing: border-box;padding-bottom: 0.4em;background-color: white;}#sk-container-id-1 div.sk-label label {font-family: monospace;font-weight: bold;display: inline-block;line-height: 1.2em;}#sk-container-id-1 div.sk-label-container {text-align: center;}#sk-container-id-1 div.sk-container {/* jupyter's `normalize.less` sets `[hidden] { display: none; }` but bootstrap.min.css set `[hidden] { display: none !important; }` so we also need the `!important` here to be able to override the default hidden behavior on the sphinx rendered scikit-learn.org. See: https://github.com/scikit-learn/scikit-learn/issues/21755 */display: inline-block !important;position: relative;}#sk-container-id-1 div.sk-text-repr-fallback {display: none;}</style><div id=\"sk-container-id-1\" class=\"sk-top-container\"><div class=\"sk-text-repr-fallback\"><pre>SelfTrainingClassifier(base_estimator=RandomForestClassifier(), max_iter=50,\n",
              "                       threshold=0.9, verbose=True)</pre><b>In a Jupyter environment, please rerun this cell to show the HTML representation or trust the notebook. <br />On GitHub, the HTML representation is unable to render, please try loading this page with nbviewer.org.</b></div><div class=\"sk-container\" hidden><div class=\"sk-item sk-dashed-wrapped\"><div class=\"sk-label-container\"><div class=\"sk-label sk-toggleable\"><input class=\"sk-toggleable__control sk-hidden--visually\" id=\"sk-estimator-id-1\" type=\"checkbox\" ><label for=\"sk-estimator-id-1\" class=\"sk-toggleable__label sk-toggleable__label-arrow\">SelfTrainingClassifier</label><div class=\"sk-toggleable__content\"><pre>SelfTrainingClassifier(base_estimator=RandomForestClassifier(), max_iter=50,\n",
              "                       threshold=0.9, verbose=True)</pre></div></div></div><div class=\"sk-parallel\"><div class=\"sk-parallel-item\"><div class=\"sk-item\"><div class=\"sk-label-container\"><div class=\"sk-label sk-toggleable\"><input class=\"sk-toggleable__control sk-hidden--visually\" id=\"sk-estimator-id-2\" type=\"checkbox\" ><label for=\"sk-estimator-id-2\" class=\"sk-toggleable__label sk-toggleable__label-arrow\">base_estimator: RandomForestClassifier</label><div class=\"sk-toggleable__content\"><pre>RandomForestClassifier()</pre></div></div></div><div class=\"sk-serial\"><div class=\"sk-item\"><div class=\"sk-estimator sk-toggleable\"><input class=\"sk-toggleable__control sk-hidden--visually\" id=\"sk-estimator-id-3\" type=\"checkbox\" ><label for=\"sk-estimator-id-3\" class=\"sk-toggleable__label sk-toggleable__label-arrow\">RandomForestClassifier</label><div class=\"sk-toggleable__content\"><pre>RandomForestClassifier()</pre></div></div></div></div></div></div></div></div></div></div>"
            ]
          },
          "metadata": {},
          "execution_count": 20
        }
      ]
    },
    {
      "cell_type": "code",
      "source": [
        "# 모델을 사용하여 예측합니다.\n",
        "X_unlabeled['Delay_pred'] = model.predict(X_unlabeled)\n"
      ],
      "metadata": {
        "id": "2V0yuv3tLTOZ"
      },
      "execution_count": null,
      "outputs": []
    },
    {
      "cell_type": "code",
      "source": [
        "# train_lb의 'Delay'칼럼값이 -1인 레이블값 예측값으로 채우기\n",
        "for i in range(len(X_unlabeled)):\n",
        "  row_index=X_unlabeled['Delay_pred'].index[i]\n",
        "  train.loc[row_index,'Delay']=X_unlabeled['Delay_pred'].iloc[i]"
      ],
      "metadata": {
        "id": "7JkzQ2rUb7y8"
      },
      "execution_count": null,
      "outputs": []
    },
    {
      "cell_type": "markdown",
      "source": [
        "#### CatBoost"
      ],
      "metadata": {
        "id": "fNzQmoIaOH_x"
      }
    },
    {
      "cell_type": "markdown",
      "source": [
        "###### gridsearch"
      ],
      "metadata": {
        "id": "xNrMzGtRVY91"
      }
    },
    {
      "cell_type": "code",
      "source": [
        "\n",
        "# Define the SelfTrainingClassifier\n",
        "model = SelfTrainingClassifier( CatBoostClassifier())\n",
        "\n",
        "# Define the parameter grid for grid search\n",
        "param_grid = {\n",
        "    'max_iter': range(30,100),\n",
        "    'threshold': (0.3, 1.1, 0.1),\n",
        "}\n",
        "\n",
        "# Define the GridSearchCV object\n",
        "grid_search = GridSearchCV(\n",
        "    estimator=model,\n",
        "    param_grid=param_grid,\n",
        "    scoring='f1_macro',  # or other appropriate scoring metric\n",
        "    cv=5\n",
        ")\n",
        "\n",
        "# Fit the GridSearchCV object to the data\n",
        "grid_search.fit(X_labeled, y_labeled)\n"
      ],
      "metadata": {
        "id": "jbWdLn0tVmKK"
      },
      "execution_count": null,
      "outputs": []
    },
    {
      "cell_type": "code",
      "source": [
        "# 모델을 사용하여 예측\n",
        "X_unlabeled['Delay_pred'] = grid_search.predict(X_unlabeled)\n"
      ],
      "metadata": {
        "id": "aMpkgJVcmxDP"
      },
      "execution_count": null,
      "outputs": []
    },
    {
      "cell_type": "code",
      "source": [
        "from sklearn.semi_supervised import SelfTrainingClassifier\n",
        "from catboost import CatBoostClassifier\n",
        "\n",
        "\n",
        "# SelfTrainingClassifier 모델을 초기화합니다.\n",
        "model = SelfTrainingClassifier(\n",
        "    CatBoostClassifier(),\n",
        "    max_iter=50,\n",
        "    threshold=0.9,\n",
        "    verbose=True\n",
        ")\n",
        "\n",
        "# 초기 레이블링 데이터셋으로 모델을 학습시킵니다.\n",
        "model.fit(X_labeled, y_labeled)\n"
      ],
      "metadata": {
        "id": "cm2sx5dMdkV3"
      },
      "execution_count": null,
      "outputs": []
    },
    {
      "cell_type": "code",
      "source": [
        "# 모델을 사용하여 예측\n",
        "X_unlabeled['Delay_pred'] = model.predict(X_unlabeled)\n"
      ],
      "metadata": {
        "id": "W4Bedc6aMedj"
      },
      "execution_count": null,
      "outputs": []
    },
    {
      "cell_type": "code",
      "source": [
        "# train_lb의 'Delay'칼럼값이 -1인 레이블값 예측값으로 채우기\n",
        "for i in range(len(X_unlabeled)):\n",
        "  row_index=X_unlabeled['Delay_pred'].index[i]\n",
        "  train.loc[row_index,'Delay']=X_unlabeled['Delay_pred'].iloc[i]"
      ],
      "metadata": {
        "id": "wiiIt-RZdkzE"
      },
      "execution_count": null,
      "outputs": []
    },
    {
      "cell_type": "markdown",
      "source": [
        "#### SVC"
      ],
      "metadata": {
        "id": "J9THJ0RDbKlS"
      }
    },
    {
      "cell_type": "code",
      "source": [
        "# SelfTrainingClassifier 모델을 초기화합니다.\n",
        "model = SelfTrainingClassifier(\n",
        "    SVC(),\n",
        "    max_iter=50,\n",
        "    threshold=0.9,\n",
        "    verbose=True\n",
        ")\n",
        "\n",
        "# 초기 레이블링 데이터셋으로 모델을 학습시킵니다.\n",
        "model.fit(X_labeled, y_labeled)\n"
      ],
      "metadata": {
        "id": "0GlFpQRBFDhI"
      },
      "execution_count": null,
      "outputs": []
    },
    {
      "cell_type": "code",
      "source": [
        "# 모델을 사용하여 예측\n",
        "X_unlabeled['Delay_pred'] = model.predict(X_unlabeled)\n"
      ],
      "metadata": {
        "id": "lDzflybyFaJL"
      },
      "execution_count": null,
      "outputs": []
    },
    {
      "cell_type": "code",
      "source": [
        "# train_lb의 'Delay'칼럼값이 -1인 레이블값 예측값으로 채우기\n",
        "for i in range(len(X_unlabeled)):\n",
        "  row_index=X_unlabeled['Delay_pred'].index[i]\n",
        "  train.loc[row_index,'Delay']=X_unlabeled['Delay_pred'].iloc[i]"
      ],
      "metadata": {
        "id": "EDBPaXdJFbWd"
      },
      "execution_count": null,
      "outputs": []
    },
    {
      "cell_type": "markdown",
      "source": [
        "### 2) oversampling"
      ],
      "metadata": {
        "id": "_nU8-VjcLOww"
      }
    },
    {
      "cell_type": "code",
      "source": [
        "x_train = train.drop('Delay', axis = 1)\n",
        "y_train = train['Delay']"
      ],
      "metadata": {
        "id": "C-RdVeLENhos"
      },
      "execution_count": null,
      "outputs": []
    },
    {
      "cell_type": "code",
      "source": [
        "\n",
        "from sklearn.preprocessing import LabelEncoder\n",
        "\n",
        "le = LabelEncoder()\n",
        "\n",
        "y_train = le.fit_transform(y_train)\n"
      ],
      "metadata": {
        "id": "7fzXfdRPdvTT"
      },
      "execution_count": null,
      "outputs": []
    },
    {
      "cell_type": "code",
      "source": [
        "pd.Series(y_train).value_counts()# 0 : Delayed, 1: Not_Delayed"
      ],
      "metadata": {
        "colab": {
          "base_uri": "https://localhost:8080/"
        },
        "id": "F3zzxcXkbdCL",
        "outputId": "5beda958-0ded-4657-b227-561abe9f1c74"
      },
      "execution_count": null,
      "outputs": [
        {
          "output_type": "execute_result",
          "data": {
            "text/plain": [
              "1    890310\n",
              "0     98002\n",
              "dtype: int64"
            ]
          },
          "metadata": {},
          "execution_count": 37
        }
      ]
    },
    {
      "cell_type": "code",
      "source": [
        "from imblearn.over_sampling import SMOTE\n",
        "smote = SMOTE()\n",
        "s_x_train, s_y_train = smote.fit_resample(x_train, y_train)\n",
        "\n",
        "\n",
        "print('전 : ', np.bincount(y_train))\n",
        "print('후 : ', np.bincount(s_y_train))"
      ],
      "metadata": {
        "id": "xybr6T1weR9c",
        "colab": {
          "base_uri": "https://localhost:8080/"
        },
        "outputId": "d029b1c7-deb2-406d-b1a1-7e23df10b827"
      },
      "execution_count": null,
      "outputs": [
        {
          "output_type": "stream",
          "name": "stdout",
          "text": [
            "전 :  [ 98002 890310]\n",
            "후 :  [890310 890310]\n"
          ]
        }
      ]
    },
    {
      "cell_type": "markdown",
      "source": [
        "## 3) pca"
      ],
      "metadata": {
        "id": "rmgT6yG6HVUp"
      }
    },
    {
      "cell_type": "code",
      "source": [
        "from sklearn.decomposition import PCA\n",
        "\n",
        "pca = PCA()\n",
        "pca.fit(s_x_train)\n",
        "\n",
        "variance_ratio = pca.explained_variance_ratio_\n",
        "\n",
        "print(variance_ratio)\n",
        "\n"
      ],
      "metadata": {
        "id": "0fAZRb2VHG7N"
      },
      "execution_count": null,
      "outputs": []
    },
    {
      "cell_type": "code",
      "source": [
        "pca = PCA(n_components=2)\n",
        "train_pca = pca.fit_transform(s_x_train)\n",
        "\n",
        "# test 데이터에 대해 PCA 변환을 수행합니다.\n",
        "test_pca = pca.transform(test)\n",
        "\n",
        "train_pca = pd.DataFrame(train_pca)\n",
        "test_pca = pd.DataFrame(test_pca)\n",
        "\n",
        "X = train_pca.values\n",
        "test_k= test_pca.values"
      ],
      "metadata": {
        "id": "g2qPALRCHUjb"
      },
      "execution_count": null,
      "outputs": []
    },
    {
      "cell_type": "markdown",
      "source": [
        "## 4) 지도학습"
      ],
      "metadata": {
        "id": "dJknydqgeVE7"
      }
    },
    {
      "cell_type": "markdown",
      "source": [
        "### 1) Cat Boost"
      ],
      "metadata": {
        "id": "Th2P68-bVIQK"
      }
    },
    {
      "cell_type": "code",
      "source": [
        "from catboost import CatBoostClassifier\n",
        "from sklearn.linear_model import LogisticRegression"
      ],
      "metadata": {
        "id": "phxuDjtudug3"
      },
      "execution_count": null,
      "outputs": []
    },
    {
      "cell_type": "code",
      "source": [
        "cat = CatBoostClassifier()\n",
        "\n",
        "cat.fit(s_x_train, s_y_train)"
      ],
      "metadata": {
        "id": "qX_k0pL3eV7g"
      },
      "execution_count": null,
      "outputs": []
    },
    {
      "cell_type": "code",
      "source": [
        "y_pred_cat = cat.predict_proba(test_k)"
      ],
      "metadata": {
        "id": "sRsDtoUteWn7"
      },
      "execution_count": null,
      "outputs": []
    },
    {
      "cell_type": "markdown",
      "source": [
        "### 2)  Logistic Regression"
      ],
      "metadata": {
        "id": "HD441En0VENH"
      }
    },
    {
      "cell_type": "code",
      "source": [
        "lr = LogisticRegression()\n",
        "lr.fit(s_x_train, s_y_train)"
      ],
      "metadata": {
        "id": "WRA5ua2pER5O",
        "colab": {
          "base_uri": "https://localhost:8080/",
          "height": 74
        },
        "outputId": "d5d09bb7-2f7b-4fd0-9ecf-8a8776c740d0"
      },
      "execution_count": null,
      "outputs": [
        {
          "output_type": "execute_result",
          "data": {
            "text/plain": [
              "LogisticRegression()"
            ],
            "text/html": [
              "<style>#sk-container-id-2 {color: black;background-color: white;}#sk-container-id-2 pre{padding: 0;}#sk-container-id-2 div.sk-toggleable {background-color: white;}#sk-container-id-2 label.sk-toggleable__label {cursor: pointer;display: block;width: 100%;margin-bottom: 0;padding: 0.3em;box-sizing: border-box;text-align: center;}#sk-container-id-2 label.sk-toggleable__label-arrow:before {content: \"▸\";float: left;margin-right: 0.25em;color: #696969;}#sk-container-id-2 label.sk-toggleable__label-arrow:hover:before {color: black;}#sk-container-id-2 div.sk-estimator:hover label.sk-toggleable__label-arrow:before {color: black;}#sk-container-id-2 div.sk-toggleable__content {max-height: 0;max-width: 0;overflow: hidden;text-align: left;background-color: #f0f8ff;}#sk-container-id-2 div.sk-toggleable__content pre {margin: 0.2em;color: black;border-radius: 0.25em;background-color: #f0f8ff;}#sk-container-id-2 input.sk-toggleable__control:checked~div.sk-toggleable__content {max-height: 200px;max-width: 100%;overflow: auto;}#sk-container-id-2 input.sk-toggleable__control:checked~label.sk-toggleable__label-arrow:before {content: \"▾\";}#sk-container-id-2 div.sk-estimator input.sk-toggleable__control:checked~label.sk-toggleable__label {background-color: #d4ebff;}#sk-container-id-2 div.sk-label input.sk-toggleable__control:checked~label.sk-toggleable__label {background-color: #d4ebff;}#sk-container-id-2 input.sk-hidden--visually {border: 0;clip: rect(1px 1px 1px 1px);clip: rect(1px, 1px, 1px, 1px);height: 1px;margin: -1px;overflow: hidden;padding: 0;position: absolute;width: 1px;}#sk-container-id-2 div.sk-estimator {font-family: monospace;background-color: #f0f8ff;border: 1px dotted black;border-radius: 0.25em;box-sizing: border-box;margin-bottom: 0.5em;}#sk-container-id-2 div.sk-estimator:hover {background-color: #d4ebff;}#sk-container-id-2 div.sk-parallel-item::after {content: \"\";width: 100%;border-bottom: 1px solid gray;flex-grow: 1;}#sk-container-id-2 div.sk-label:hover label.sk-toggleable__label {background-color: #d4ebff;}#sk-container-id-2 div.sk-serial::before {content: \"\";position: absolute;border-left: 1px solid gray;box-sizing: border-box;top: 0;bottom: 0;left: 50%;z-index: 0;}#sk-container-id-2 div.sk-serial {display: flex;flex-direction: column;align-items: center;background-color: white;padding-right: 0.2em;padding-left: 0.2em;position: relative;}#sk-container-id-2 div.sk-item {position: relative;z-index: 1;}#sk-container-id-2 div.sk-parallel {display: flex;align-items: stretch;justify-content: center;background-color: white;position: relative;}#sk-container-id-2 div.sk-item::before, #sk-container-id-2 div.sk-parallel-item::before {content: \"\";position: absolute;border-left: 1px solid gray;box-sizing: border-box;top: 0;bottom: 0;left: 50%;z-index: -1;}#sk-container-id-2 div.sk-parallel-item {display: flex;flex-direction: column;z-index: 1;position: relative;background-color: white;}#sk-container-id-2 div.sk-parallel-item:first-child::after {align-self: flex-end;width: 50%;}#sk-container-id-2 div.sk-parallel-item:last-child::after {align-self: flex-start;width: 50%;}#sk-container-id-2 div.sk-parallel-item:only-child::after {width: 0;}#sk-container-id-2 div.sk-dashed-wrapped {border: 1px dashed gray;margin: 0 0.4em 0.5em 0.4em;box-sizing: border-box;padding-bottom: 0.4em;background-color: white;}#sk-container-id-2 div.sk-label label {font-family: monospace;font-weight: bold;display: inline-block;line-height: 1.2em;}#sk-container-id-2 div.sk-label-container {text-align: center;}#sk-container-id-2 div.sk-container {/* jupyter's `normalize.less` sets `[hidden] { display: none; }` but bootstrap.min.css set `[hidden] { display: none !important; }` so we also need the `!important` here to be able to override the default hidden behavior on the sphinx rendered scikit-learn.org. See: https://github.com/scikit-learn/scikit-learn/issues/21755 */display: inline-block !important;position: relative;}#sk-container-id-2 div.sk-text-repr-fallback {display: none;}</style><div id=\"sk-container-id-2\" class=\"sk-top-container\"><div class=\"sk-text-repr-fallback\"><pre>LogisticRegression()</pre><b>In a Jupyter environment, please rerun this cell to show the HTML representation or trust the notebook. <br />On GitHub, the HTML representation is unable to render, please try loading this page with nbviewer.org.</b></div><div class=\"sk-container\" hidden><div class=\"sk-item\"><div class=\"sk-estimator sk-toggleable\"><input class=\"sk-toggleable__control sk-hidden--visually\" id=\"sk-estimator-id-4\" type=\"checkbox\" checked><label for=\"sk-estimator-id-4\" class=\"sk-toggleable__label sk-toggleable__label-arrow\">LogisticRegression</label><div class=\"sk-toggleable__content\"><pre>LogisticRegression()</pre></div></div></div></div></div>"
            ]
          },
          "metadata": {},
          "execution_count": 41
        }
      ]
    },
    {
      "cell_type": "code",
      "source": [
        "y_pred_lr = lr.predict_proba(test_k)"
      ],
      "metadata": {
        "id": "6rmBsYzwVAK0"
      },
      "execution_count": null,
      "outputs": []
    },
    {
      "cell_type": "markdown",
      "source": [
        "### 3) gridsearch(cat_boost)"
      ],
      "metadata": {
        "id": "Uc7fTb3KVTf3"
      }
    },
    {
      "cell_type": "code",
      "source": [
        "parameters = {'depth'         : [4,5,6,7,8,9, 10],\n",
        "                'learning_rate' : [0.01,0.02,0.03,0.04],\n",
        "                'iterations'    : [10, 20,30,40,50,60,70,80,90, 100]\n",
        "                 }\n",
        "cat = CatBoostClassifier()\n",
        "\n",
        "cat_grid = GridSearchCV(cat, param_grid = parameters, cv = 2, n_jobs=-1)\n",
        "cat_grid.fit(s_x_train, s_y_train)"
      ],
      "metadata": {
        "id": "pL14w23IU5AN"
      },
      "execution_count": null,
      "outputs": []
    },
    {
      "cell_type": "code",
      "source": [
        "y_pred_cat_grid = cat_grid.predict_proba(test_k)"
      ],
      "metadata": {
        "id": "93HA0mFQVDYn"
      },
      "execution_count": null,
      "outputs": []
    },
    {
      "cell_type": "markdown",
      "source": [
        "# 제출"
      ],
      "metadata": {
        "id": "VpSLHvEeeaVO"
      }
    },
    {
      "cell_type": "code",
      "source": [
        "submission = pd.DataFrame(data=y_pred_lr, columns=sample_submission.columns, index=sample_submission.index)"
      ],
      "metadata": {
        "id": "uBJZXYJ5eZT4"
      },
      "execution_count": null,
      "outputs": []
    },
    {
      "cell_type": "code",
      "source": [
        "submission.to_csv('./submission.csv', index=True)"
      ],
      "metadata": {
        "id": "ExCpqHyJeeG5"
      },
      "execution_count": null,
      "outputs": []
    },
    {
      "cell_type": "code",
      "source": [],
      "metadata": {
        "id": "CYhKvGbI3RJC"
      },
      "execution_count": null,
      "outputs": []
    }
  ]
}
